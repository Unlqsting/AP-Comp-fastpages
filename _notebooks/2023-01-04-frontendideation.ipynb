{
 "cells": [
  {
   "attachments": {},
   "cell_type": "markdown",
   "metadata": {},
   "source": [
    "# Frontend (mostly) ideation\n",
    "> this blog talks about the plans for our CTP. It will mostly dicuss the frontend development with a touch on the group roles/responsibilities.\n",
    "- title: CTP Ideation\n",
    "- toc: true\n",
    "- badges: true\n",
    "- categories: [CTP(tri2), planning(tri2), hacks(tri2)]"
   ]
  },
  {
   "attachments": {},
   "cell_type": "markdown",
   "metadata": {},
   "source": [
    "## Frontend ideation:\n",
    "\n",
    "We plan on making a convienient exercise tracker web-app. We will do this by implementing wearable integration, user personalization, goal setting, weather-based activity suggestions, meal planning, and exercise tracking. \n",
    "\n",
    "- Wearable integration: We will integrate fitness watches from fitbit, apple, and samsung. This will most likely be done through an API. I am incharge of the frontend therefore I will have the interactive features to code. \n",
    "\n",
    "- user personalization: This will include exercise suggestions based on the users height, weight, BMI, age, and gender.\n",
    "\n",
    "- goal setting: This will include the user to prompt realistic goals for themselves in order to improve\n",
    "\n",
    "- Weather-based activity suggestions: This will be made through a weather api. For example, if the weather api sends the data back to the caller and the data says that today will be a rainy day, then the suggestion will be to do a home workout. \n",
    "\n",
    "- meal planning: based on the users personalized data. User will be categorized into bulk, cut, or maingain and will be given the meal suggestions based on this. \n",
    "\n",
    "- Exercise tracking: This will track the users exercise activity. It will have a database of a lot of exercises and their average calories burned/min, and other info. \n"
   ]
  }
 ],
 "metadata": {
  "kernelspec": {
   "display_name": "Python 3",
   "language": "python",
   "name": "python3"
  },
  "language_info": {
   "name": "python",
   "version": "3.8.10 (default, Jun 22 2022, 20:18:18) \n[GCC 9.4.0]"
  },
  "orig_nbformat": 4,
  "vscode": {
   "interpreter": {
    "hash": "916dbcbb3f70747c44a77c7bcd40155683ae19c65e1c03b4aa3499c5328201f1"
   }
  }
 },
 "nbformat": 4,
 "nbformat_minor": 2
}
