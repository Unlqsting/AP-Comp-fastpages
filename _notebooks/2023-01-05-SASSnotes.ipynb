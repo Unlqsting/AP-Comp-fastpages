{
 "cells": [
  {
   "attachments": {},
   "cell_type": "markdown",
   "metadata": {},
   "source": [
    "# SASS notes\n",
    "> this blog contains the notes for the SASS video. It includes creating a SCSS file, vendor prefixes, variables, nesting, complex nesting, code modularity, Mixins, and calculations.\n",
    "- title: SASS Notes\n",
    "- toc: true\n",
    "- badges: true\n",
    "- categories: [CTP(tri2), planning(tri2), hacks(tri2)]"
   ]
  },
  {
   "attachments": {},
   "cell_type": "markdown",
   "metadata": {},
   "source": [
    "# SCSS Files\n",
    "\n",
    "To create a SCSS file, you can make a styles folder and add a .scss file to it"
   ]
  },
  {
   "attachments": {},
   "cell_type": "markdown",
   "metadata": {},
   "source": [
    "# Vendor prefixes\n",
    "\n",
    "After writing some css code, you can click the watch SASS button in the bottom. This creates the css file. You can then link the css file in the html file. If you use css features such as flexbox, there can be trouble if the user is on mobile. SASS automatically creates the prefixes to solve that problem (when you generate the css file)"
   ]
  },
  {
   "attachments": {},
   "cell_type": "markdown",
   "metadata": {},
   "source": [
    "# Creating variables\n",
    "\n",
    "Variables can be created using the dollar sign ($)\n",
    "\n",
    "For example: \n",
    "```\n",
    "    $siteButton: black;\n",
    "```\n",
    "Making variables can make you more efficient when developing a UI. Normally, if you wanted to change something like color, you would have to go through the entire code and change the color manually. Using SASS variables, you can just change the variable value to change the color. \n",
    "\n",
    "Example: \n",
    "\n",
    "```\n",
    "    $siteButton: white;\n",
    "```"
   ]
  },
  {
   "attachments": {},
   "cell_type": "markdown",
   "metadata": {},
   "source": [
    "# Nesting\n",
    "\n",
    "#### Allows developer to nest css code. \n",
    "\n",
    "- ##### For example:\n",
    "\n",
    "    _traditional css_\n",
    "    ```\n",
    "    header {\n",
    "        background: white;\n",
    "    }\n",
    "\n",
    "    header button {\n",
    "        color: black;\n",
    "    }\n",
    "\n",
    "    ```\n",
    "\n",
    "    _SASS_\n",
    "    ```\n",
    "    header {\n",
    "        \n",
    "        background: white;\n",
    "        \n",
    "        button {\n",
    "        \n",
    "        color: black;\n",
    "        \n",
    "        }\n",
    "    }\n",
    "    ```"
   ]
  },
  {
   "attachments": {},
   "cell_type": "markdown",
   "metadata": {},
   "source": [
    "# Complex nesting\n",
    "\n",
    "### For more complex nesting (such as the hover feature in css), the developer can nest using the **&** symbol. \n",
    "\n",
    "##### For example: \n",
    "\n",
    "```\n",
    "header {\n",
    "        \n",
    "        background: white;\n",
    "        \n",
    "        button {\n",
    "\n",
    "        color: black;\n",
    "\n",
    "            &:hover {\n",
    "                background: gray;\n",
    "            }\n",
    "        }\n",
    "    }\n",
    "```"
   ]
  },
  {
   "attachments": {},
   "cell_type": "markdown",
   "metadata": {},
   "source": [
    "# Code Modularity\n",
    "\n",
    "### If your scss file is getting large, you can create a new file in the same folder to separate the scss. An underscore is required however. \n",
    "\n",
    "#### For example: \n",
    "_header.scss\n",
    "\n",
    "### After creating the file, you need to import the _scss file into your main scss. You can do this by typing \n",
    "\n",
    "```@import \"_(filename).scss\"```"
   ]
  },
  {
   "attachments": {},
   "cell_type": "markdown",
   "metadata": {},
   "source": [
    "# Mixins... what is it?\n",
    "\n",
    "### Mixins are very similar to JS functions. You can add repetitive css code into a mixin and then call the 'function' in the scss file. Here's an example with proper syntax. \n",
    "\n",
    "##### display: flex; is a very common piece of code in css and can be used to lay a collection of items in one direction or another. justify-content and align-items do just that (these are features inside flexbox)\n",
    "\n",
    "```\n",
    "@mixin flex {\n",
    "    display: flex; \n",
    "    justify-content: center;\n",
    "    align-items: center;\n",
    "}\n",
    "\n",
    "header {\n",
    "    @include flex();    \n",
    "    background: white;\n",
    "    \n",
    "    button {\n",
    "\n",
    "    color: black;\n",
    "\n",
    "        &:hover {\n",
    "            background: gray;\n",
    "        }\n",
    "    }\n",
    "}\n",
    "```\n",
    "\n",
    "### @mixin is used to create the 'function'\n",
    "\n",
    "### @include function_name(); calls the 'function'"
   ]
  }
 ],
 "metadata": {
  "kernelspec": {
   "display_name": "Python 3",
   "language": "python",
   "name": "python3"
  },
  "language_info": {
   "name": "python",
   "version": "3.8.10 (default, Jun 22 2022, 20:18:18) \n[GCC 9.4.0]"
  },
  "orig_nbformat": 4,
  "vscode": {
   "interpreter": {
    "hash": "916dbcbb3f70747c44a77c7bcd40155683ae19c65e1c03b4aa3499c5328201f1"
   }
  }
 },
 "nbformat": 4,
 "nbformat_minor": 2
}
