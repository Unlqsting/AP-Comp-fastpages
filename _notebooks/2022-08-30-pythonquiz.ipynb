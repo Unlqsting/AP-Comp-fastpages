{
 "cells": [
  {
   "cell_type": "markdown",
   "metadata": {},
   "source": [
    "# Python quiz\n",
    "\n",
    "- title: Python quiz\n",
    "- toc: true\n",
    "- badges: true \n",
    "- comments: true \n",
    "- categories: [python]\n",
    "- image: images/vscodelogo.png"
   ]
  },
  {
   "cell_type": "code",
   "execution_count": 9,
   "metadata": {},
   "outputs": [
    {
     "name": "stdout",
     "output_type": "stream",
     "text": [
      "Hello, adduser running /home/adduser/anaconda3/bin/python\n",
      "You will be asked three questions.\n",
      " \n",
      "What command is used to include other functions that were previously developed?\n",
      "A. import\n",
      "B. libraries\n",
      "C. do it yourself\n",
      "D. cheat\n",
      "CORRECT!\n",
      " \n",
      "What command is used to evaluate correct or incorrect response in this example?\n",
      "A. else\n",
      "B. boolean\n",
      "C. if\n",
      "D. for\n",
      "CORRECT!\n",
      " \n",
      "Each 'if' command contains an '_________' to determine a true or false condition?\n",
      "A. answer\n",
      "B. expression\n",
      "C. diet coke\n",
      "D. function\n",
      "CORRECT!\n",
      " \n",
      "RESULTS\n",
      " \n",
      "Your score is: 100%\n",
      "Byeeeeee!\n"
     ]
    }
   ],
   "source": [
    "import getpass, sys\n",
    "\n",
    "print('Hello, ' + getpass.getuser() + \" running \" + sys.executable)\n",
    "print(\"You will be asked three questions.\")\n",
    "\n",
    "# quiz render function\n",
    "def quiz():\n",
    "\n",
    "    guesses = []\n",
    "    correct_guesses = 0\n",
    "    question_num = 1\n",
    "\n",
    "    for key in questions:\n",
    "        print(\" \")\n",
    "        print(key)\n",
    "        for i in options[question_num-1]:\n",
    "            print(i)\n",
    "        guess = input()\n",
    "        guess = guess.upper()\n",
    "        guesses.append(guess)\n",
    "\n",
    "        correct_guesses += check_answer(questions.get(key), guess)\n",
    "        question_num += 1\n",
    "\n",
    "    display_score(correct_guesses, guesses)\n",
    "\n",
    "# checks if the answer is correct or not\n",
    "def check_answer(answer, guess):\n",
    "\n",
    "    if answer == guess:\n",
    "        print(\"CORRECT!\")\n",
    "        return 1\n",
    "    else:\n",
    "        print(\"WRONG!\")\n",
    "        return 0\n",
    "\n",
    "# takes the number of correct guesses and divides it by the questions to display score\n",
    "def display_score(correct_guesses, guesses):\n",
    "    print(\" \")\n",
    "    print(\"RESULTS\")\n",
    "    print(\" \")\n",
    "\n",
    "    score = int((correct_guesses/len(questions))*100)\n",
    "    print(\"Your score is: \"+str(score)+\"%\")\n",
    "\n",
    "# questions formatted into a dictionary for ease of access\n",
    "questions = {\n",
    "    \"What command is used to include other functions that were previously developed?\" : \"A\",\n",
    "    \"What command is used to evaluate correct or incorrect response in this example?\" : \"C\",\n",
    "    \"Each 'if' command contains an '_________' to determine a true or false condition?\" : \"B\"\n",
    "}\n",
    "\n",
    "# answers formatted into options that are in a double list\n",
    "options = [[\"A. import\", \"B. libraries\", \"C. do it yourself\", \"D. cheat\"],\n",
    "          [\"A. else\", \"B. boolean\", \"C. if\", \"D. for\"],\n",
    "          [\"A. answer\", \"B. expression\", \"C. diet coke\", \"D. function\"],\n",
    "]\n",
    "\n",
    "quiz()\n",
    "\n",
    "print(\"Byeeeeee!\")"
   ]
  },
  {
   "cell_type": "markdown",
   "metadata": {},
   "source": [
    "# Extra credit:\n",
    "\n",
    "Yes I saw the repeating patterns of code. It was the checking answer part. I put the questions into a dictionary and put the options into a list. This allowed me to get the corerct answers and check it efficiently (by appending the key and values). I also made it so that the next question appears after you answer the previous one."
   ]
  }
 ],
 "metadata": {
  "kernelspec": {
   "display_name": "Python 3.9.12 ('base')",
   "language": "python",
   "name": "python3"
  },
  "language_info": {
   "codemirror_mode": {
    "name": "ipython",
    "version": 3
   },
   "file_extension": ".py",
   "mimetype": "text/x-python",
   "name": "python",
   "nbconvert_exporter": "python",
   "pygments_lexer": "ipython3",
   "version": "3.9.12"
  },
  "orig_nbformat": 4,
  "vscode": {
   "interpreter": {
    "hash": "d00ac051d2445c25bd13d1c6afec52dd8b153cef520d4f3b1e76a10ad5147afe"
   }
  }
 },
 "nbformat": 4,
 "nbformat_minor": 2
}
