{
 "cells": [
  {
   "cell_type": "markdown",
   "metadata": {},
   "source": [
    "# Sociology questions:\n",
    "> This post has the responses to the sociology questions.\n",
    "\n",
    "- title: Sociology questions\n",
    "- toc: true\n",
    "- badges: true \n",
    "- comments: true \n",
    "- categories: [planning]\n",
    "- image: images/Sociology.png"
   ]
  },
  {
   "cell_type": "markdown",
   "metadata": {},
   "source": [
    "# What is the main repository for your project?\n",
    "\n",
    "    The main repository for our project is called Scheduler. We have a common repository that we push to. We based the name on the application we are doing."
   ]
  },
  {
   "cell_type": "markdown",
   "metadata": {},
   "source": [
    "# Did you create a .gitignore to avoid committing files that ‘don’t belong in version control?\n",
    "\n",
    "    Since I made the initial repository, I am pretty sure that I had created a .gitignore. I will check and if it turns out that I didn't make it properly, then I will go back and update it."
   ]
  },
  {
   "cell_type": "markdown",
   "metadata": {},
   "source": [
    "# Do you have a requirements.txt file to manage dependencies introduced to your Code Base?\n",
    "\n",
    "    Yes, we do have a requirements.txt that we installed through the \"pip3 install -r requirements.txt\" command"
   ]
  },
  {
   "cell_type": "markdown",
   "metadata": {},
   "source": [
    "# Have you established Issues as part of your Development process?\n",
    "\n",
    "    Our team has been a little slow with the project because of a lot of technical difficulties. We haven't established issues as a part of our development process, but we have discussed about it. We will make use of that github feature shortly."
   ]
  },
  {
   "cell_type": "markdown",
   "metadata": {},
   "source": [
    "# Have you considered making Pull Requests to track development? Have you considered forks or branching techniques with pull requests?\n",
    "\n",
    "    Again, our team has experienced a lot of issues so far and it was difficult for us to get back on track after so many. We have also discussed about these things and we will make use of them shortly. We are currently prioritizing research above the small details."
   ]
  },
  {
   "cell_type": "markdown",
   "metadata": {},
   "source": [
    "# Are you managing Issues on a Project Board/Scrum Board like Kanban?\n",
    "    \n",
    "    Yes. We are currently managing all of our progress through the scrumboard. We used the Kanban template to create our scrum board, so yes."
   ]
  }
 ],
 "metadata": {
  "kernelspec": {
   "display_name": "Python 3.9.12 ('base')",
   "language": "python",
   "name": "python3"
  },
  "language_info": {
   "name": "python",
   "version": "3.9.12"
  },
  "orig_nbformat": 4,
  "vscode": {
   "interpreter": {
    "hash": "c74883dfb39b9ad428a13ed6d492dbbf00cd87d169e560e4589f3b7b90ce74f5"
   }
  }
 },
 "nbformat": 4,
 "nbformat_minor": 2
}
