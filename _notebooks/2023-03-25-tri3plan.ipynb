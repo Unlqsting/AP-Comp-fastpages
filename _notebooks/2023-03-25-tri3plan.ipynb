{
 "cells": [
  {
   "attachments": {},
   "cell_type": "markdown",
   "metadata": {},
   "source": [
    "# Plan for the big teams project and CPT\n",
    "> THis blog post contains the planning for the big teams project\n",
    "- toc: true\n",
    "- categories: [tri3, tri3planning, tri3final]"
   ]
  },
  {
   "attachments": {},
   "cell_type": "markdown",
   "metadata": {},
   "source": [
    "# Plan to finish CPT\n",
    "I think that my feature from last trimester already matches the requirements needed for the CPT. I do, however, need to remove some things that are common between all the students that used the leuckreunion repository. Things like the backend and swithcing from markdown to html pages would be necessary. I am most likely going to spend spring break doing the write-up, making the video, and revising the write-up. "
   ]
  },
  {
   "attachments": {},
   "cell_type": "markdown",
   "metadata": {},
   "source": [
    "# What my general plan is for the project\n",
    "Being the frontend developer, I am planning on, well, making most of the frontend. THis will include interactable lessons for big idea 1. The current sub-lesson that I am working on is setting up github pages. I am planning on making use of HTML Divs and creating an aesthetically pleasing lesson that also serves to be educational. This lesson is pretty straightforward. I will have boxes set up that the user can click based on their scenario and be guided through setting up github pages."
   ]
  },
  {
   "attachments": {},
   "cell_type": "markdown",
   "metadata": {},
   "source": [
    "# Plan for the groups of two\n",
    "I am teamed up with Lucas, who happens to be our groups second frontend developer. Lucas can work on a basic template for the website and I will improve it. We will use JS, SCSS, and HTML to make a fully functional CRUD based website. "
   ]
  },
  {
   "attachments": {},
   "cell_type": "markdown",
   "metadata": {},
   "source": [
    "# Here's a picture of the code we have so far...\n",
    "\n",
    "### Nav bar:\n",
    "\n",
    "![](images/custom2.png)\n",
    "\n",
    "### github pages tutorial progress\n",
    "\n",
    "![](images/custom3.png)\n",
    "\n",
    "### We have also customized the repository to match our project:\n",
    "\n",
    "![](images/custom1.png)"
   ]
  },
  {
   "attachments": {},
   "cell_type": "markdown",
   "metadata": {},
   "source": [
    "# quiz reflection:\n",
    "\n",
    "I got a 100% on the quiz, so I don't know what I should really reflect upon. I do feel, however, that this MC quiz was a lot easier than the others. POssibly because I might be getting better. "
   ]
  }
 ],
 "metadata": {
  "language_info": {
   "name": "python"
  },
  "orig_nbformat": 4
 },
 "nbformat": 4,
 "nbformat_minor": 2
}
