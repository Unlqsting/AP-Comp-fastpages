{
 "cells": [
  {
   "attachments": {},
   "cell_type": "markdown",
   "metadata": {},
   "source": [
    "# 3.9 & 3.11 Hacks\n",
    "> These are the 3.9 and 3.11 hacks. It includes nested conditionals, algorithms, flowcharts, and some index work.\n",
    "- toc: true\n",
    "- badges: true\n",
    "- categories: [lesson(tri2), notes(tri2)]\n",
    "- title: 3.9 & 3.11 Hacks"
   ]
  },
  {
   "cell_type": "markdown",
   "metadata": {},
   "source": [
    "# Hacks 1:\n",
    "why is it important to know that algorithms that look different can do the same thing and that algorithms that look the same might have different results?(0.15)?\n",
    "- it's important to know that algorithms don't need to look similar in order to evaluate a problem. Different looking algorithms can help us understand a topic better. For example, if you have two different algorithms that do the same thing, someone might understand the first one better than the second. Or vice versa"
   ]
  },
  {
   "cell_type": "code",
   "execution_count": 3,
   "metadata": {},
   "outputs": [
    {
     "name": "stdout",
     "output_type": "stream",
     "text": [
      "10 is greater than 5\n"
     ]
    }
   ],
   "source": [
    "# Nested conditionals to boolean 1\n",
    "x = 10\n",
    "y = 5\n",
    "\n",
    "if x < y:\n",
    "    print(str(x) + \" is less than \" + str(y))\n",
    "else:\n",
    "    if x > y:\n",
    "        print(str(x) + \" is greater than \" + str(y))"
   ]
  },
  {
   "cell_type": "code",
   "execution_count": 9,
   "metadata": {},
   "outputs": [
    {
     "name": "stdout",
     "output_type": "stream",
     "text": [
      "10 is greater than 5\n"
     ]
    }
   ],
   "source": [
    "x = 10\n",
    "y = 5\n",
    "\n",
    "if (x < y) != True :\n",
    "    print(str(x) + \" is greater than \" + str(y))\n",
    "else:\n",
    "    print(str(x) + \" is less than \" + str(y))"
   ]
  },
  {
   "cell_type": "code",
   "execution_count": null,
   "metadata": {},
   "outputs": [],
   "source": [
    "# Nested condtionals to boolean 2\n",
    "\n",
    "if car == \"ferrari\":\n",
    "    if carColor == \"red\":\n",
    "        print(\"This is your car!!11!!!1!!\")\n",
    "    else: \n",
    "        print(\"This is not your car!!!1!!1!!1!1!!!\")\n",
    "else:\n",
    "    print(\"This is not your car!!!!!!111!!!\")\n"
   ]
  },
  {
   "cell_type": "code",
   "execution_count": null,
   "metadata": {},
   "outputs": [],
   "source": [
    "\n",
    "if (car, carColor) != (\"ferrari\", \"red\"):\n",
    "    print(\"This is not your car!!!@!!\")\n",
    "else:\n",
    "    print(\"This is your car!!1!@!@!!\")"
   ]
  },
  {
   "attachments": {},
   "cell_type": "markdown",
   "metadata": {},
   "source": [
    "# Hacks 2:"
   ]
  },
  {
   "attachments": {},
   "cell_type": "markdown",
   "metadata": {},
   "source": [
    "1. check if user wants to access wifi \n",
    "    2. if no, then break\n",
    "3. if true, then check if the user is logged in\n",
    "    4. if user is not logged in, break\n",
    "5. if true, check if user is an admin or not\n",
    "    6. if user is not logged in, break\n",
    "6. if yes, then authorize user to make changes"
   ]
  },
  {
   "attachments": {},
   "cell_type": "markdown",
   "metadata": {},
   "source": [
    "![](https://drive.google.com/file/d/1cqG1d43IiWRMYx29F0oEY9FbGdUB_Cpq/view?usp=share_link)"
   ]
  },
  {
   "cell_type": "code",
   "execution_count": null,
   "metadata": {},
   "outputs": [],
   "source": [
    "\n",
    "if access_wifi == True:\n",
    "    if loggedIn == True:\n",
    "        if admin == True:\n",
    "            print(\"you have accessed your wifi router and are able to make changes\")\n",
    "        else: \n",
    "            print(\"you need to be an admin to make changes\")\n",
    "    else:\n",
    "        print(\"you need to log in to access the wifi router\")\n",
    "else: \n",
    "    print(\"don't want to access the router? ok.\")"
   ]
  },
  {
   "attachments": {},
   "cell_type": "markdown",
   "metadata": {},
   "source": [
    "![](https://drive.google.com/file/d/1cqG1d43IiWRMYx29F0oEY9FbGdUB_Cpq/view?usp=share_link)"
   ]
  },
  {
   "attachments": {},
   "cell_type": "markdown",
   "metadata": {},
   "source": [
    "# Hacks 3:"
   ]
  },
  {
   "cell_type": "code",
   "execution_count": null,
   "metadata": {},
   "outputs": [],
   "source": [
    "import random\n",
    "\n",
    "#sets variables for the game\n",
    "num_guesses = 0\n",
    "user_guess = 0\n",
    "upper_bound = 100\n",
    "lower_bound = 0\n",
    "\n",
    "#generates a random number\n",
    "number = random.randint(1,100)\n",
    "\n",
    "# print(number)     #for testing purposes\n",
    "\n",
    "print(f\"I'm thinking of a number between 1 and 100.\")\n",
    "\n",
    "#Write a function that gets a guess from the user using input()\n",
    "def guess():\n",
    "    guessNum = input(\"input your guess please\")\n",
    "    return guessNum\n",
    "\n",
    "#Change the print statements to give feedback on whether the player guessed too high or too low\n",
    "def search(number, guess):\n",
    "    global lower_bound, upper_bound\n",
    "    if int(guess) < int(number):\n",
    "        print(\"Too low\") #change this\n",
    "        lower_bound = guess\n",
    "        return lower_bound, upper_bound\n",
    "    elif int(guess) > int(number):\n",
    "        print(\"Too high\") #change this\n",
    "        upper_bound = guess\n",
    "        return lower_bound, upper_bound\n",
    "    else:\n",
    "        upper_bound, lower_bound = guess, guess\n",
    "        return lower_bound, upper_bound \n",
    "\n",
    "while user_guess != number:\n",
    "    user_guess = guess()\n",
    "    num_guesses += 1\n",
    "    print(f\"You guessed {user_guess}.\")\n",
    "    lower_bound, upper_bound = search(number, user_guess)\n",
    "    if int(upper_bound) == int(number):\n",
    "        break\n",
    "    else:\n",
    "        print(f\"Guess a number between {lower_bound} and {upper_bound}.\")\n",
    "\n",
    "print(f\"You guessed the number in {num_guesses} guesses!\")"
   ]
  },
  {
   "cell_type": "markdown",
   "metadata": {},
   "source": [
    "# Hacks 4:\n",
    "1. calculate the middle index and create a binary tree for each of these lists\n",
    "    - 12, 14, 43, 57, 79, 80, 99\n",
    "    - 92, 43, 74, 66, 30, 12, 1\n",
    "    - 7, 13, 96, 111, 33, 84, 60\n",
    "* I know that you can find the median by taking the greatest index number, adding it to the smallest, and then dividing it by 2."
   ]
  },
  {
   "cell_type": "code",
   "execution_count": 19,
   "metadata": {},
   "outputs": [
    {
     "name": "stdout",
     "output_type": "stream",
     "text": [
      "57\n",
      "43\n",
      "60\n"
     ]
    }
   ],
   "source": [
    "import statistics as st\n",
    "\n",
    "numlist1 = [\"12\", \"14\", \"43\", \"57\", \"79\", \"80\", \"99\"]\n",
    "median1 = st.median(numlist1)\n",
    "print(median1)\n",
    "\n",
    "numlist2 = [\"92\", \"43\", \"74\", \"66\", \"30\", \"12\", \"1\"]\n",
    "numlist2.sort()\n",
    "median2 = st.median(numlist2)\n",
    "print(median2)\n",
    "\n",
    "# 7, 13, 33, 60, 84, 96, 11\n",
    "numlist3 = [\"7\", \"13\", \"96\", \"111\", \"33\", \"84\", \"60\"] \n",
    "numlist3.sort(key=int)\n",
    "median3 = st.median(numlist3)\n",
    "print(median3)"
   ]
  },
  {
   "cell_type": "code",
   "execution_count": null,
   "metadata": {},
   "outputs": [],
   "source": [
    "numlist1:\n",
    "                   57\n",
    "                /       \\\n",
    "               14       80\n",
    "              /  \\     /  \\\n",
    "             12  43   79  99\n",
    "\n",
    "numlist2:\n",
    "                   43\n",
    "                /       \\\n",
    "               12       74\n",
    "              /  \\     /  \\\n",
    "             1   30   66  92\n",
    "\n",
    "numlist3:\n",
    "                    60\n",
    "                /       \\\n",
    "               13       96\n",
    "              /  \\     /  \\\n",
    "             7   33   84  111\n"
   ]
  },
  {
   "cell_type": "markdown",
   "metadata": {},
   "source": [
    "2. don't really understand the question\n",
    "\n",
    "3. option c. This is because the list given is unsorted. "
   ]
  }
 ],
 "metadata": {
  "kernelspec": {
   "display_name": "Python 3.8.10 64-bit",
   "language": "python",
   "name": "python3"
  },
  "language_info": {
   "codemirror_mode": {
    "name": "ipython",
    "version": 3
   },
   "file_extension": ".py",
   "mimetype": "text/x-python",
   "name": "python",
   "nbconvert_exporter": "python",
   "pygments_lexer": "ipython3",
   "version": "3.8.10"
  },
  "orig_nbformat": 4,
  "vscode": {
   "interpreter": {
    "hash": "916dbcbb3f70747c44a77c7bcd40155683ae19c65e1c03b4aa3499c5328201f1"
   }
  }
 },
 "nbformat": 4,
 "nbformat_minor": 2
}
