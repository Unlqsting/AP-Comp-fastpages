{
 "cells": [
  {
   "cell_type": "markdown",
   "metadata": {},
   "source": [
    "# Lesson 2 notes and hacks.\n",
    "\n",
    "- toc: true\n",
    "- badges: true \n",
    "- comments: true \n",
    "- categories: [lesson, notes, hacks] \n",
    "- title: Lesson 2 notes and hacks"
   ]
  },
  {
   "cell_type": "markdown",
   "metadata": {},
   "source": [
    "# Notes: \n",
    "Algorithms:\n",
    "- set of instructions that are made to accomplish a task or produce a solution. Algorithms have three parts:\n",
    "    1. Sequencing\n",
    "    2. Selection\n",
    "    3. Iteration\n",
    "\n",
    "Sequencing:\n",
    "- Order of how to do something to get a result. Ex: how a student would follow the instructions from a teacher\n",
    "\n",
    "Selection: \n",
    "- allows an algorithm to make a decision based on a condition. Often the decision is true or false\n",
    "\n",
    "Iteration: \n",
    "- is a loop. When you iterate, the code keeps repeating until a condition (set by the programmer) is met\n",
    "\n",
    "Mathematical Expressions:\n",
    "- sequential statements:\n",
    "    - set of statements that are executed one after another (in a sequence)\n",
    "- Add: x+y \n",
    "- Subtract: x-y \n",
    "- Multiply: x*y \n",
    "- Div: x/y \n",
    "- Mod: x % y (x and y can be string or number)\n",
    "\n",
    "Strings:\n",
    "- concatenation: Joins two strings together\n",
    "- substring: part of an already existing string "
   ]
  },
  {
   "cell_type": "markdown",
   "metadata": {},
   "source": [
    "# How I aided my understanding:\n",
    "When the lesson was taught, it didn't really make sense to me. Because of this, I had only improved my understanding of the topics by a tiny amount. I went to learnpython.org and worked through their lessons on related material and then completed their exercise. Here are some of the online problems I used to practice. "
   ]
  },
  {
   "cell_type": "code",
   "execution_count": null,
   "metadata": {},
   "outputs": [],
   "source": [
    "s = \"Hey there! what should this string be?\"\n",
    "# Length should be 20\n",
    "print(\"Length of s = %d\" % len(s))\n",
    "\n",
    "# First occurrence of \"a\" should be at index 8\n",
    "print(\"The first occurrence of the letter a = %d\" % s.index(\"a\"))\n",
    "\n",
    "# Number of a's should be 2\n",
    "print(\"a occurs %d times\" % s.count(\"a\"))\n",
    "\n",
    "# Slicing the string into bits\n",
    "print(\"The first five characters are '%s'\" % s[:5]) # Start to 5\n",
    "print(\"The next five characters are '%s'\" % s[5:10]) # 5 to 10\n",
    "print(\"The thirteenth character is '%s'\" % s[12]) # Just number 12\n",
    "print(\"The characters with odd index are '%s'\" %s[1::2]) #(0-based indexing)\n",
    "print(\"The last five characters are '%s'\" % s[-5:]) # 5th-from-last to end\n",
    "\n",
    "# Convert everything to uppercase\n",
    "print(\"String in uppercase: %s\" % s.upper())"
   ]
  },
  {
   "cell_type": "markdown",
   "metadata": {},
   "source": [
    "# Solution:"
   ]
  },
  {
   "cell_type": "code",
   "execution_count": 5,
   "metadata": {},
   "outputs": [
    {
     "name": "stdout",
     "output_type": "stream",
     "text": [
      "Length of s = 20\n",
      "The first occurrence of the letter a = 8\n",
      "a occurs 2 times\n",
      "The first five characters are 'I lik'\n",
      "The next five characters are 'e pan'\n",
      "The thirteenth character is 'k'\n",
      "The characters with odd index are ' iepnae ih'\n",
      "The last five characters are ' with'\n",
      "String in uppercase: I LIKE PANCAKES WITH\n"
     ]
    }
   ],
   "source": [
    "s = \"I like pancakes with\"\n",
    "# Length should be 20\n",
    "print(\"Length of s = %d\" % len(s))\n",
    "\n",
    "# First occurrence of \"a\" should be at index 8\n",
    "print(\"The first occurrence of the letter a = %d\" % s.index(\"a\"))\n",
    "\n",
    "# Number of a's should be 2\n",
    "print(\"a occurs %d times\" % s.count(\"a\"))\n",
    "\n",
    "# Slicing the string into bits\n",
    "print(\"The first five characters are '%s'\" % s[:5]) # Start to 5\n",
    "print(\"The next five characters are '%s'\" % s[5:10]) # 5 to 10\n",
    "print(\"The thirteenth character is '%s'\" % s[12]) # Just number 12\n",
    "print(\"The characters with odd index are '%s'\" %s[1::2]) #(0-based indexing)\n",
    "print(\"The last five characters are '%s'\" % s[-5:]) # 5th-from-last to end\n",
    "\n",
    "# Convert everything to uppercase\n",
    "print(\"String in uppercase: %s\" % s.upper())"
   ]
  },
  {
   "cell_type": "markdown",
   "metadata": {},
   "source": [
    "# Change the variables in the first section, so that each if statement resolves as True."
   ]
  },
  {
   "cell_type": "code",
   "execution_count": null,
   "metadata": {},
   "outputs": [],
   "source": [
    "# change this code\n",
    "number = 10\n",
    "second_number = 10\n",
    "first_array = []\n",
    "second_array = [1,2,3]\n",
    "\n",
    "if number > 15:\n",
    "    print(\"1\")\n",
    "\n",
    "if first_array:\n",
    "    print(\"2\")\n",
    "\n",
    "if len(second_array) == 2:\n",
    "    print(\"3\")\n",
    "\n",
    "if len(first_array) + len(second_array) == 5:\n",
    "    print(\"4\")\n",
    "\n",
    "if first_array and first_array[0] == 1:\n",
    "    print(\"5\")\n",
    "\n",
    "if not second_number:\n",
    "    print(\"6\")"
   ]
  },
  {
   "cell_type": "markdown",
   "metadata": {},
   "source": [
    "# solution:"
   ]
  },
  {
   "cell_type": "code",
   "execution_count": null,
   "metadata": {},
   "outputs": [],
   "source": [
    "# change this code\n",
    "number = 16\n",
    "second_number = 6\n",
    "first_array = [1,2,3]\n",
    "second_array = [3,2]\n",
    "\n",
    "if number > 15:\n",
    "    print(\"1\")\n",
    "\n",
    "if first_array:\n",
    "    print(\"2\")\n",
    "\n",
    "if len(second_array) == 2:\n",
    "    print(\"3\")\n",
    "\n",
    "if len(first_array) + len(second_array) == 5:\n",
    "    print(\"4\")\n",
    "\n",
    "if first_array and first_array[0] == 1:\n",
    "    print(\"5\")\n",
    "\n",
    "if not second_number:\n",
    "    print(\"6\")"
   ]
  },
  {
   "cell_type": "markdown",
   "metadata": {},
   "source": [
    "# Hacks 1:\n",
    "1. don't know what you're asking for\n",
    "2. sequence: There are no conditions or decisions to be made. Therefore, it has to be a sequence\n",
    "3. selection: The condition is if number = item and the decision is display or do nothing. Therefore it has to be a selection.\n",
    "4. iteration: the code scans for more numbers and if the code finds the command to be true, it loops until the code finds no more numbers. Therefore, this has to be an iteration.\n",
    "5. sequence: There are no conditions or decisions to be made. Therefore, it has to be a sequence"
   ]
  },
  {
   "cell_type": "markdown",
   "metadata": {},
   "source": [
    "# Hacks 2:\n",
    "calculate and display average of 25, 32, 42:\n"
   ]
  },
  {
   "cell_type": "code",
   "execution_count": 3,
   "metadata": {},
   "outputs": [
    {
     "name": "stdout",
     "output_type": "stream",
     "text": [
      "33.0\n"
     ]
    }
   ],
   "source": [
    "numlist = [25, 32, 42]\n",
    "\n",
    "list_ave = sum(numlist) / len(numlist)\n",
    "\n",
    "print(list_ave)"
   ]
  },
  {
   "cell_type": "markdown",
   "metadata": {},
   "source": [
    "# Hacks 3: \n",
    "Crossword:\n",
    "- 3 across - sequence\n",
    "- 1 down - iteration\n",
    "- 2 down - selection\n",
    "\n",
    "Evaluate the code"
   ]
  },
  {
   "cell_type": "code",
   "execution_count": 4,
   "metadata": {},
   "outputs": [
    {
     "name": "stdout",
     "output_type": "stream",
     "text": [
      "3.0\n"
     ]
    }
   ],
   "source": [
    "num1 = 5\n",
    "num2 = num1 * 3 \n",
    "num3 = num2 / num1 * (9 % 2) * 4\n",
    "result = (num3 % num1 + num2) % num3 * 3 / 5\n",
    "print(result)"
   ]
  }
 ],
 "metadata": {
  "kernelspec": {
   "display_name": "Python 3.9.12 ('base')",
   "language": "python",
   "name": "python3"
  },
  "language_info": {
   "codemirror_mode": {
    "name": "ipython",
    "version": 3
   },
   "file_extension": ".py",
   "mimetype": "text/x-python",
   "name": "python",
   "nbconvert_exporter": "python",
   "pygments_lexer": "ipython3",
   "version": "3.9.12"
  },
  "orig_nbformat": 4,
  "vscode": {
   "interpreter": {
    "hash": "d00ac051d2445c25bd13d1c6afec52dd8b153cef520d4f3b1e76a10ad5147afe"
   }
  }
 },
 "nbformat": 4,
 "nbformat_minor": 2
}
