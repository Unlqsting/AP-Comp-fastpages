{
 "cells": [
  {
   "attachments": {},
   "cell_type": "markdown",
   "metadata": {},
   "source": [
    "# MCQ test 4 reflection\n",
    "> This is the reflection for the fourth MCQ practice test we have taken this year\n",
    "- toc: true\n",
    "- categories: [reflection, hacks(tri3)]\n",
    "- title: MCQ test 4 reflection"
   ]
  },
  {
   "attachments": {},
   "cell_type": "markdown",
   "metadata": {},
   "source": [
    "# Questions I got wrong:\n",
    "\n",
    "### Question 6:\n",
    "- I think I miss clicked on this question. I remember discussing with my friends about this question and I remember bringing up the fact that it says *each* packet contains blah blah blah. This is too extreme of an answer and I don't think that every single data sent through the internet is encrypted, as it would use up too much resources. I think I just miss clicked. \n",
    "\n",
    "### Question 20:\n",
    "- I am still not too sure about the reasoning behind this question. I think I am too sleep deprived to think deeply about this question. I will probably get some sleep and then take another look at this.\n",
    "\n",
    "### Question 37:\n",
    "- This question is regarding the big O notation. I am still unsure about the big o notation, so I don't understand the explantion on why this is the answer. I will take a loot at the 3.17 videos on this topic. \n",
    "\n",
    "### Question 49:\n",
    "- For this question the list part got me. I didn't notice that the question said that the first element in the index has a non-student score. "
   ]
  },
  {
   "attachments": {},
   "cell_type": "markdown",
   "metadata": {},
   "source": [
    "# What I can do better:\n",
    "I think that I struggle taking in all the details of a question. Because of this I am prone to making silly mistakes that can cost me some decent amount of points. I will try to read the question more carefully and try to understand the question better. "
   ]
  }
 ],
 "metadata": {
  "language_info": {
   "name": "python"
  },
  "orig_nbformat": 4
 },
 "nbformat": 4,
 "nbformat_minor": 2
}
