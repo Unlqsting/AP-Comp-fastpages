{
 "cells": [
  {
   "attachments": {},
   "cell_type": "markdown",
   "metadata": {},
   "source": [
    "#  CSUSM event \n",
    "> This blog post contains the notes for the CSUSM visit event\n",
    "- toc: true\n",
    "- categories: [extracredit]"
   ]
  },
  {
   "attachments": {},
   "cell_type": "markdown",
   "metadata": {},
   "source": [
    "# notes about the speaker i guess\n",
    "She completed her degree in applied physics from CSUSM and is working towards her phd. CSUSM offers tons of support for failures. \n",
    "\n",
    "# More about CSUSM\n",
    "- national leader in social something economy\n",
    "- a lot of renovations and additions being added to the university\n",
    "- a lot of opportunities around the university\n",
    "- offers a lot of opportunities for computer science\n",
    "\n",
    "# internships \n",
    "You gotta network and get your name out there. CSUSM has a lot of opportunities for internships. There are a lot of paid internships. Unpaid internships should generally be avoided. \n",
    "\n",
    "# Research Programs\n",
    "- There is a summer scholars program. You get to do research with a scholar and you also get paid.\n",
    "- quantum bridge program: 4 week program where you get to work with a professor and do research. You also get paid. \n",
    "- other research programs for biology, chemistry, physics, etc.\n",
    "\n"
   ]
  },
  {
   "attachments": {},
   "cell_type": "markdown",
   "metadata": {},
   "source": [
    "# College payment and whatnot\n",
    "- CSUSM has a lot of scholarships and grants.\n",
    "    - grant is money you don't have to pay back and usually given by the government\n",
    "    - a scholarship is money you don't have to pay back and usually given by the university\n",
    "\n",
    "- College debt is a big problem. You should try to avoid it as much as possible. \n",
    "- loans are a last resort.\n",
    "- 18 year olds should consider applying for fafsa. \n",
    "- fafsa is a government program that helps pay for college.\n"
   ]
  },
  {
   "attachments": {},
   "cell_type": "markdown",
   "metadata": {},
   "source": [
    "# Upcoming CSUSM event\n",
    "This "
   ]
  }
 ],
 "metadata": {
  "language_info": {
   "name": "python"
  },
  "orig_nbformat": 4
 },
 "nbformat": 4,
 "nbformat_minor": 2
}
