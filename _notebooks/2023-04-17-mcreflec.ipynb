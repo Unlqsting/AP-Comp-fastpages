{
 "cells": [
  {
   "attachments": {},
   "cell_type": "markdown",
   "metadata": {},
   "source": [
    "# 2020 MCQ practice exam reflection\n",
    "> This is the reflection blog for the practice MCQ exam\n",
    "- toc: false\n",
    "- badges: true\n",
    "- comments: true\n",
    "- categories: [hacks(tri3), cpt(tri3)]\n",
    "- title: MCQ practice Exam Reflection"
   ]
  },
  {
   "attachments": {},
   "cell_type": "markdown",
   "metadata": {},
   "source": [
    "# What score did I get?\n",
    "I ended up getting a 59/67. \n",
    "\n",
    "i missed a lot of questions because it was friday and I was tired. I think i might have missed one or two if I had tried. "
   ]
  }
 ],
 "metadata": {
  "language_info": {
   "name": "python"
  },
  "orig_nbformat": 4
 },
 "nbformat": 4,
 "nbformat_minor": 2
}
