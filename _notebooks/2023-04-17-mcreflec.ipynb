{
 "cells": [
  {
   "attachments": {},
   "cell_type": "markdown",
   "metadata": {},
   "source": [
    "# 2018 MCQ practice exam reflection\n",
    "> This is the reflection blog for the practice MCQ exam\n",
    "- toc: false\n",
    "- badges: true\n",
    "- comments: true\n",
    "- categories: [hacks(tri3), cpt(tri3)]\n",
    "- title: MCQ practice Exam Reflection"
   ]
  },
  {
   "attachments": {},
   "cell_type": "markdown",
   "metadata": {},
   "source": [
    "# What score did I get?\n",
    "I ended up getting a 65/66. \n",
    "\n",
    "![MCQ practice exam](images/mcqpractice.png)\n",
    "\n",
    "I missed the one question because I didn't think about the third option. My friend had suggested that the third one could be possible, but I didn't take it into consideration and I was careless. I don't think that there's a concrete big idea that I need to improve on since it was just a silly mistake. I have attached a screenshot below. \n",
    "\n",
    "![MCQ practice exam](images/missquestion.png)"
   ]
  }
 ],
 "metadata": {
  "language_info": {
   "name": "python"
  },
  "orig_nbformat": 4
 },
 "nbformat": 4,
 "nbformat_minor": 2
}
