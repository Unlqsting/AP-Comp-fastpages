{
 "cells": [
  {
   "cell_type": "markdown",
   "metadata": {},
   "source": [
    "# Lesson 3 notes\n",
    "> the lesson notes for 3.5-3.7\n",
    "\n",
    "- title: lesson 3 notes\n",
    "- toc: true\n",
    "- permalink: /lesson\n",
    "- tags: [notes, lesson]"
   ]
  },
  {
   "cell_type": "markdown",
   "metadata": {},
   "source": [
    "# Booleans:\n",
    "- expressions that are either true or false\n",
    "- can be used to evaluate true or false scenarios \n",
    "    - such as: 2 + 2 is 4 => true\n",
    "\n",
    "- # Supplementary questions:\n",
    "\n",
    "    How is binary related to this? \n",
    "    - Booleans can have 1 (true) or 0 (false) to represent a wide range of data. Binary uses 1's and 0's to represent the number/alphabet system in a computer efficient way.\n",
    "\n",
    "    How could this be used when asked a question? \n",
    "    - you can use booleans when asked a question that can be adequately answered with a yes or no / true or false"
   ]
  },
  {
   "cell_type": "markdown",
   "metadata": {},
   "source": [
    "# Logical operators\n",
    "1. Selection: basically selecting which part of an algorithm to execute based on an input or other parameter\n",
    "2. Algorithm: set of procedures that is created to solve a specific problem (problem can be anything; problem doesn't need to be a critical one)\n",
    "3. Conditional statement: instructs the code to make a decision based on a true or false condition "
   ]
  },
  {
   "cell_type": "markdown",
   "metadata": {},
   "source": [
    "# Nested Conditionals\n",
    "- Nested conditional statements consist of conditional statements within conditional statements\n",
    "- they're nested one inside the other\n",
    "- An else if inside of another else if\n",
    "- Can be used for a varying amount of \"else if statements.\" The first if statement can represent if two coditions are true. The first else if can represent if only one or the other is true. The last else if represents if neither of the conditions are true.\n",
    "- Can have three different conditions"
   ]
  }
 ],
 "metadata": {
  "kernelspec": {
   "display_name": "Python 3.8.10 64-bit",
   "language": "python",
   "name": "python3"
  },
  "language_info": {
   "name": "python",
   "version": "3.8.10"
  },
  "orig_nbformat": 4,
  "vscode": {
   "interpreter": {
    "hash": "916dbcbb3f70747c44a77c7bcd40155683ae19c65e1c03b4aa3499c5328201f1"
   }
  }
 },
 "nbformat": 4,
 "nbformat_minor": 2
}
