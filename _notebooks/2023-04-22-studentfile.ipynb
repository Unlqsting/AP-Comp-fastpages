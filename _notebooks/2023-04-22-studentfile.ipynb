{
 "cells": [
  {
   "attachments": {},
   "cell_type": "markdown",
   "metadata": {},
   "source": [
    "# WGET this file and complete fully and thoroughly in order to be graded\n",
    "- toc: true\n",
    "- comments: true\n",
    "- badges: false"
   ]
  },
  {
   "attachments": {},
   "cell_type": "markdown",
   "metadata": {},
   "source": [
    "### What are 5 Basic UI Elements?:\n",
    "\n",
    "1. color\n",
    "2. font\n",
    "3. layout\n",
    "4. icons\n",
    "5. interactivity\n",
    "\n",
    "### In your own words, explain what SASS does:\n",
    "- SASS improves upon the features of CSS and can be used to make a more UX considered webpage. It can be used for various purposes. FOr example, creating a colorbling-people friendly webpage\n",
    "\n",
    "### What are some benefits to SASS?: \n",
    "- can make functions in SASS\n",
    "- can make variables in SASS\n",
    "- can nest child elements in parent elements \n",
    "### Describe/Explain one of the more \"advanced\" SASS properties below in detail:\n",
    "- animation effects. For example, the fade in animation. You can make an animation called fade-in by using @keyframes. Then you can set the initial opacity to 0 and make it go to 1. 0 means that it is completely transparent and 1 means opaque. \n"
   ]
  },
  {
   "attachments": {},
   "cell_type": "markdown",
   "metadata": {},
   "source": [
    "# Hacks - Insert any screenshots, code segments, etc. that you need to\n",
    "\n",
    "## Hacks Part 1\n",
    "1. Add your own element to your own repository to make it unique (0.9)\n",
    "\n",
    "## Hacks Part 2\n",
    "1. Add the style change button to your own github page (0.9)\n",
    "    - Change the button to your own styles \n",
    "    - See if you can let make it change to multiple different styles (we understand that it is hard to create multiple distinct styles so you are only required to make it clear you have at least three different styles at can be changed)\n",
    "        - click <a href=\"\">here</a> for the style changer\n",
    "\n",
    "2. Extra: Try and incorporate something you learned in the lesson into your CPT Project (0.1)\n",
    "\n",
    "#### Here is some scss I incorporated in my CPT project\n",
    "\n",
    "![Alt text](images/cpt1.png)\n",
    "\n",
    "![Alt text](images/cpt2.png)\n",
    "\n",
    "![Alt text](images/cpt3.png)\n",
    "\n",
    "\n",
    "## Hacks Part 3\n",
    "1. Add SASS to Number Guesser Game provided (0.9) or create your own Javascript game/application and add SASS to it (0.9+)\n",
    "2. We will collectively decide on the \"best\" game/app and award potential seed. "
   ]
  },
  {
   "cell_type": "code",
   "execution_count": null,
   "metadata": {
    "vscode": {
     "languageId": "html"
    }
   },
   "outputs": [],
   "source": []
  }
 ],
 "metadata": {
  "language_info": {
   "name": "python"
  },
  "orig_nbformat": 4
 },
 "nbformat": 4,
 "nbformat_minor": 2
}
