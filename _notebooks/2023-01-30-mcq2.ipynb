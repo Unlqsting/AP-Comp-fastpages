{
 "cells": [
  {
   "attachments": {},
   "cell_type": "markdown",
   "metadata": {},
   "source": [
    "# MCQ #2\n",
    "> this blog contains the reflection of MCQ #2\n",
    "- toc: true\n",
    "- badges: true\n",
    "- categories: [CTP(tri2), week20, hacks(tri2)]\n",
    "- title: MCQ #2 reflection"
   ]
  },
  {
   "attachments": {},
   "cell_type": "markdown",
   "metadata": {},
   "source": [
    "# How did I do?\n",
    "I got a 45/50. Just on the mark for .9+ \n"
   ]
  },
  {
   "attachments": {},
   "cell_type": "markdown",
   "metadata": {},
   "source": [
    "# Where did I go wrong?\n",
    "I got 5 questions wrong in total. The main reason I got them wrong is because I wasn't paying full attention. \n",
    "\n",
    "Looking over the test, I noticed that I have good foundations in Skills 2.x, 3.x, and 4.x. I need to work on 1.x. I did get question 15 wrong which covers 4.B, but I think that it was just a careless mistake. I don't remember the exact reason why. I will watch the AP video on 3.6 (which covers skill 4.B). The other big mistakes I did were on 1.D. I got 3 questions wrong on that skill. I will watch the AP videos on units 3.16, 3.17, and 3.7. This covers the stuff that I got wrong on the MCQ. I noticed that I have a common trend of getting boolean questions wrong. I need to review that skill and will most likely look back at the student taught lesson on that unit. I will also need to review the Heuristic method. Again, it covers the skill 1.D and the resources for that are the 3.17 Daily videos. \n",
    "\n",
    "Overall, I think that I did pretty well. I will need to review the skills that I got wrong and watch the AP videos on those units. I will also need to review the Heuristic method and boolean questions."
   ]
  }
 ],
 "metadata": {
  "kernelspec": {
   "display_name": "Bash",
   "language": "bash",
   "name": "bash"
  },
  "language_info": {
   "name": "bash"
  },
  "orig_nbformat": 4
 },
 "nbformat": 4,
 "nbformat_minor": 2
}
