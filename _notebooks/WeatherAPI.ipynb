{
 "cells": [
  {
   "cell_type": "code",
   "execution_count": 8,
   "metadata": {},
   "outputs": [
    {
     "name": "stdout",
     "output_type": "stream",
     "text": [
      "{'cod': 401, 'message': 'Invalid API key. Please see http://openweathermap.org/faq#error401 for more info.'}\n"
     ]
    }
   ],
   "source": [
    "import datetime as dt\n",
    "import requests\n",
    "\n",
    "#variable defining\n",
    "burl = \"http://api.openweathermap.org/data/2.5/weather?\"\n",
    "apikey = \"0a2c0c2e02a60e73fbad997e55285267\"\n",
    "city = \"San Diego\"\n",
    "\n",
    "#url\n",
    "url = burl + \"appid=\" + apikey + \"&q=\" + city\n",
    "\n",
    "#response\n",
    "res = requests.get(url).json()\n",
    "\n",
    "print(res)"
   ]
  },
  {
   "cell_type": "code",
   "execution_count": null,
   "metadata": {},
   "outputs": [],
   "source": [
    "import calendar\n",
    "\n",
    "print(calendar.weekheader(3))\n",
    "print()\n",
    "\n",
    "print(calendar.firstweekday())\n",
    "print()\n",
    "\n",
    "print(calendar.month(2022,10))\n",
    "\n",
    "print(calendar.monthcalendar(2022, 10))\n",
    "\n",
    "print(calendar.calendar(2022))\n",
    "\n",
    "day_of_the_week = calendar.weekday(2022,10,1)\n",
    "print(day_of_the_week)"
   ]
  },
  {
   "cell_type": "code",
   "execution_count": null,
   "metadata": {},
   "outputs": [],
   "source": [
    "import tkinter\n",
    "import calendar\n",
    "from tkinter import * \n",
    "from PIL import ImageTK, Image\n",
    "\n",
    "\n",
    "\n"
   ]
  }
 ],
 "metadata": {
  "kernelspec": {
   "display_name": "Python 3.9.12 ('base')",
   "language": "python",
   "name": "python3"
  },
  "language_info": {
   "codemirror_mode": {
    "name": "ipython",
    "version": 3
   },
   "file_extension": ".py",
   "mimetype": "text/x-python",
   "name": "python",
   "nbconvert_exporter": "python",
   "pygments_lexer": "ipython3",
   "version": "3.9.12"
  },
  "orig_nbformat": 4,
  "vscode": {
   "interpreter": {
    "hash": "d00ac051d2445c25bd13d1c6afec52dd8b153cef520d4f3b1e76a10ad5147afe"
   }
  }
 },
 "nbformat": 4,
 "nbformat_minor": 2
}
