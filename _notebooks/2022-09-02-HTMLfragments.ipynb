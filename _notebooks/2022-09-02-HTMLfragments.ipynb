{
 "cells": [
  {
   "attachments": {},
   "cell_type": "markdown",
   "metadata": {},
   "source": [
    "# HTML fragments\n",
    "> This post is regarding the HTML fragments assignment.\n",
    "\n",
    "- toc: true\n",
    "- badges: true \n",
    "- comments: true \n",
    "- categories: [tri1]\n",
    "- title: HTML fragments\n",
    "- image: images/html.png"
   ]
  },
  {
   "cell_type": "markdown",
   "metadata": {},
   "source": [
    "# theme change:\n",
    "I noticed that there are many errors with fastpages itself. The whole page breaks down when I change the theme to something other than minima"
   ]
  },
  {
   "cell_type": "markdown",
   "metadata": {},
   "source": [
    "# darkmode implementation:\n",
    "<body>\n",
    "    <div>\n",
    "        <img src=\"https://drive.google.com/file/d/10sLSfoc4WY89S17yVBwzDvwH_Xk8k7p-/view?usp=sharing\">\n",
    "    </div>\n",
    "</body>"
   ]
  },
  {
   "cell_type": "markdown",
   "metadata": {},
   "source": [
    "# tagging:\n",
    "I tag all my items in the categories section when I first make a jupyter notebook. This allows me to be more efficient when searching for blog posts"
   ]
  },
  {
   "cell_type": "markdown",
   "metadata": {},
   "source": [
    "# search:\n",
    "I have my fastpages set up so that I am able to input a keyword and search for things on the blog. This allows me to be even more efficient while searching for an object on my fastpages.\n",
    "\n",
    "<body>\n",
    "    <div>\n",
    "        <img src=\"https://drive.google.com/file/d/1BPtgP2fRvKfhgYFVAxnPQPuU7Ek3vcoE/view?usp=sharing\">\n",
    "    </div>\n",
    "</body>"
   ]
  }
 ],
 "metadata": {
  "kernelspec": {
   "display_name": "Python 3.8.10 64-bit",
   "language": "python",
   "name": "python3"
  },
  "language_info": {
   "name": "python",
   "version": "3.8.10"
  },
  "orig_nbformat": 4,
  "vscode": {
   "interpreter": {
    "hash": "916dbcbb3f70747c44a77c7bcd40155683ae19c65e1c03b4aa3499c5328201f1"
   }
  }
 },
 "nbformat": 4,
 "nbformat_minor": 2
}
