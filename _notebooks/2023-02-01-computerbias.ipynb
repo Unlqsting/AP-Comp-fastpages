{
 "cells": [
  {
   "attachments": {},
   "cell_type": "markdown",
   "metadata": {},
   "source": [
    "# CB 5.3 Computer bias and 5.4 Crowd sourcing\n",
    "> this blog contains the notes, hacks, and reflection for the collegeboard article 5.3 computer bias. \n",
    "- toc: true\n",
    "- badges: true\n",
    "- categories: [CTP(tri2), week20, hacks(tri2)]\n",
    "- title: CB 5.3 Computer bias and 5.4 Crowd sourcing"
   ]
  },
  {
   "attachments": {},
   "cell_type": "markdown",
   "metadata": {},
   "source": [
    "# Hacks for 5.3 Computer bias\n",
    "_Reflection of the exercises done in class_:\n",
    "Basically, we talked about biases in virtual assistants, companies, and computers. We also talked about if these biases are purposeful or unintentional. We then talked about how the companies could benefit from that. \n",
    "My thoughts about this discussion is that it helped me understand computer bias a little better. I have been working on independent machine learning/deep learning projects, so it is important that the machine learning algorithm uses datasets that take in consideration of forgetful things. \n",
    "\n",
    "_**Currently, my code and design for the login system is very biased towards people with no disabilities. This was just because I didn't take that into consideration. After designing and coding the biased version of my code, I will focus on making it more accessible for people with disabilities. I want to make sure that I have the feature working before I get ahead of myself.**_"
   ]
  },
  {
   "attachments": {},
   "cell_type": "markdown",
   "metadata": {},
   "source": [
    "# Hacks for 5.4 Crowd sourcing\n",
    "**One idea for crowdsourcing is surveying the 150 csp students for their opinion on the collegeboard MCQ tests and whether it helps them prepare for the AP exam or not. We could initiate it by just putting up a QR code of a google form and then we can take in that data and analyze it. We could also sell that data to collegeboard so that they could improve**\n",
    "\n",
    "**Del norte is a pretty large school. We could survey the school on what exercises they most frequently do at the gym. THis would allow our project to only collect data on the most frequently done exercises. THis would save us a lot of time. Yes this would make our project better since we have more 'wanted' exercises. Again, this would save us time.**\n",
    "\n",
    "**We could capture user recommendations. This would allow us to improve upon our website. Some students could even point out criteria that does not meet the collegeboard criteria and this would allow us to refine our project and get a higher grade. We can also write an algorithm to track what people click and what pages they click to. This would allow us to compile an analytics page where we can display what features are most used by users.**"
   ]
  },
  {
   "attachments": {},
   "cell_type": "markdown",
   "metadata": {},
   "source": [
    "# Notes on the discussion"
   ]
  },
  {
   "attachments": {},
   "cell_type": "markdown",
   "metadata": {},
   "source": [
    "## Intentional or purposeful bias"
   ]
  },
  {
   "attachments": {},
   "cell_type": "markdown",
   "metadata": {},
   "source": [
    "#### What age groups use facebook vs tiktok?\n",
    "\n",
    "Our group said that only old people use facebook. We also said that mostly attention-seeking (daddy issues) teenage girls and horny teenage boys use tiktok. We have a lot of data to back this claim up. So basically, tiktok is targeted towards the younger audience compared to facebook which targets the older generation. \n",
    "\n",
    "![tiktok data](https://www.statista.com/graphic/1/1095186/tiktok-us-users-age.jpg)\n",
    "\n",
    "As you can see, majority of tiktok users are pretty young, mostly teenagers. "
   ]
  },
  {
   "attachments": {},
   "cell_type": "markdown",
   "metadata": {},
   "source": [
    "#### Is there an purposeful exclusion?\n",
    "\n",
    "Yes there is a purposeful exclusion in these platforms. Stuff like facebook isn't marketed as much as Instagram or Tiktok. Tiktok targets the small attention span of attention-hungry teenagers and even feeds the attention-hungry people with attention (because they can post their videos and get views by people)"
   ]
  },
  {
   "attachments": {},
   "cell_type": "markdown",
   "metadata": {},
   "source": [
    "#### is it harmful?\n",
    "\n",
    "Yes it is harmful. This is harmful not because of the purposeful exclusion, but rather because of the algorithms used by companies. Companies can use algorithms to target a specific audience and the algorithms can lower the attention span of the users. We can see this is in more data done in scientific research. "
   ]
  },
  {
   "attachments": {},
   "cell_type": "markdown",
   "metadata": {},
   "source": [
    "#### Why do virtual assistants have female voices? \n",
    "I would say that they have female voices mainly because females are more agreeable and submissive. This is why they are more likely to be used in virtual assistants. This, however, doesn't mean that all voice assistants have female voices. Microsoft has a accessibility setting where you can turn on voice assistance and there are options to pick a male voice assistant. "
   ]
  },
  {
   "attachments": {},
   "cell_type": "markdown",
   "metadata": {},
   "source": [
    "#### Was this purposeful?\n",
    "\n",
    "Yes, I think that this is purposeful. THis is because the companies want to make the voice assistants more agreeable and submissive. This is because they want to make the voice assistants more likeable and more likely to be used."
   ]
  },
  {
   "attachments": {},
   "cell_type": "markdown",
   "metadata": {},
   "source": [
    "#### Is it harmful?\n",
    "\n",
    "No, I don't think that it is harmful. This is because the voice assistants are not used to make decisions. They are used to help people with their daily tasks. It doesn't matter if the voice assistants have female voices. Atleast, I wouldn't care. "
   ]
  },
  {
   "attachments": {},
   "cell_type": "markdown",
   "metadata": {},
   "source": [
    "#### Should it be corrected?\n",
    "\n",
    "It doesn't matter. The rock knows it. IT DOESN'T MATTER. If the people don't want a voice assistant with a female voice, they can just turn it off or not use it. It is also very misogynistic to not like a voice assistant with a female voice. IF you disagree with me then you are wrong. "
   ]
  },
  {
   "attachments": {},
   "cell_type": "markdown",
   "metadata": {},
   "source": [
    "#### Is it good business?\n",
    "I don't know. I am not a business man and don't see the crazy significance of this. I don't think that it is good business. I think that it is just a way to make the voice assistants more likeable. I mean I like jarvis better than siri. Everybody does. "
   ]
  },
  {
   "attachments": {},
   "cell_type": "markdown",
   "metadata": {},
   "source": [
    "## Obtaining data through crowdsourcing\n",
    "\n",
    "#### What api's have I used?\n",
    "There are a lot of api's that I have used. I have used the github api, google api, Rapid api, and a lot more. I have used these api's to get data from the internet. There is a website called kaggle where you can get a lot of data. I have used this website to get data for my projects and build machine learning projects. I have also used the google api to get data from google. I have used the github api to get data from github. I have used the rapid api to get data from a lot of websites. I "
   ]
  },
  {
   "attachments": {},
   "cell_type": "markdown",
   "metadata": {},
   "source": [
    "#### What is the biggest discovery I made on github?\n",
    "The biggest discovery I made on github is the ability to copy other peoples repo. This allows me to open up their code on a more friendly user interface so that I can understand it better. For example, I can openup a repo from github in vscode and use extensions to format the code in a more understandable manner. I can also copy templates such as fastpages. This allows me to open up a blogging site and customize it to my liking. "
   ]
  },
  {
   "attachments": {},
   "cell_type": "markdown",
   "metadata": {},
   "source": [
    "#### What I found interesting on kaggle:\n",
    "What I found interesting is that kaggle datasets are mostly in csv files and are either related to media, health, or business. These data sets are used for machine learning since you can train a computer to analyze datasets and make predictions based on the datasets. I also saw that there is a usability meter. Each dataset has a usability score out of 10. The higher the score, the greater the usability. "
   ]
  }
 ],
 "metadata": {
  "kernelspec": {
   "display_name": "Python 3",
   "language": "python",
   "name": "python3"
  },
  "language_info": {
   "name": "python",
   "version": "3.8.10"
  },
  "orig_nbformat": 4,
  "vscode": {
   "interpreter": {
    "hash": "916dbcbb3f70747c44a77c7bcd40155683ae19c65e1c03b4aa3499c5328201f1"
   }
  }
 },
 "nbformat": 4,
 "nbformat_minor": 2
}
