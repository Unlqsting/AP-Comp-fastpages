{
 "cells": [
  {
   "attachments": {},
   "cell_type": "markdown",
   "metadata": {},
   "source": [
    "# Binary logic\n",
    "> This post is regarding the binary logic lesson.\n",
    "\n",
    "- toc: true\n",
    "- badges: true \n",
    "- comments: true \n",
    "- categories: [lesson(tri2), notes(tri2)] \n",
    "- title: Binary logic lesson"
   ]
  },
  {
   "cell_type": "markdown",
   "metadata": {},
   "source": [
    "# Binary logic notes: \n",
    "\n",
    "Computers only understand 0's and 1's\n",
    "\n",
    "    000 --> 0\n",
    "    001 --> 1\n",
    "\n",
    "    - Since the computer doesn't have a 2, it must use a different combination ( a pattern)\n",
    "\n",
    "        010 --> 2\n"
   ]
  },
  {
   "cell_type": "markdown",
   "metadata": {},
   "source": [
    "# how did these patterns come to be?\n",
    "\n",
    "     # # # #  # # # #\n",
    "    128 64 32 16 4 2 1 \n",
    "\n",
    "    - ex:\n",
    "        111 = 7\n",
    "\n",
    "        4(1) + 2(1) + 1(1) = 7\n"
   ]
  },
  {
   "cell_type": "markdown",
   "metadata": {},
   "source": [
    "# how do we find an odd number in binary?\n",
    "    - only way to find an odd number in binary is to...\n",
    "        Look at the first place in the binary layout"
   ]
  }
 ],
 "metadata": {
  "kernelspec": {
   "display_name": "Python 3.8.10 64-bit",
   "language": "python",
   "name": "python3"
  },
  "language_info": {
   "name": "python",
   "version": "3.8.10 (default, Jun 22 2022, 20:18:18) \n[GCC 9.4.0]"
  },
  "orig_nbformat": 4,
  "vscode": {
   "interpreter": {
    "hash": "916dbcbb3f70747c44a77c7bcd40155683ae19c65e1c03b4aa3499c5328201f1"
   }
  }
 },
 "nbformat": 4,
 "nbformat_minor": 2
}
