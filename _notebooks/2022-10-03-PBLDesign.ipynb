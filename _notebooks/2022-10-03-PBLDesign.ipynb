{
 "cells": [
  {
   "attachments": {},
   "cell_type": "markdown",
   "metadata": {},
   "source": [
    "# PBL insight questions\n",
    "\n",
    "- title: PBL 'Design'\n",
    "- toc: true\n",
    "- badges: true \n",
    "- comments: true \n",
    "- categories: [tri1]\n",
    "- image: images/design.png"
   ]
  },
  {
   "cell_type": "markdown",
   "metadata": {},
   "source": [
    "# Ideas for the project:\n",
    "\n",
    "We are thinking of making a highly interactive web application that is very convinient for students. It will have calendars, clocks, reminders, and more. "
   ]
  },
  {
   "cell_type": "markdown",
   "metadata": {},
   "source": [
    "# Thoughts about data:\n",
    "\n",
    "This is mostly for the backend developer. We think that we will need to store a lot of data. Types of data that we would store are: Basic user authentication and user schedule stuff. We will have the user input various forms of info about their schedule and then store it for things like reminders and what not."
   ]
  },
  {
   "cell_type": "markdown",
   "metadata": {},
   "source": [
    "# Frontend:\n",
    "\n",
    "I'm in-charge of the front-end and I have already started on some of the elements needed for the website. I have already made an interactive calendar. I used HTML for making the static calendar, css to style the calendar, and javascript to turn the boring static calendar into a dynamic interactive one."
   ]
  }
 ],
 "metadata": {
  "kernelspec": {
   "display_name": "Python 3.8.10 64-bit",
   "language": "python",
   "name": "python3"
  },
  "language_info": {
   "name": "python",
   "version": "3.8.10"
  },
  "orig_nbformat": 4,
  "vscode": {
   "interpreter": {
    "hash": "916dbcbb3f70747c44a77c7bcd40155683ae19c65e1c03b4aa3499c5328201f1"
   }
  }
 },
 "nbformat": 4,
 "nbformat_minor": 2
}
