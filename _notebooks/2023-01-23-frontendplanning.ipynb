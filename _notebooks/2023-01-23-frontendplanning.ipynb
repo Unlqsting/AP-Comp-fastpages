{
 "cells": [
  {
   "attachments": {},
   "cell_type": "markdown",
   "metadata": {},
   "source": [
    "# Frontend Planning\n",
    "> this blog contains the plannnig for the frontend of the project\n",
    "- toc: true\n",
    "- badges: true\n",
    "- categories: [CTP(tri2), week20, hacks(tri2)]\n",
    "- title: Frontend planning"
   ]
  },
  {
   "attachments": {},
   "cell_type": "markdown",
   "metadata": {},
   "source": [
    "# Elements\n",
    "\n",
    "For the front-end I am using fontawesome for icons. I am planning on implementing react for better ui development, but I am currently focused on making the features work. \n",
    "\n",
    "The current plan for the design of the frontend (for the login) has been completed. I am currently working on the backend for the login.\n",
    "\n",
    "The authentication will have a login form, and a signup form. The login form will have a username, email, and password field, and a submit button. It will also have the option of authenticating through google. The signup form will have a username, password, email, and confirm password field, and a submit button. The signup form will also have the option of authenticating through google.\n",
    "\n",
    "# Future features:\n",
    "\n",
    "The login form will have a link to the forgot password form, and the forgot password form will help the user get their password or update their password.  The forgot password form will have a username field, and a submit button. The user associated with the given username will then be emailed for further instructions"
   ]
  }
 ],
 "metadata": {
  "kernelspec": {
   "display_name": "Python 3",
   "language": "python",
   "name": "python3"
  },
  "language_info": {
   "name": "python",
   "version": "3.8.10 (default, Nov 14 2022, 12:59:47) \n[GCC 9.4.0]"
  },
  "orig_nbformat": 4,
  "vscode": {
   "interpreter": {
    "hash": "916dbcbb3f70747c44a77c7bcd40155683ae19c65e1c03b4aa3499c5328201f1"
   }
  }
 },
 "nbformat": 4,
 "nbformat_minor": 2
}
