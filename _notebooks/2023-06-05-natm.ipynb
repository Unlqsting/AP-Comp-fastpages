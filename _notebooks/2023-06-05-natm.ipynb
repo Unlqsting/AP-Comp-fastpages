{
 "cells": [
  {
   "attachments": {},
   "cell_type": "markdown",
   "metadata": {},
   "source": [
    "# Night at the museum\n",
    "> This blog contains the blog for the Night at the museum event\n",
    "- toc: true\n",
    "- badges: true\n",
    "- categories: [natm, tri3]\n",
    "- title: Night at the museum \n",
    "- hide: false"
   ]
  },
  {
   "attachments": {},
   "cell_type": "markdown",
   "metadata": {},
   "source": [
    "# Project 1\n",
    "\n",
    "![](images/natm1.png)\n",
    "\n",
    "\n",
    "The artwork in the middle caught my attention. It shows a patient who is about to receive a vaccine or about to get his/her blood drawn. I feel like the artwork is representing a very stressed patient since the patient is on a video call with a loved one while getting a shot. This picture also seems futuristic but retro at the same time. Futuristic because of the hand glove design and the accessories on their hands, but also somewhat retro because of the big needle design. THe color choices also reinforces the fact that this is more of a serious situation. The colors are dark and gloomy and the person in the video call looks like they are trying to cheer up the patient. \n",
    "\n",
    "# Project 2 \n",
    "\n",
    "![](images/natm2.png)\n",
    "\n",
    "This artwork shows a brown character with asymmetrical features on their face. The characters mouth is also open and it has lipstick on. THere seems to be some sort of weird bird that is going into the characters mouth. The character seems to accept the bird and is not scared of it. The colors are also very bright and vibrant.\n",
    "\n",
    "# Our Project\n",
    "\n",
    "Here is the link to the video: https://www.youtube.com/watch?v=SgJNvZtDCmE"
   ]
  }
 ],
 "metadata": {
  "kernelspec": {
   "display_name": "Python 3",
   "language": "python",
   "name": "python3"
  },
  "language_info": {
   "name": "python",
   "version": "3.8.10"
  },
  "orig_nbformat": 4,
  "vscode": {
   "interpreter": {
    "hash": "916dbcbb3f70747c44a77c7bcd40155683ae19c65e1c03b4aa3499c5328201f1"
   }
  }
 },
 "nbformat": 4,
 "nbformat_minor": 2
}
