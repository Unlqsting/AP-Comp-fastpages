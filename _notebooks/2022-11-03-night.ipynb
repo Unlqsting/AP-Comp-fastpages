{
 "cells": [
  {
   "cell_type": "markdown",
   "metadata": {},
   "source": [
    "# N@TM blog\n",
    "> This post is a reflection on the N@TM\n",
    "\n",
    "- title: N@TM blog\n",
    "- toc: true\n",
    "- badges: true \n",
    "- comments: true \n",
    "- categories: [N@TM, reflection]"
   ]
  },
  {
   "cell_type": "markdown",
   "metadata": {},
   "source": [
    "# first reflection:\n",
    "\n",
    "<img src=\"/home/adduser/vscode/AP-Comp-fastpages/_notebooks/nm1.png\">\n",
    "\n",
    "for this artwork, I notice that its a CGI. I had taken this course last year and its called 3d animation 1. The artwork consists of donuts and a well designed background. It uses elements of art such as line, color, form, and value to emphasize the donut and make the background interesting."
   ]
  },
  {
   "cell_type": "markdown",
   "metadata": {},
   "source": [
    "# Baboon juice:\n",
    "\n",
    "This project is about a clock that has all the basic clock functions. The only thing that differentiates this project with every other clock app is its unattractive, yet intriguing design. "
   ]
  },
  {
   "cell_type": "markdown",
   "metadata": {},
   "source": [
    "# Tetris:\n",
    "\n",
    "This group consisted of 2 girls who started blushing when my friend and I asked what their project is about. The project is about tetris, that we got from seeing the project (not from the girls)"
   ]
  },
  {
   "cell_type": "markdown",
   "metadata": {},
   "source": [
    "# fitness forever:\n",
    "\n",
    "This project is about a fitness app that is worse than every other fitness app, and yes that includes V-Shreds app. Anyways, atleast this fitness app had BMI, calorie counters, fitness goals, and used an API for their 'motivational quotes'"
   ]
  }
 ],
 "metadata": {
  "kernelspec": {
   "display_name": "Python 3.8.10 64-bit",
   "language": "python",
   "name": "python3"
  },
  "language_info": {
   "name": "python",
   "version": "3.8.10"
  },
  "orig_nbformat": 4,
  "vscode": {
   "interpreter": {
    "hash": "916dbcbb3f70747c44a77c7bcd40155683ae19c65e1c03b4aa3499c5328201f1"
   }
  }
 },
 "nbformat": 4,
 "nbformat_minor": 2
}
