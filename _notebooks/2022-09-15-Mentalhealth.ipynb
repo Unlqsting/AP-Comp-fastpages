{
 "cells": [
  {
   "cell_type": "markdown",
   "metadata": {},
   "source": [
    "# Gratitude list and goal setting\n",
    "> A blog post for being grateful for things and having active goals in mind.\n",
    "\n",
    "- toc: true \n",
    "- badges: true\n",
    "- comments: true\n",
    "- categories: [gratitude, goals, mental health, management, life]\n",
    "- title: A gratitude list and some goal setting blog\n",
    "- image: images/goal.png"
   ]
  },
  {
   "cell_type": "markdown",
   "metadata": {},
   "source": [
    "# Gratitude list:\n",
    "\n",
    "I'm grateful for...\n",
    "\n",
    "    Having a house\n",
    "    Being able to eat good food\n",
    "    Good health\n",
    "    Actively trying to improve\n",
    "    Being able to do MMA\n",
    "    Being understanding\n",
    "    Having opportunities\n",
    "These were a few things that I am grateful for. I will update this list periodically\n"
   ]
  },
  {
   "cell_type": "markdown",
   "metadata": {},
   "source": [
    "# Goal setting:\n",
    "\n",
    "A few goals that I have in mind for 2022 are:\n",
    "    \n",
    "    Get very good at MMA\n",
    "    Expand my understanding of Calculus\n",
    "    Maintain a good sleeping schedule\n",
    "    Maintain a good physique\n",
    "    Stop procrastinating\n",
    "    Learning from mistakes\n",
    "These are some of the goals I have for 2022."
   ]
  },
  {
   "cell_type": "markdown",
   "metadata": {},
   "source": [
    "# Thank you for reading!\n",
    "\n",
    "Though this blog post was created for the purpose of a Computer Science extra credit assignment, it taught me to keep track of what I have in life and what my goals are."
   ]
  }
 ],
 "metadata": {
  "kernelspec": {
   "display_name": "Python 3.8.10 64-bit",
   "language": "python",
   "name": "python3"
  },
  "language_info": {
   "name": "python",
   "version": "3.8.10"
  },
  "orig_nbformat": 4,
  "vscode": {
   "interpreter": {
    "hash": "916dbcbb3f70747c44a77c7bcd40155683ae19c65e1c03b4aa3499c5328201f1"
   }
  }
 },
 "nbformat": 4,
 "nbformat_minor": 2
}
