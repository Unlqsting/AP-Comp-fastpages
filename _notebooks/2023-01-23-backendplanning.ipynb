{
 "cells": [
  {
   "attachments": {},
   "cell_type": "markdown",
   "metadata": {},
   "source": [
    "# Backend Planning\n",
    "> this blog contains the planning for the backend of the project\n",
    "- toc: true\n",
    "- badges: true\n",
    "- categories: [CTP(tri2), week20, hacks(tri2)]\n",
    "- title: Backend planning"
   ]
  },
  {
   "attachments": {},
   "cell_type": "markdown",
   "metadata": {},
   "source": [
    "# Current features\n",
    "\n",
    "The backend currently is able to recieve manually inputted form data from the front-end signup page. The data is then stored in a sqlite3 database and the user is redirected to the login page. \n",
    "\n",
    "# Future features\n",
    "(continuing from the login page) The login page is able to check the database for the user and if the user exists, the user is redirected to the home page. The home page is able to display the user's name and email.\n",
    "\n",
    "Another feature I want is that the user to recieve a JWT token after logging in. This token will be used to authenticate the user when they want to access the home page and be given special acccess. \n",
    "\n",
    "Currently, the google authentication doesn't work. I want to fix this so that the user can login using their google account. The main issue is that through the google login, the user is unable to POST the data to the backend. "
   ]
  }
 ],
 "metadata": {
  "kernelspec": {
   "display_name": "Python 3",
   "language": "python",
   "name": "python3"
  },
  "language_info": {
   "name": "python",
   "version": "3.8.10 (default, Nov 14 2022, 12:59:47) \n[GCC 9.4.0]"
  },
  "orig_nbformat": 4,
  "vscode": {
   "interpreter": {
    "hash": "916dbcbb3f70747c44a77c7bcd40155683ae19c65e1c03b4aa3499c5328201f1"
   }
  }
 },
 "nbformat": 4,
 "nbformat_minor": 2
}
