{
 "cells": [
  {
   "cell_type": "code",
   "execution_count": 1,
   "metadata": {},
   "outputs": [
    {
     "name": "stdout",
     "output_type": "stream",
     "text": [
      "{\"cod\":401, \"message\": \"Invalid API key. Please see https://openweathermap.org/faq#error401 for more info.\"}\n"
     ]
    }
   ],
   "source": [
    "import requests\n",
    "\n",
    "url = \"https://api.openweathermap.org/data/2.5/weather?lat=\"\n",
    "\n",
    "apiid = \"c09e8dfe80d525d70ab9965789794458\"\n",
    "\n",
    "lati = \"32.834686\"\n",
    "\n",
    "longi = \"-117.130775\"\n",
    "\n",
    "res = requests.get(url + lati + \"&lon\" + longi + \"&appid\" + apiid).text\n",
    "\n",
    "print(res)\n",
    "\n"
   ]
  },
  {
   "cell_type": "code",
   "execution_count": 7,
   "metadata": {},
   "outputs": [
    {
     "name": "stderr",
     "output_type": "stream",
     "text": [
      "<>:23: SyntaxWarning: str indices must be integers or slices, not str; perhaps you missed a comma?\n",
      "<>:23: SyntaxWarning: str indices must be integers or slices, not str; perhaps you missed a comma?\n"
     ]
    },
    {
     "ename": "AttributeError",
     "evalue": "module 'requests' has no attribute 'json'",
     "output_type": "error",
     "traceback": [
      "\u001b[0;31m---------------------------------------------------------------------------\u001b[0m",
      "\u001b[0;31mAttributeError\u001b[0m                            Traceback (most recent call last)",
      "\u001b[1;32m/mnt/c/Users/noors/vscode/AP-Comp-fastpages/_notebooks/APIs.ipynb Cell 2\u001b[0m in \u001b[0;36m<cell line: 21>\u001b[0;34m()\u001b[0m\n\u001b[1;32m     <a href='vscode-notebook-cell://wsl%2Bubuntu/mnt/c/Users/noors/vscode/AP-Comp-fastpages/_notebooks/APIs.ipynb#W2sdnNjb2RlLXJlbW90ZQ%3D%3D?line=15'>16</a>\u001b[0m longi \u001b[39m=\u001b[39m \u001b[39m\"\u001b[39m\u001b[39mlon=-117.130775&\u001b[39m\u001b[39m\"\u001b[39m\n\u001b[1;32m     <a href='vscode-notebook-cell://wsl%2Bubuntu/mnt/c/Users/noors/vscode/AP-Comp-fastpages/_notebooks/APIs.ipynb#W2sdnNjb2RlLXJlbW90ZQ%3D%3D?line=17'>18</a>\u001b[0m api \u001b[39m=\u001b[39m \u001b[39m\"\u001b[39m\u001b[39mappid=c09e8dfe80d525d70ab9965789794458\u001b[39m\u001b[39m\"\u001b[39m\n\u001b[0;32m---> <a href='vscode-notebook-cell://wsl%2Bubuntu/mnt/c/Users/noors/vscode/AP-Comp-fastpages/_notebooks/APIs.ipynb#W2sdnNjb2RlLXJlbW90ZQ%3D%3D?line=20'>21</a>\u001b[0m res \u001b[39m=\u001b[39m requests\u001b[39m.\u001b[39;49mjson()\u001b[39m.\u001b[39mget(url \u001b[39m+\u001b[39m lati \u001b[39m+\u001b[39m longi \u001b[39m+\u001b[39m api)\n\u001b[1;32m     <a href='vscode-notebook-cell://wsl%2Bubuntu/mnt/c/Users/noors/vscode/AP-Comp-fastpages/_notebooks/APIs.ipynb#W2sdnNjb2RlLXJlbW90ZQ%3D%3D?line=22'>23</a>\u001b[0m temp_kelvin \u001b[39m=\u001b[39m res[\u001b[39m'\u001b[39m\u001b[39mmain\u001b[39m\u001b[39m'\u001b[39m[\u001b[39m'\u001b[39m\u001b[39mtemp\u001b[39m\u001b[39m'\u001b[39m]]\n\u001b[1;32m     <a href='vscode-notebook-cell://wsl%2Bubuntu/mnt/c/Users/noors/vscode/AP-Comp-fastpages/_notebooks/APIs.ipynb#W2sdnNjb2RlLXJlbW90ZQ%3D%3D?line=23'>24</a>\u001b[0m temp_celsius, temp_fahrenheit \u001b[39m=\u001b[39m kelvin_to_celsius_fahrenheit(temp_kelvin)\n",
      "\u001b[0;31mAttributeError\u001b[0m: module 'requests' has no attribute 'json'"
     ]
    }
   ],
   "source": [
    "import requests\n",
    "\n",
    "import json\n",
    "\n",
    "\n",
    "def kelvin_to_celsius_fahrenheit(kelvin):\n",
    "    celsius = kelvin - 273.15\n",
    "    fahrenheit = celsius * (9/5) + 32\n",
    "    return celsius, fahrenheit\n",
    "\n",
    "\n",
    "url = \"https://api.openweathermap.org/data/2.5/weather?\"\n",
    "\n",
    "lati = \"lat=32.834686&\"\n",
    "\n",
    "longi = \"lon=-117.130775&\"\n",
    "\n",
    "api = \"appid=c09e8dfe80d525d70ab9965789794458\"\n",
    "\n",
    "\n",
    "res = requests.json().get(url + lati + longi + api)\n",
    "\n",
    "temp_kelvin = res['main'['temp']]\n",
    "temp_celsius, temp_fahrenheit = kelvin_to_celsius_fahrenheit(temp_kelvin)\n",
    "\n",
    "data = json.load(res)\n",
    "\n",
    "print(data)\n"
   ]
  }
 ],
 "metadata": {
  "kernelspec": {
   "display_name": "Python 3.8.10 64-bit",
   "language": "python",
   "name": "python3"
  },
  "language_info": {
   "codemirror_mode": {
    "name": "ipython",
    "version": 3
   },
   "file_extension": ".py",
   "mimetype": "text/x-python",
   "name": "python",
   "nbconvert_exporter": "python",
   "pygments_lexer": "ipython3",
   "version": "3.8.10"
  },
  "orig_nbformat": 4,
  "vscode": {
   "interpreter": {
    "hash": "916dbcbb3f70747c44a77c7bcd40155683ae19c65e1c03b4aa3499c5328201f1"
   }
  }
 },
 "nbformat": 4,
 "nbformat_minor": 2
}
