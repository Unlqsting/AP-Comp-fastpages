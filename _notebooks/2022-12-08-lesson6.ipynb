{
 "cells": [
  {
   "attachments": {},
   "cell_type": "markdown",
   "metadata": {},
   "source": [
    "# 3.12 & 3.13 Hacks\n",
    "> This is regarding the 3.12 and 3.13 lesson. This includes some notes on the given lessons and the hacks for it.\n",
    "- toc: true\n",
    "- badges: true\n",
    "- categories: [lesson(tri2), notes(tri2), hacks(tri2)]\n",
    "- title: 3.12 & 3.13 Hacks"
   ]
  },
  {
   "attachments": {},
   "cell_type": "markdown",
   "metadata": {},
   "source": [
    "# Notes 3.12\n",
    "What is a procedure? \n",
    "- set of instructions that have parameters and return values\n",
    "- procedures can be classified as sequence, selection, and iteration\n",
    "\n",
    "How to call procedures?\n",
    "- if the function is defined as math(x), you can call it by typing math() with whatever parameter\n",
    "\n",
    "Result of a procedure:\n",
    "- you can determine the result by looking at the function parameters, return values and statements"
   ]
  },
  {
   "attachments": {},
   "cell_type": "markdown",
   "metadata": {},
   "source": [
    "# Notes 3.13\n",
    "-Modularity: making the code more manageable by breaking it up in smaller pieces\n"
   ]
  },
  {
   "cell_type": "code",
   "execution_count": null,
   "metadata": {},
   "outputs": [],
   "source": [
    "import math\n",
    "\n",
    "def hypotenuse(leg1, leg2):\n",
    "    # notice we're using this <var> * <var> syntax multiple times?\n",
    "    # this has multiple drawbacks:\n",
    "    # - it's repetitive and makes the code longer\n",
    "    # - if we wanted to change the operator being \n",
    "    #   applied to `leg1` and `leg2`, we'd have to do it twice!\n",
    "    leg1_squared = leg1 * leg1\n",
    "    leg2_squared = leg2 * leg2\n",
    "    return math.sqrt(leg1_squared + leg2_squared)\n",
    "\n",
    "## VERSUS ##\n",
    "\n",
    "# this works, but let's try to write the \"squared\" variable assignment statements more concisely...\n",
    "def square(a):\n",
    "    return a * a\n",
    "\n",
    "def hypotenuse_abstracted(leg1, leg2):\n",
    "    # not only is this shorter, but we can now:\n",
    "    # - better understand the code at a glance--we know exactly \n",
    "    #   what `square` should do\n",
    "    # - change the operator in a single place (`square`) rather than\n",
    "    #   multiple times within this hypotenuse function\n",
    "    leg1_squared = square(leg1)\n",
    "    leg2_squared = square(leg2)\n",
    "    return math.sqrt(leg1_squared + leg2_squared)\n",
    "\n",
    "## EXTRA CHALLENGE ##\n",
    "# is it possible to write the `hypotenuse` function in a single line?\n",
    "def hypotenuse_abstracted2(leg1, leg2):\n",
    "    pass\n",
    "\n",
    "assert hypotenuse(3, 4) == hypotenuse_abstracted(3, 4) == 5"
   ]
  },
  {
   "attachments": {},
   "cell_type": "markdown",
   "metadata": {},
   "source": [
    "Collegeboard:\n",
    "- \n"
   ]
  },
  {
   "attachments": {},
   "cell_type": "markdown",
   "metadata": {},
   "source": [
    "3.12 Hacks:\n",
    "1.\n",
    "    a. procedure: set of instructions that have parameters and return values (functions/methods)\n",
    "    b. Parameter: arguments that you give to a function inorder to have input to the function\n",
    "2. Look below"
   ]
  },
  {
   "cell_type": "code",
   "execution_count": 1,
   "metadata": {},
   "outputs": [
    {
     "name": "stdout",
     "output_type": "stream",
     "text": [
      "Question: What is are correct names for a procedure? \n",
      " A) Method \n",
      " B) Function \n",
      " C) Both\n",
      "Answer: c\n",
      "Correct :) \n",
      "\n",
      "Question: What is a procedure? \n",
      " A) Sequencing \n",
      " B) Selection \n",
      " C) Iteration \n",
      " D) All\n",
      "Answer: d\n",
      "Correct :) \n",
      "\n",
      "Question: Use this for following question: \n",
      " def inchesToFeet(lengthInches): \n",
      "\t lengthFeet = lengthInches / 12 \n",
      "\t return lengthFeet \n",
      "\n",
      " What is the procedure name, the parameter, and what the procedure returns? \n",
      " A) feetToInches, lengthInches, lengthMeters \n",
      " B) inchesToFeet, lengthInches, lengthFeet \n",
      " C) inchesToFeet, lengthFeet, lengthInches \n",
      " D) lengthInches, inchesToFeet, lengthFeet\n",
      "Answer: b\n",
      "Correct :) \n",
      "\n",
      "Score: 3 / 3\n"
     ]
    }
   ],
   "source": [
    "questionNum = 3\n",
    "correct = 0\n",
    "questions = [\n",
    "    \"What is are correct names for a procedure? \\n A) Method \\n B) Function \\n C) Both\",\n",
    "    \"What is a procedure? \\n A) Sequencing \\n B) Selection \\n C) Iteration \\n D) All\",\n",
    "    \"Use this for following question: \\n def inchesToFeet(lengthInches): \\n\\t lengthFeet = lengthInches / 12 \\n\\t return lengthFeet \\n\\n What is the procedure name, the parameter, and what the procedure returns? \\n A) feetToInches, lengthInches, lengthMeters \\n B) inchesToFeet, lengthInches, lengthFeet \\n C) inchesToFeet, lengthFeet, lengthInches \\n D) lengthInches, inchesToFeet, lengthFeet\"]\n",
    "answers = [\"c\", \"d\", \"b\"]\n",
    "\n",
    "def qna(question, answer):\n",
    "    print(\"Question:\", question)\n",
    "    response = input()\n",
    "    print(\"Answer:\", response)\n",
    "    \n",
    "    if response.lower() == answer:\n",
    "        print(\"Correct :) \\n\")\n",
    "        global correct\n",
    "        correct += 1\n",
    "    else:\n",
    "        print(\"Incorrect :( \\n\")\n",
    "for x in range(questionNum):\n",
    "    qna(questions[x], answers[x])\n",
    "    \n",
    "print(\"Score:\", correct, \"/ 3\")"
   ]
  },
  {
   "attachments": {},
   "cell_type": "markdown",
   "metadata": {},
   "source": [
    "3.\n",
    "    a. return values: value that a function returns to the caller\n",
    "    b. output parameter: allows you to return a processed value (processed by the function) back to the caller\n",
    "4. "
   ]
  },
  {
   "cell_type": "code",
   "execution_count": null,
   "metadata": {},
   "outputs": [],
   "source": [
    "import math\n",
    "\n",
    "x = int(input(\"input a whole number please\"))\n",
    "\n",
    "# square-root number function\n",
    "def sqrt(x):\n",
    "    squarednum = math.sqrt(x)\n",
    "    return(squarednum)\n",
    "\n",
    "sqrt(x)\n"
   ]
  },
  {
   "attachments": {},
   "cell_type": "markdown",
   "metadata": {},
   "source": [
    "3.13 hacks: \n",
    "1. abstracting your program logic into seperate, modular functions lets you manage and understand your code better. But, this doesn't really matter when the algorithm in your function is simple. When your algorithms are complex, it is way easier to use modularity to make your code simple. \n",
    "2. "
   ]
  },
  {
   "cell_type": "code",
   "execution_count": null,
   "metadata": {
    "vscode": {
     "languageId": "html"
    }
   },
   "outputs": [],
   "source": []
  }
 ],
 "metadata": {
  "kernelspec": {
   "display_name": "Python 3.8.10 64-bit",
   "language": "python",
   "name": "python3"
  },
  "language_info": {
   "codemirror_mode": {
    "name": "ipython",
    "version": 3
   },
   "file_extension": ".py",
   "mimetype": "text/x-python",
   "name": "python",
   "nbconvert_exporter": "python",
   "pygments_lexer": "ipython3",
   "version": "3.8.10 (default, Jun 22 2022, 20:18:18) \n[GCC 9.4.0]"
  },
  "orig_nbformat": 4,
  "vscode": {
   "interpreter": {
    "hash": "916dbcbb3f70747c44a77c7bcd40155683ae19c65e1c03b4aa3499c5328201f1"
   }
  }
 },
 "nbformat": 4,
 "nbformat_minor": 2
}
