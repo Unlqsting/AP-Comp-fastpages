{
 "cells": [
  {
   "cell_type": "markdown",
   "metadata": {},
   "source": [
    "# AppLab Math quiz plan\n",
    "\n",
    "> This post explains the plan for the making of an AppLab quiz.\n",
    "\n",
    "- title: AppLab Math quiz blog + CB create task plan\n",
    "- toc: true\n",
    "- badges: true \n",
    "- comments: true \n",
    "- categories: [developer tools, AppLab, planning]\n",
    "- image: images/applab image.png"
   ]
  },
  {
   "cell_type": "markdown",
   "metadata": {},
   "source": [
    "My partner, Alan, and I have decided on making a math quiz on applab for the week 4 requirement. We plan on using basic math questions to test out applabs developer tool. We will use the given code blocks and experiment around to find the proper layout for the quiz we want. We plan on giving basic feedback if the user gets a question wrong and uplifting messages when they get it right. We also plan to troll people by telling them that they are guaranteed a 0% on their next math test. It is what it is.\n",
    "    Update: While creating I noticed that there were a lot of blocks which I didn't understand. I watched a few youtube videos and implemented some of the blocks to make my app a little bit more interesting. \n",
    "    Update 2: After finishing, I realized that onEvent was a very frequently used command. So was the IF controller. I'm exicited to see how we will be developing apps outside of applab. "
   ]
  },
  {
   "cell_type": "markdown",
   "metadata": {},
   "source": [
    "Purpose:\n",
    "The purpose of this short math quiz is for us, the developers, to have a brief introduction to developing. There is no particular purpose for the user except entertainment. "
   ]
  },
  {
   "cell_type": "markdown",
   "metadata": {},
   "source": [
    "Data abstraction:\n",
    "I figured out how to get input from a user and how I can implement that into the quiz."
   ]
  },
  {
   "cell_type": "markdown",
   "metadata": {},
   "source": [
    "Managing complexity:\n",
    "I organized the code and made it easier to understand by improving the syntax and making notes."
   ]
  },
  {
   "cell_type": "markdown",
   "metadata": {},
   "source": [
    "Testing: \n",
    "I self-tested the quiz to eliminate possible errors. I wasn't able to figure out how to eliminate some of the errors, but I was able to eliminate most minor errors."
   ]
  },
  {
   "cell_type": "markdown",
   "metadata": {},
   "source": [
    "For the create task project, my idea is making an app that asks a bunch of analysis questions and based on the responses gives you a personality. In short, my idea is making a personality quiz. "
   ]
  },
  {
   "cell_type": "markdown",
   "metadata": {},
   "source": [
    "Here is the link to my applab quiz: \n",
    "https://studio.code.org/projects/applab/wRy7RcsYiP9vkEcxZ060wxs4Anr52Mdyjh_-OY9OaY4\n"
   ]
  }
 ],
 "metadata": {
  "kernelspec": {
   "display_name": "Python 3.8.10 64-bit",
   "language": "python",
   "name": "python3"
  },
  "language_info": {
   "name": "python",
   "version": "3.8.10"
  },
  "orig_nbformat": 4,
  "vscode": {
   "interpreter": {
    "hash": "916dbcbb3f70747c44a77c7bcd40155683ae19c65e1c03b4aa3499c5328201f1"
   }
  }
 },
 "nbformat": 4,
 "nbformat_minor": 2
}
