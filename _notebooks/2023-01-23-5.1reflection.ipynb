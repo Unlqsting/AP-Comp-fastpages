{
 "cells": [
  {
   "attachments": {},
   "cell_type": "markdown",
   "metadata": {},
   "source": [
    "# CB 5.1 Beneficial and harmful effects\n",
    "> this blog contains the notes, hacks, and reflection for the collegeboard article 5.1 beneficial and harmful effects. \n",
    "- toc: true\n",
    "- badges: true\n",
    "- categories: [CTP(tri2), week20, hacks(tri2)]\n",
    "- title: CB 5.1 Beneficial and harmful effects"
   ]
  },
  {
   "attachments": {},
   "cell_type": "markdown",
   "metadata": {},
   "source": [
    "# Effects of computing (1)\n",
    "In my opinion, computing has brought forth just as many or even greater benefits compared to the harms. One big benefit is the opportunity for continued education. Due to computers having such broad features/capabilities, there are just as many opportunities for education and research. If someone is interested in how a computers CPU functions then they can take a course in computer architecture. If someone is interested in how they can use computers to benefit the military, they can get a degree in computer systems engineering. Computers make virtually anything possible.\n"
   ]
  },
  {
   "attachments": {},
   "cell_type": "markdown",
   "metadata": {},
   "source": [
    "# Effects of computing (2)\n",
    "Computers have made a majority of modern life possible. This, however, can have a negative meaning. Inventions of social media have allowed people to fry their brain's dopamine system. Any person can easily access social media and look at other people's (sometimes fake) success. Not only is this just a big waste of time, but it also inhibits the users ability to track their OWN progress, not other peoples. In summary, it is really easy for anyone to use computers and make something that can misguide someone. "
   ]
  },
  {
   "attachments": {},
   "cell_type": "markdown",
   "metadata": {},
   "source": [
    "# Effects of computing (3)\n",
    "Under the right hands, computers can be used to create powerful applications to help someone out. One example of this is StackOverflow. This is a website where people can post their problems and someone can respond to them. Computers made this possible. Connecting back to a few weeks ago, computers are capable of running simulations. These simulations can not only save time, but also effort and resources. For example, say Elon Musk wants to make a new rocket, but doesn't want to spend $200 million dollars because he's not sure that the rocket will crash or not. This is where simulations come in play. Elon could use a simulation to simulate his rocket launching. "
   ]
  },
  {
   "attachments": {},
   "cell_type": "markdown",
   "metadata": {},
   "source": [
    "# Dopamine and computers\n",
    "Connecting back to a point I had mentioned above, computers can create applications that can fry the brains dopamine receptor. We all know what dopamine is and what it does, but what we (some) of us don't know is that a simple action such as browsing social media can fry the brains dopamine receptors. For example, when teenagers scroll through instagram, they come across short-format videos like memes. Each video gives them a short surplus in dopamine. Realistically, no teenagers stops at one video. The real value would probably be somewhere around 30-50 (short-format) videos. Overtime, these videos increase the brains dopamine threshold. This basically makes it so that your brain needs more stimulus to acheive the same dopamine response. This cycle keeps repeating. "
   ]
  }
 ],
 "metadata": {
  "language_info": {
   "name": "python"
  },
  "orig_nbformat": 4
 },
 "nbformat": 4,
 "nbformat_minor": 2
}
