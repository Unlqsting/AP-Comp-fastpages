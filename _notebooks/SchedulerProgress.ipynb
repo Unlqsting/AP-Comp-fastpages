{
 "cells": [
  {
   "cell_type": "markdown",
   "metadata": {},
   "source": [
    "# Scheduler progress check\n",
    "> So... we finished. But how did we get here?\n",
    "\n",
    "- title: Scheduler progress check\n",
    "- toc: true\n",
    "- badges: true \n",
    "- comments: true \n",
    "- categories: [planning, progress, PBL]"
   ]
  },
  {
   "cell_type": "markdown",
   "metadata": {},
   "source": [
    "We started out with a simple model of a calendar. We then upgraded its looks and functionality by making it bigger, adding theme colors, and integrating events. We also made this a month focused calendar. We then made a weather app next to our calendar for our desired purpose of convinience. It has full weather display functionality using city name as a parameter. During the last stages of our project, we made the events be able to display. For a more detailed progress report, check our scrum board."
   ]
  }
 ],
 "metadata": {
  "kernelspec": {
   "display_name": "Python 3.8.10 64-bit",
   "language": "python",
   "name": "python3"
  },
  "language_info": {
   "name": "python",
   "version": "3.8.10"
  },
  "orig_nbformat": 4,
  "vscode": {
   "interpreter": {
    "hash": "916dbcbb3f70747c44a77c7bcd40155683ae19c65e1c03b4aa3499c5328201f1"
   }
  }
 },
 "nbformat": 4,
 "nbformat_minor": 2
}
