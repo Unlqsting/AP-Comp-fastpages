{
 "cells": [
  {
   "attachments": {},
   "cell_type": "markdown",
   "metadata": {},
   "source": [
    "# CPT 1st Check-in\n",
    "> this blog contains the progress made on our create project task. This includes current frontend and backend plans. \n",
    "- toc: true\n",
    "- badges: true\n",
    "- categories: [CTP(tri2), planning(tri2), hacks(tri2)]\n",
    "- title: CPT 1st Check-in"
   ]
  },
  {
   "attachments": {},
   "cell_type": "markdown",
   "metadata": {},
   "source": [
    "# So... How far did we get? \n",
    "Well, we did make a general plan for our website. Instead of normal, boring old css, we will be using SASS. I thought this would have been a useless little coding thing, but the more I use it, the more I start to love it. So far we have used the import function to import a font, mixin to create a function with display flex that aligns items and justfiies content to center. I have also used variables to set some of the base colors of the website. For the html: I have a very crude navbar. It will get better each day, well, my plan is to finish it by tuesday. "
   ]
  },
  {
   "attachments": {},
   "cell_type": "markdown",
   "metadata": {},
   "source": [
    "# Here are the general plans for this week:\n",
    "> This week I will:\n",
    "- assign each member a topic to plan out for our website\n",
    "- stop experimenting with md files and make a index.html for our website\n",
    "- make more developments toward the home page \n",
    "- start on the sub-pages\n",
    "- do some reserach on wearable integration and blog in detail about how we will use it\n",
    "- learn general html shortcuts to make development faster\n",
    "- improve my SASS skills "
   ]
  }
 ],
 "metadata": {
  "kernelspec": {
   "display_name": "Python 3",
   "language": "python",
   "name": "python3"
  },
  "language_info": {
   "name": "python",
   "version": "3.8.10 (default, Jun 22 2022, 20:18:18) \n[GCC 9.4.0]"
  },
  "orig_nbformat": 4,
  "vscode": {
   "interpreter": {
    "hash": "916dbcbb3f70747c44a77c7bcd40155683ae19c65e1c03b4aa3499c5328201f1"
   }
  }
 },
 "nbformat": 4,
 "nbformat_minor": 2
}
