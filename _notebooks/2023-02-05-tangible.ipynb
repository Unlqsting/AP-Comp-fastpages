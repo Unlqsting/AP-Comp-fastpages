{
 "cells": [
  {
   "attachments": {},
   "cell_type": "markdown",
   "metadata": {},
   "source": [
    "# Tangible artifacts\n",
    "> this blog contains the current tangible artifact, full stack\n",
    "- toc: true\n",
    "- badges: true\n",
    "- categories: [CTP(tri2), week21, hacks(tri2)]\n",
    "- title: Tangible artifacts"
   ]
  },
  {
   "attachments": {},
   "cell_type": "markdown",
   "metadata": {},
   "source": [
    "# \n",
    "#### **This is my tangible artifact. This includes a fully interactive sign-up user interface that allows the user to post their data. This page is made by using HTML, SASS, and JS. I am using a basic HTML form to hold the user input. I then attached a POST method to the form and also an action. This posts the form data to the action which happens to be the create-user api url.**\n",
    "\n",
    "![image.png](images/signup.png)\n",
    "\n",
    "#### **This is my full stack.**\n",
    "\n",
    "![Alt Text](https://media.giphy.com/media/6OZbS2N6Oiro4TLk9M/giphy.gif)\n",
    "\n",
    "#### **api code**\n",
    "![image.png](images/apicode.png)\n",
    "\n",
    "When a user inputs their data into the frontend of the application, they have the ability to submit this information by clicking the submit button. Upon doing so, the data is posted to the backend where it undergoes processing. The first step in this process is the conversion of the data from an HTML encoded form to a JSON formatted structure. This conversion is crucial as it allows for the easy transfer and storage of data within the system.\n",
    "\n",
    "Once the data has been converted, it is then processed and the result is returned to the user in JSON format. This allows for easy display of the result and provides a clear understanding of what information has been processed and returned.\n",
    "\n",
    "The goal is to create a full CRUD (Create, Read, Update, Delete) system, where the user can directly manipulate their data. This is currently in progress and is a top priority to ensure that the system is user-friendly and efficient. The CRUD system will allow users to add new data, view their existing data, update existing data, and delete data if necessary, all from within the frontend of the application"
   ]
  }
 ],
 "metadata": {
  "kernelspec": {
   "display_name": "Python 3",
   "language": "python",
   "name": "python3"
  },
  "language_info": {
   "name": "python",
   "version": "3.8.10"
  },
  "orig_nbformat": 4,
  "vscode": {
   "interpreter": {
    "hash": "916dbcbb3f70747c44a77c7bcd40155683ae19c65e1c03b4aa3499c5328201f1"
   }
  }
 },
 "nbformat": 4,
 "nbformat_minor": 2
}
