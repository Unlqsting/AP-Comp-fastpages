{
 "cells": [
  {
   "attachments": {},
   "cell_type": "markdown",
   "metadata": {},
   "source": [
    "#"
   ]
  },
  {
   "attachments": {},
   "cell_type": "markdown",
   "metadata": {},
   "source": [
    "# Lesson 8 Hacks\n",
    "> these are the hacks for lesson 8\n",
    "- title: Lesson 8 hacks\n",
    "- toc: true\n",
    "- tags: [hacks(tri2), lesson(tri2)]"
   ]
  },
  {
   "attachments": {},
   "cell_type": "markdown",
   "metadata": {},
   "source": [
    "# hacks 1\n",
    "\n",
    "One idea for a simulation is a flight simulator. It is better to code a flight simulator and test out planes in it than doing it in real life. IRL planes are very expensive compared to the endless simulations that can be run on a computer. A flight simulator is a simulation because it takes IRL factors (physics, engineering) and combines it into a computer program. A big disadvantage would be the fact that a simulation is not 100% accurate. I don't think an experiment would be better in this case. A real life experiment would cost too much money and time. The flight simulator would take in irl factors and combine it into a program. You can then input any situation and run it to get visual output."
   ]
  },
  {
   "attachments": {},
   "cell_type": "markdown",
   "metadata": {},
   "source": [
    "# Hacks 2"
   ]
  },
  {
   "cell_type": "code",
   "execution_count": 1,
   "metadata": {},
   "outputs": [
    {
     "name": "stdout",
     "output_type": "stream",
     "text": [
      "Welcome to the Simulations Quiz!\n",
      "\n",
      " True or False: Simulations will always have the same result. \n",
      " A: True, \n",
      " B: False\n",
      "You said:  B\n",
      "Correct!\n",
      "\n",
      " True or False: A simulation has results that are more accurate than an experiment \n",
      " A: True, \n",
      " B: False\n",
      "You said:  B\n",
      "Correct!\n",
      "\n",
      " True or False: A simulation can model real world events that are not practical for experiments \n",
      " A: True, \n",
      " B: False\n",
      "You said:  A\n",
      "Correct!\n",
      "\n",
      " Which one of these is FALSE regarding simulations \n",
      " A: Reduces Costs, \n",
      " B: Is safer than real life experiments, \n",
      " C: More Efficient, \n",
      " D: More accurate than real life experiments\n",
      "You said:  D\n",
      "Correct!\n",
      "\n",
      " Which of the following scenarios would be the LEAST beneficial to have as a simulation \n",
      " A: A retail company wants to identify the item which sold the most on their website, \n",
      " B: A restaurant wants to determine if the use of robots will increase efficiency, \n",
      " C: An insurance company wants to study the impact of rain on car accidents, \n",
      " D: A sports car company wants to study design changes to their new bike design \n",
      "You said:  A\n",
      "Correct!\n",
      "\n",
      " Which of the following is better to do as a simulation than as a calculation \n",
      " A: Keeping score at a basketball game, \n",
      " B: Keeping track of how many games a person has won, \n",
      " C: Determining the average grade for a group of tests, \n",
      " D: Studying the impact of carbon emissions on the environment\n",
      "You said:  D\n",
      "Correct!\n",
      "You scored:  6 /6\n"
     ]
    }
   ],
   "source": [
    "questions_number = 6\n",
    "answers_correct = 0\n",
    "questions = [\n",
    "    \"True or False: Simulations will always have the same result. \\n A: True, \\n B: False\",\n",
    "    \"True or False: A simulation has results that are more accurate than an experiment \\n A: True, \\n B: False\",\n",
    "    \"True or False: A simulation can model real world events that are not practical for experiments \\n A: True, \\n B: False\",\n",
    "    \"Which one of these is FALSE regarding simulations \\n A: Reduces Costs, \\n B: Is safer than real life experiments, \\n C: More Efficient, \\n D: More accurate than real life experiments\",\n",
    "    \"Which of the following scenarios would be the LEAST beneficial to have as a simulation \\n A: A retail company wants to identify the item which sold the most on their website, \\n B: A restaurant wants to determine if the use of robots will increase efficiency, \\n C: An insurance company wants to study the impact of rain on car accidents, \\n D: A sports car company wants to study design changes to their new bike design \",\n",
    "    \"Which of the following is better to do as a simulation than as a calculation \\n A: Keeping score at a basketball game, \\n B: Keeping track of how many games a person has won, \\n C: Determining the average grade for a group of tests, \\n D: Studying the impact of carbon emissions on the environment\"\n",
    "]\n",
    "question_answers = [\n",
    "    \"B\",\n",
    "    \"B\",\n",
    "    \"A\",\n",
    "    \"D\",\n",
    "    \"A\",\n",
    "    \"D\"\n",
    "]\n",
    "\n",
    "print(\"Welcome to the Simulations Quiz!\")\n",
    "\n",
    "def ask_question (question, answer):\n",
    "    print(\"\\n\", question)\n",
    "    user_answer = input(question)\n",
    "    print(\"You said: \", user_answer)\n",
    "\n",
    "    if user_answer == answer:\n",
    "        print(\"Correct!\")\n",
    "        global answers_correct\n",
    "        answers_correct = answers_correct + 1\n",
    "    else:\n",
    "        print(\"You are incorrect\")\n",
    "    \n",
    "for num in range(questions_number):\n",
    "    ask_question(questions[num], question_answers[num])\n",
    "\n",
    "print(\"You scored: \", answers_correct, \"/6\")"
   ]
  },
  {
   "attachments": {},
   "cell_type": "markdown",
   "metadata": {},
   "source": [
    "# Hacks 3\n",
    "Rolling dice simulation: \n",
    "\n",
    "    What makes it a simulation?\n",
    "    - It takes in the features of a die and represents those features in a code. You can then run the code and roll the die how many ever times you want(code: input the number of times you roll the die). You will then get to see the end result of your roll (code: returns the output). \n",
    "    \n",
    "    Disadvantages and advantages?\n",
    "    - One advantage of this simulation is that you dont need a physical die. You have a virtual die which doesn't take up any physical space compared to an actual die (okay fine, a real die takes up a negligible amount). One disadvantage is the physical interaction and excitement of rolling a die. Unless you code a 3d simulation of a die, then you won't get that experience. \n",
    "\n",
    "    Would an experiment be better?\n",
    "    - Yes. For me, rolling a die in real life is a lot more suspenseful and satisfying than rolling it on a computer. \n"
   ]
  },
  {
   "attachments": {},
   "cell_type": "markdown",
   "metadata": {},
   "source": [
    "# Hacks 4"
   ]
  },
  {
   "cell_type": "code",
   "execution_count": null,
   "metadata": {},
   "outputs": [],
   "source": [
    "import random\n",
    "\n",
    "/**\n",
    "    * ! Changed number of sides on a die to 14 and max number of rolls to 14\n",
    "    * @param args\n",
    "    * @throws Exception\n",
    "    */\n",
    "\n",
    "\n",
    "def parse_input(input_string):\n",
    "    if input_string.strip() in {\"1\",\"2\",\"3\",\"4\",\"5\",\"6\",\"7\",\"8\",\"9\",\"10\",\"11\",\"12\",\"13\",\"14\"}:\n",
    "        return int(input_string)\n",
    "    else:\n",
    "        print(\"Please enter a number from 1 to 14.\")\n",
    "        raise SystemExit(1)\n",
    "\n",
    "\n",
    "\n",
    "def roll_dice(num_dice):\n",
    "    roll_results = []\n",
    "    for _ in range(num_dice):\n",
    "        roll = random.randint(1, 14)\n",
    "        roll_results.append(roll)\n",
    "    return roll_results\n",
    "\n",
    "num_dice_input = input(\"How many dice do you want to roll? [1-14] \")\n",
    "num_dice = parse_input(num_dice_input)\n",
    "roll_results = roll_dice(num_dice)\n",
    "\n",
    "print(\"you rolled:\", roll_results)"
   ]
  },
  {
   "attachments": {},
   "cell_type": "markdown",
   "metadata": {},
   "source": [
    "# Bonus:\n",
    "For the bonus, I made a population simulation. This is a very basic simulation that does not take in factors such as infant mortality rate, fertility, and food. The initial population is 75 and the rate of growth is 1.0008% (daily). We can find the daily growth by multiplying population*growthrate and then subtracting population. One advantage is that it can let you predict future populations, allowing you to prepare for what's coming. One disadvantage is the lack of reality. You can only add so many factors, but in the end, it will still be somewhat inaccurate. In this case, I would say that a simulation is better than an experiment. Well, an experiment would be somewhat unethical. "
   ]
  },
  {
   "cell_type": "code",
   "execution_count": 6,
   "metadata": {},
   "outputs": [
    {
     "name": "stdout",
     "output_type": "stream",
     "text": [
      "this month the total population is 82.55376136399722\n",
      "this month the total population is 90.86831353791744\n",
      "this month the total population is 100.02028095144162\n",
      "this month the total population is 110.09400540300364\n",
      "this month the total population is 121.18232332861587\n",
      "this month the total population is 133.38742135473754\n",
      "this month the total population is 146.8217780197062\n",
      "this month the total population is 161.60920034235468\n",
      "this month the total population is 177.88596479052237\n",
      "this month the total population is 195.80207316428277\n",
      "this month the total population is 215.5226349677352\n",
      "this month the total population is 237.2293890088841\n",
      "this month the total population is 261.1223782502173\n",
      "this month the total population is 287.421793344905\n",
      "this month the total population is 316.37000184809915\n",
      "this month the total population is 348.2337818039382\n",
      "this month the total population is 383.30678029232814\n",
      "this month the total population is 421.9122195927332\n",
      "this month the total population is 464.4058759041721\n",
      "this month the total population is 511.17935807241565\n",
      "this month the total population is 562.6637165401538\n",
      "this month the total population is 619.3334157791423\n",
      "this month the total population is 681.7107068130758\n",
      "this month the total population is 750.3704401270476\n",
      "this month the total population is 825.9453633179457\n",
      "this month the total population is 909.1319523073298\n",
      "this month the total population is 1000.6968298555237\n",
      "this month the total population is 1101.48383052802\n",
      "this month the total population is 1212.4217772228226\n",
      "this month the total population is 1334.5330409248838\n",
      "this month the total population is 1468.9429625717664\n",
      "this month the total population is 1616.8902238596363\n",
      "this month the total population is 1779.7382625638475\n",
      "this month the total population is 1958.9878375742796\n",
      "this month the total population is 2156.2908594410665\n",
      "this month the total population is 2373.4656138888845\n",
      "this month the total population is 2612.5135185951476\n",
      "this month the total population is 2875.6375676576076\n",
      "this month the total population is 3165.262633730023\n",
      "this month the total population is 3484.0578149243456\n",
      "this month the total population is 3834.9610324217906\n",
      "this month the total population is 4221.206105477029\n",
      "this month the total population is 4646.352553330655\n",
      "this month the total population is 5114.31839867544\n",
      "this month the total population is 5629.416274983376\n",
      "this month the total population is 6196.393170447736\n",
      "this month the total population is 6820.474174808599\n",
      "this month the total population is 7507.410632219408\n",
      "this month the total population is 8263.533143917026\n",
      "this month the total population is 9095.809909152116\n"
     ]
    }
   ],
   "source": [
    "population = 75\n",
    "growthrate = 1.0008\n",
    "day = 0\n",
    "\n",
    "while population <= 10000:\n",
    "    population *= growthrate\n",
    "    day += 1\n",
    "    if day == 120:\n",
    "        day = 0\n",
    "        print(f\"this month the total population is {population}\")"
   ]
  }
 ],
 "metadata": {
  "kernelspec": {
   "display_name": "Python 3",
   "language": "python",
   "name": "python3"
  },
  "language_info": {
   "codemirror_mode": {
    "name": "ipython",
    "version": 3
   },
   "file_extension": ".py",
   "mimetype": "text/x-python",
   "name": "python",
   "nbconvert_exporter": "python",
   "pygments_lexer": "ipython3",
   "version": "3.8.10 (default, Jun 22 2022, 20:18:18) \n[GCC 9.4.0]"
  },
  "orig_nbformat": 4,
  "vscode": {
   "interpreter": {
    "hash": "916dbcbb3f70747c44a77c7bcd40155683ae19c65e1c03b4aa3499c5328201f1"
   }
  }
 },
 "nbformat": 4,
 "nbformat_minor": 2
}
