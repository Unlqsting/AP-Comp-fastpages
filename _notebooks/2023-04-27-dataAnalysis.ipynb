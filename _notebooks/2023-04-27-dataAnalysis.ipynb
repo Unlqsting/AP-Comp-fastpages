{
 "cells": [
  {
   "attachments": {},
   "cell_type": "markdown",
   "metadata": {},
   "source": [
    "# Data Analysis Hacks\n",
    "> This is the blog for the data analysis hacks \n",
    "- toc: false\n",
    "- badges: true\n",
    "- comments: true\n",
    "- categories: [hacks(tri3)]\n",
    "- title: Data Analysis Hacks"
   ]
  },
  {
   "attachments": {},
   "cell_type": "markdown",
   "metadata": {},
   "source": [
    "# Predictive analysis hacks\n",
    "\n",
    "## How can Numpy and Pandas be used to preprocess data for predictive analysis?\n",
    "\n",
    "## What machine learning algorithms can be used for predictive analysis, and how do they differ?\n",
    "\n",
    "## Can you discuss some real-world applications of predictive analysis in different industries?\n",
    "\n",
    "## Can you explain the role of feature engineering in predictive analysis, and how it can improve model accuracy?\n",
    "\n",
    "## How can machine learning models be deployed in real-time applications for predictive analysis?\n",
    "\n",
    "## Can you discuss some limitations of Numpy and Pandas, and when it might be necessary to use other data analysis tools?\n",
    "\n",
    "## How can predictive analysis be used to improve decision-making and optimize business processes?\n",
    "\n",
    "## Make your own preditive analysis code with a made up or real world scenario to predict an outcome!!\n"
   ]
  },
  {
   "cell_type": "code",
   "execution_count": null,
   "metadata": {},
   "outputs": [],
   "source": [
    "import pandas as pd\n",
    "from sklearn.linear_model import LinearRegression\n",
    "\n",
    "# Load the dataset into a pandas DataFrame\n",
    "df = pd.read_csv('houses.csv')\n",
    "\n",
    "# Split the dataset into features and target variable\n",
    "X = df[['size', 'bedrooms', 'location']]\n",
    "y = df['price']\n",
    "\n",
    "# Train the linear regression model\n",
    "model = LinearRegression()\n",
    "model.fit(X, y)\n",
    "\n",
    "# Make a prediction for a new house\n",
    "new_house = [[2000, 3, 'New York']]\n",
    "predicted_price = model.predict(new_house)\n",
    "\n",
    "# Print the predicted price\n",
    "print('Predicted price for the new house: $', round(predicted_price[0], 2))\n"
   ]
  }
 ],
 "metadata": {
  "kernelspec": {
   "display_name": "base",
   "language": "python",
   "name": "python3"
  },
  "language_info": {
   "codemirror_mode": {
    "name": "ipython",
    "version": 3
   },
   "file_extension": ".py",
   "mimetype": "text/x-python",
   "name": "python",
   "nbconvert_exporter": "python",
   "pygments_lexer": "ipython3",
   "version": "3.9.13"
  },
  "orig_nbformat": 4
 },
 "nbformat": 4,
 "nbformat_minor": 2
}
