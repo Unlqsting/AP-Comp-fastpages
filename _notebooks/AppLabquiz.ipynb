{
 "cells": [
  {
   "cell_type": "markdown",
   "metadata": {},
   "source": [
    "# AppLab Math quiz plan\n",
    "\n",
    "> This post explains the plan for the making of an AppLab quiz.\n",
    "\n",
    "- title: AppLab Math quiz blog\n",
    "- toc: true\n",
    "- badges: true \n",
    "- comments: true \n",
    "- categories: [developer tools, AppLab, planning]\n",
    "- image: images/applab image.png"
   ]
  },
  {
   "cell_type": "markdown",
   "metadata": {},
   "source": [
    "My partner, Alan, and I have decided on making a math quiz on applab for the week 4 requirement. We plan on using basic math questions to test out applabs developer tool. We will use the given code blocks and experiment around to find the proper layout for the quiz we want. We plan on giving basic feedback if the user gets a question wrong and uplifting messages when they get it right. We also plan to troll people by telling them that they are guaranteed a 0% on their next math test. It is what it is."
   ]
  }
 ],
 "metadata": {
  "kernelspec": {
   "display_name": "Python 3.8.10 64-bit",
   "language": "python",
   "name": "python3"
  },
  "language_info": {
   "name": "python",
   "version": "3.8.10"
  },
  "orig_nbformat": 4,
  "vscode": {
   "interpreter": {
    "hash": "916dbcbb3f70747c44a77c7bcd40155683ae19c65e1c03b4aa3499c5328201f1"
   }
  }
 },
 "nbformat": 4,
 "nbformat_minor": 2
}
