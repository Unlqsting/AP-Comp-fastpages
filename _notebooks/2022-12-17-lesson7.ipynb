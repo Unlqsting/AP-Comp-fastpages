{
 "cells": [
  {
   "attachments": {},
   "cell_type": "markdown",
   "metadata": {},
   "source": [
    "# 3.14 & 3.15 Hacks\n",
    "> This is regarding the 3.14 and 3.15 lesson. This includes the hacks for it.\n",
    "- toc: true\n",
    "- badges: true\n",
    "- categories: [lesson(tri2), notes(tri2), hacks(tri2)]\n",
    "- title: 3.14 & 3.15 Hacks"
   ]
  },
  {
   "attachments": {},
   "cell_type": "markdown",
   "metadata": {},
   "source": [
    "# Hack 1:"
   ]
  },
  {
   "cell_type": "code",
   "execution_count": 1,
   "metadata": {},
   "outputs": [
    {
     "data": {
      "text/plain": [
       "1.0"
      ]
     },
     "execution_count": 1,
     "metadata": {},
     "output_type": "execute_result"
    }
   ],
   "source": [
    "import math as mt\n",
    "\n",
    "mt.cos(0)"
   ]
  },
  {
   "attachments": {},
   "cell_type": "markdown",
   "metadata": {},
   "source": [
    "The piece of code above imports the library \"math\" and imports it as mt. The code then uses the math library to evaluate cos(0). "
   ]
  },
  {
   "attachments": {},
   "cell_type": "markdown",
   "metadata": {},
   "source": [
    "# Hacks 2:\n",
    "\n",
    "1. the import random function: This functions takes 2 arguments (parameters) and chooses a random output between those arguments. \n",
    "\n",
    "2. There are many things we can import other than random\n",
    "    - import pandas: widely used for data science and machine learning tasks\n",
    "    - import NumPy: used for working with arrays\n",
    "    - import math: used for doing math operations\n",
    "    - here is a link to some of the most important python libraries : <a href=\"https://www.interviewbit.com/blog/python-libraries/\">click here</a>\n",
    "    - here are some of my favorite python libraries\n",
    "        Requests - for HTTP operation (Internet interaction library), substitute to URL lib\n",
    "\n",
    "        Json - json parsing library\n",
    "\n",
    "        Virtualenv - for creating virtual environments\n",
    "\n",
    "        Numpy - for advanced math operations\n",
    "\n",
    "        Flask - simple and quick web framework.\n",
    "\n",
    "        Scrappy - for web scraping\n",
    "\n",
    "        TensorFlow - open source AI module from Google.\n",
    "\n",
    "        Jupyter Notebook - advanced python shell.\n",
    "\n",
    "3. Few lines of code the uses the import function. I decide to use getpass and sys to make a python quiz. getpass() gets the username of the user and sys.excutable shows the path to the python interpreter you are using. This can be useful at times because some pieces of code run better on different kernels."
   ]
  },
  {
   "cell_type": "code",
   "execution_count": null,
   "metadata": {},
   "outputs": [],
   "source": [
    "import getpass, sys\n",
    "\n",
    "print('Hello, ' + getpass.getuser() + \" running \" + sys.executable)\n",
    "print(\"You will be asked three questions.\")\n",
    "\n",
    "# quiz render function\n",
    "def quiz():\n",
    "\n",
    "    guesses = []\n",
    "    correct_guesses = 0\n",
    "    question_num = 1\n",
    "\n",
    "    for key in questions:\n",
    "        print(\" \")\n",
    "        print(key)\n",
    "        for i in options[question_num-1]:\n",
    "            print(i)\n",
    "        guess = input()\n",
    "        guess = guess.upper()\n",
    "        guesses.append(guess)\n",
    "\n",
    "        correct_guesses += check_answer(questions.get(key), guess)\n",
    "        question_num += 1\n",
    "\n",
    "    display_score(correct_guesses, guesses)\n",
    "\n",
    "# checks if the answer is correct or not\n",
    "def check_answer(answer, guess):\n",
    "\n",
    "    if answer == guess:\n",
    "        print(\"CORRECT!\")\n",
    "        return 1\n",
    "    else:\n",
    "        print(\"WRONG!\")\n",
    "        return 0\n",
    "\n",
    "# takes the number of correct guesses and divides it by the questions to display score\n",
    "def display_score(correct_guesses, guesses):\n",
    "    print(\" \")\n",
    "    print(\"RESULTS\")\n",
    "    print(\" \")\n",
    "\n",
    "    score = int((correct_guesses/len(questions))*100)\n",
    "    print(\"Your score is: \"+str(score)+\"%\")\n",
    "\n",
    "# questions formatted into a dictionary for ease of access\n",
    "questions = {\n",
    "    \"What command is used to include other functions that were previously developed?\" : \"A\",\n",
    "    \"What command is used to evaluate correct or incorrect response in this example?\" : \"C\",\n",
    "    \"Each 'if' command contains an '_________' to determine a true or false condition?\" : \"B\"\n",
    "}\n",
    "\n",
    "# answers formatted into options that are in a double list\n",
    "options = [[\"A. import\", \"B. libraries\", \"C. do it yourself\", \"D. cheat\"],\n",
    "          [\"A. else\", \"B. boolean\", \"C. if\", \"D. for\"],\n",
    "          [\"A. answer\", \"B. expression\", \"C. diet coke\", \"D. function\"],\n",
    "]\n",
    "\n",
    "quiz()\n",
    "\n",
    "print(\"Byeeeeee!\")"
   ]
  },
  {
   "attachments": {},
   "cell_type": "markdown",
   "metadata": {},
   "source": [
    "# Hacks 3:\n",
    "\n",
    "1. random(12,20). The numbers that can be outputted are the numbers between 12 and 20, also includes 12 and 20. All other numbers are excluded."
   ]
  },
  {
   "cell_type": "code",
   "execution_count": 57,
   "metadata": {},
   "outputs": [
    {
     "name": "stdout",
     "output_type": "stream",
     "text": [
      "blue\n"
     ]
    }
   ],
   "source": [
    "import random\n",
    "\n",
    "spin = random.randint(1,8)\n",
    "\n",
    "if spin in range(1,3):\n",
    "    print(\"green\")\n",
    "    \n",
    "elif spin in range(4,5):\n",
    "    print(\"blue\")\n",
    "\n",
    "elif spin == 6:\n",
    "    print(\"red\")\n",
    "    \n",
    "elif spin == 7:\n",
    "    print(\"purple\")\n",
    "    \n",
    "elif spin == 8:\n",
    "    print(\"orange\")\n",
    "    \n"
   ]
  }
 ],
 "metadata": {
  "kernelspec": {
   "display_name": "base",
   "language": "python",
   "name": "python3"
  },
  "language_info": {
   "codemirror_mode": {
    "name": "ipython",
    "version": 3
   },
   "file_extension": ".py",
   "mimetype": "text/x-python",
   "name": "python",
   "nbconvert_exporter": "python",
   "pygments_lexer": "ipython3",
   "version": "3.9.12 (main, Apr  5 2022, 06:56:58) \n[GCC 7.5.0]"
  },
  "orig_nbformat": 4,
  "vscode": {
   "interpreter": {
    "hash": "d00ac051d2445c25bd13d1c6afec52dd8b153cef520d4f3b1e76a10ad5147afe"
   }
  }
 },
 "nbformat": 4,
 "nbformat_minor": 2
}
