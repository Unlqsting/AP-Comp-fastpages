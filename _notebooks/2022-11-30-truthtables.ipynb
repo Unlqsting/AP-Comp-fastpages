{
 "cells": [
  {
   "attachments": {},
   "cell_type": "markdown",
   "metadata": {},
   "source": [
    "#  Algorithms and Logic notes\n",
    "> A discussion on Logic and Algorithms.  \n",
    "- toc: true\n",
    "- image: /images/truth.png\n",
    "- categories: []\n",
    "- type: pbl\n",
    "- week: 14"
   ]
  },
  {
   "cell_type": "markdown",
   "metadata": {},
   "source": [
    "# Truth Tables\n",
    "- AND, OR, XOR, NOT\n",
    "- Truth tables will have 0 and 1's\n",
    "    - 0 represents false/off\n",
    "    - 1 represents true/on\n",
    "- AND\n",
    "    0 and 1 --> false\n",
    "- OR \n",
    "    1 or 0 --> 1\n",
    "- Xor\n",
    "    1 XOR 1 --> false\n",
    "\n"
   ]
  }
 ],
 "metadata": {
  "kernelspec": {
   "display_name": "Python 3.8.10 64-bit",
   "language": "python",
   "name": "python3"
  },
  "language_info": {
   "name": "python",
   "version": "3.8.10 (default, Jun 22 2022, 20:18:18) \n[GCC 9.4.0]"
  },
  "orig_nbformat": 4,
  "vscode": {
   "interpreter": {
    "hash": "916dbcbb3f70747c44a77c7bcd40155683ae19c65e1c03b4aa3499c5328201f1"
   }
  }
 },
 "nbformat": 4,
 "nbformat_minor": 2
}
