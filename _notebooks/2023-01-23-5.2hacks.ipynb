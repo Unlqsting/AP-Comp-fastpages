{
 "cells": [
  {
   "attachments": {},
   "cell_type": "markdown",
   "metadata": {},
   "source": [
    "# CB 5.2 virtual divide\n",
    "> this blog contains the notes, hacks, and reflection for the collegeboard article 5.2 virtual divide. \n",
    "- toc: true\n",
    "- badges: true\n",
    "- categories: [CTP(tri2), week20, hacks(tri2)]\n",
    "- title: CB 5.2 virtual divide"
   ]
  },
  {
   "attachments": {},
   "cell_type": "markdown",
   "metadata": {},
   "source": [
    "# Notes:\n",
    "- Students at del norte are on the digital side of the digital divide. \n",
    "    - But there are a lot of tiers to the digital divide. Things such as money, location, education, nationality, religion, and ethnicity influences this"
   ]
  },
  {
   "attachments": {},
   "cell_type": "markdown",
   "metadata": {},
   "source": [
    "# How does someone empower themselves in a digital world?\n",
    "Everyone on the digital side has access to the internet. The internet has an infinite amount of information. For someone to empower themselves, they need to use the internet to get information that is beneficial for their growth. You can also empower yourself by voicing your opinion on the internet. "
   ]
  },
  {
   "attachments": {},
   "cell_type": "markdown",
   "metadata": {},
   "source": [
    "# How does someone that is empowered help someone that is not empowered?\n",
    "Someone who is in a privileged side of the digital divide can use their privileges AND knowledge to spread information, innovate apps that can aid someone, and again, voice their opinion on the internet. A persons opinion can help raise fundraisers to fund some technologies that the less empowered can use. "
   ]
  },
  {
   "attachments": {},
   "cell_type": "markdown",
   "metadata": {},
   "source": [
    "# Is paper or red tape blocking digital empowerment? Are there such barriers at Del Norte? Elsewhere? \n",
    "I don't think that paper or red tape are blocking digital empowerment. I think that privileges are blocking digital empowerment. People who are born in privilege get more opportunites and get successful while people with very little privilege have a hard time getting out of there. There are definetly barriers at del norte. Del Norte block the usage of social media while on campus. I don't really use social media so it doesn't affect me, but it could affect other people. Some office workspaces use products like DNSfilter to filter unwanted websites so that their employees are more productive. "
   ]
  }
 ],
 "metadata": {
  "language_info": {
   "name": "python"
  },
  "orig_nbformat": 4
 },
 "nbformat": 4,
 "nbformat_minor": 2
}
