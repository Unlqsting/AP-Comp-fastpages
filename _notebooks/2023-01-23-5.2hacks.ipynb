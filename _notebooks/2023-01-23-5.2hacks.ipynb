{
 "cells": [
  {
   "attachments": {},
   "cell_type": "markdown",
   "metadata": {},
   "source": [
    "# CB 5.2 virtual divide\n",
    "> this blog contains the notes, hacks, and reflection for the collegeboard article 5.2 virtual divide. \n",
    "- toc: true\n",
    "- badges: true\n",
    "- categories: [CTP(tri2), week20, hacks(tri2)]\n",
    "- title: CB 5.2 virtual divide"
   ]
  }
 ],
 "metadata": {
  "language_info": {
   "name": "python"
  },
  "orig_nbformat": 4
 },
 "nbformat": 4,
 "nbformat_minor": 2
}
