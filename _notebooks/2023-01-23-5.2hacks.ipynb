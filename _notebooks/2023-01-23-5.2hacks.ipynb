{
 "cells": [
  {
   "attachments": {},
   "cell_type": "markdown",
   "metadata": {},
   "source": [
    "# CB 5.2 virtual divide\n",
    "> this blog contains the notes, hacks, and reflection for the collegeboard article 5.2 virtual divide. \n",
    "- toc: true\n",
    "- badges: true\n",
    "- categories: [CTP(tri2), week20, hacks(tri2)]\n",
    "- title: CB 5.2 virtual divide"
   ]
  },
  {
   "attachments": {},
   "cell_type": "markdown",
   "metadata": {},
   "source": [
    "# Notes:\n",
    "- Students at del norte are on the digital side of the digital divide. \n",
    "    - But there are a lot of tiers to the digital divide. Things such as money, location, education, nationality, religion, and ethnicity influences this"
   ]
  },
  {
   "attachments": {},
   "cell_type": "markdown",
   "metadata": {},
   "source": [
    "# How does someone empower themselves in a digital world?\n",
    "Everyone on the digital side has access to the internet. The internet has an infinite amount of information. For someone to empower themselves, they need to use the internet to get information that is beneficial for their growth. You can also empower yourself by voicing your opinion on the internet. "
   ]
  },
  {
   "attachments": {},
   "cell_type": "markdown",
   "metadata": {},
   "source": [
    "# How does someone that is empowered help someone that is not empowered?\n",
    "Someone who is in a privileged side of the digital divide can use their privileges AND knowledge to spread information, innovate apps that can aid someone, and again, voice their opinion on the internet. A persons opinion can help raise fundraisers to fund some technologies that the less empowered can use. "
   ]
  },
  {
   "attachments": {},
   "cell_type": "markdown",
   "metadata": {},
   "source": [
    "# Is paper or red tape blocking digital empowerment? Are there such barriers at Del Norte? Elsewhere? \n",
    "I don't think that paper or red tape are blocking digital empowerment. I think that privileges are blocking digital empowerment. People who are born in privilege get more opportunites and get successful while people with very little privilege have a hard time getting out of there. There are definetly barriers at del norte. Del Norte block the usage of social media while on campus. I don't really use social media so it doesn't affect me, but it could affect other people. Some office workspaces use products like DNSfilter to filter unwanted websites so that their employees are more productive. "
   ]
  },
  {
   "attachments": {},
   "cell_type": "markdown",
   "metadata": {},
   "source": [
    "# What are the pros/cons of internet blockers at school?\n",
    "\n",
    "Pros:\n",
    "- Students are more productive since they are not distracted by social media\n",
    "- Students are less likely to get distracted by inappropriate content\n",
    "\n",
    "Cons:\n",
    "- Students are less likely to get help from the internet since there are heavy limitations on what they can access\n",
    "\n",
    "Limitations on websties such as reddit and youtube can be a good thing since students can get distracted by inappropriate content. But it can also be a bad thing since students can't get help from those websites. Youtube and reddit can be used by students to get help when they're stuck on certain problems. I specifically use youtube to get help on math problems and computer science problems. I have also noticed that I have encountered solutions for CSP problems on reddit, but wasn't able to access them since I was on campus. \n",
    "\n",
    "### Lack of admin password on lab computers:\n",
    "I am not sure what you mean by that. I think that you mean that students don't have admin access to the computers. I think that this is a good thing since students can't mess with the computers. But I think that this is a bad thing since students can't install programs that they need for their work. "
   ]
  },
  {
   "attachments": {},
   "cell_type": "markdown",
   "metadata": {},
   "source": [
    "# Concern for digital divide\n",
    "- I think that the digital divide is a real thing. I think that the digital divide is a real thing because there are people who are born in privilege and people who are born in poverty. People who are born in privilege have more opportunities and get more successful while people who are born in poverty have a hard time getting out of there. My concern for digital divide is that people who are born in poverty might never get out of there and the cycle could continue. "
   ]
  }
 ],
 "metadata": {
  "kernelspec": {
   "display_name": "Bash",
   "language": "bash",
   "name": "bash"
  },
  "language_info": {
   "name": "bash"
  },
  "orig_nbformat": 4
 },
 "nbformat": 4,
 "nbformat_minor": 2
}
