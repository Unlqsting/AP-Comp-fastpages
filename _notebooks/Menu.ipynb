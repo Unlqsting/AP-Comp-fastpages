{
 "cells": [
  {
   "cell_type": "markdown",
   "metadata": {},
   "source": [
    "# Error testing (challenge)\n",
    "> Quite self-explanatory\n",
    "\n",
    "- toc: true \n",
    "- badges: true\n",
    "- comments: true\n",
    "- categories: [python, errortesting, collegeboard]\n",
    "- title: College Board Error testing"
   ]
  },
  {
   "cell_type": "code",
   "execution_count": null,
   "metadata": {},
   "outputs": [],
   "source": [
    "menu =  {\"burger\": 3.99,\n",
    "         \"fries\": 1.99,\n",
    "         \"drink\": 0.99}\n",
    "total = 0\n",
    "\n",
    "#shows the user the menu and prompts them to select an item\n",
    "print(\"Menu\")\n",
    "for k,v in menu.items():\n",
    "    print(k + \"  $\" + str(v)) #why does v have \"str\" in front of it?\n",
    "\n",
    "#ideally the code should prompt the user multiple times\n",
    "item = input(\"Please select an item from the menu\")\n",
    "\n",
    "#code should add the price of the menu items selected by the user \n",
    "print(\"Your total:\" + \" \" + str(total) + str(menu.get(item)))\n",
    "\n",
    "total = menu.get(item)\n",
    "\n",
    "#shows the user the menu and prompts them to select an item\n",
    "print(\"Anything else?\")\n",
    "for k,v in menu.items():\n",
    "    print(k + \"  $\" + str(v)) #why does v have \"str\" in front of it?\n",
    "\n",
    "#ideally the code should prompt the user multiple times\n",
    "item = input(\"Please select an item from the menu\")\n",
    "if item == \"no\":\n",
    "    print(\"Thanks for ordering!\")\n",
    "    print(\"Your total:\" + \" \" + str(total))\n",
    "else:\n",
    "    print(\"Your total:\" + \" \" + str(total) + str(menu.get(item)))\n",
    "\n",
    "total = total + menu.get(item)\n",
    "\n",
    "while(True):\n",
    "    print(\"Menu\")\n",
    "    for k,v in menu.items():\n",
    "        print(k + \"  $\" + str(v)) #why does v have \"str\" in front of it?\n",
    "\n",
    "#ideally the code should prompt the user multiple times\n",
    "    item = input(\"Please select an item from the menu. If you wish to exit, type no\")\n",
    "\n",
    "    if item == \"no\": \n",
    "        print(\"Thanks for ordering!\")\n",
    "        print(\"Your total:\" + \" \" + str(total))\n",
    "        break\n",
    "    else:\n",
    "        print(\"Your total:\" + \" \" + str(total) + str(menu.get(item)))\n",
    "        total = total + menu.get(item)"
   ]
  },
  {
   "cell_type": "markdown",
   "metadata": {},
   "source": [
    "# What errors may arise in your project?\n",
    "\n",
    "    I think some of the most common errors that will arise in our project are miscommunication, syntax-based, OAuth errors, and logic based errors. "
   ]
  },
  {
   "cell_type": "markdown",
   "metadata": {},
   "source": [
    "# What are some test cases that can be used?\n",
    "\n",
    "    Each of us can individually review the code that has the error. This way, if an error appears or an not-intended value appears, we can switch between who reviews the code."
   ]
  },
  {
   "cell_type": "markdown",
   "metadata": {},
   "source": [
    "# Make sure to document any bugs you encounter and how you solved the problem\n",
    "\n",
    "    Yes, we will document it on the Scrum Board."
   ]
  },
  {
   "cell_type": "markdown",
   "metadata": {},
   "source": [
    "# What are “single” tests that you will perform on your project? Or, your part of the project?\n",
    "\n",
    "    My job is regarding the elements of our project. I need to make sure the elements work as intended, and to do this I will not only have some of my friends test it, but also personally test common and uncommon inputs."
   ]
  }
 ],
 "metadata": {
  "kernelspec": {
   "display_name": "Python 3.8.10 64-bit",
   "language": "python",
   "name": "python3"
  },
  "language_info": {
   "codemirror_mode": {
    "name": "ipython",
    "version": 3
   },
   "file_extension": ".py",
   "mimetype": "text/x-python",
   "name": "python",
   "nbconvert_exporter": "python",
   "pygments_lexer": "ipython3",
   "version": "3.8.10"
  },
  "orig_nbformat": 4,
  "vscode": {
   "interpreter": {
    "hash": "916dbcbb3f70747c44a77c7bcd40155683ae19c65e1c03b4aa3499c5328201f1"
   }
  }
 },
 "nbformat": 4,
 "nbformat_minor": 2
}
