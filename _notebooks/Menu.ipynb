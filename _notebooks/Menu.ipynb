{
 "cells": [
  {
   "cell_type": "code",
   "execution_count": 2,
   "metadata": {},
   "outputs": [
    {
     "name": "stdout",
     "output_type": "stream",
     "text": [
      "Menu\n",
      "burger  $3.99\n",
      "fries  $1.99\n",
      "drink  $0.99\n",
      "Your total: 03.99\n",
      "Anything else?\n",
      "burger  $3.99\n",
      "fries  $1.99\n",
      "drink  $0.99\n",
      "Your total: 3.991.99\n",
      "Menu\n",
      "burger  $3.99\n",
      "fries  $1.99\n",
      "drink  $0.99\n",
      "Your total: 5.980.99\n",
      "Menu\n",
      "burger  $3.99\n",
      "fries  $1.99\n",
      "drink  $0.99\n",
      "Thanks for ordering!\n",
      "Your total: 6.970000000000001\n"
     ]
    }
   ],
   "source": [
    "menu =  {\"burger\": 3.99,\n",
    "         \"fries\": 1.99,\n",
    "         \"drink\": 0.99}\n",
    "total = 0\n",
    "\n",
    "#shows the user the menu and prompts them to select an item\n",
    "print(\"Menu\")\n",
    "for k,v in menu.items():\n",
    "    print(k + \"  $\" + str(v)) #why does v have \"str\" in front of it?\n",
    "\n",
    "#ideally the code should prompt the user multiple times\n",
    "item = input(\"Please select an item from the menu\")\n",
    "\n",
    "#code should add the price of the menu items selected by the user \n",
    "print(\"Your total:\" + \" \" + str(total) + str(menu.get(item)))\n",
    "\n",
    "total = menu.get(item)\n",
    "\n",
    "#shows the user the menu and prompts them to select an item\n",
    "print(\"Anything else?\")\n",
    "for k,v in menu.items():\n",
    "    print(k + \"  $\" + str(v)) #why does v have \"str\" in front of it?\n",
    "\n",
    "#ideally the code should prompt the user multiple times\n",
    "item = input(\"Please select an item from the menu\")\n",
    "if item == \"no\":\n",
    "    print(\"Thanks for ordering!\")\n",
    "    print(\"Your total:\" + \" \" + str(total))\n",
    "else:\n",
    "    print(\"Your total:\" + \" \" + str(total) + str(menu.get(item)))\n",
    "\n",
    "total = total + menu.get(item)\n",
    "\n",
    "while(True):\n",
    "    print(\"Menu\")\n",
    "    for k,v in menu.items():\n",
    "        print(k + \"  $\" + str(v)) #why does v have \"str\" in front of it?\n",
    "\n",
    "#ideally the code should prompt the user multiple times\n",
    "    item = input(\"Please select an item from the menu. If you wish to exit, type no\")\n",
    "\n",
    "    if item == \"no\": \n",
    "        print(\"Thanks for ordering!\")\n",
    "        print(\"Your total:\" + \" \" + str(total))\n",
    "        break\n",
    "    else:\n",
    "        print(\"Your total:\" + \" \" + str(total) + str(menu.get(item)))\n",
    "        total = total + menu.get(item)"
   ]
  }
 ],
 "metadata": {
  "kernelspec": {
   "display_name": "Python 3.9.12 ('base')",
   "language": "python",
   "name": "python3"
  },
  "language_info": {
   "codemirror_mode": {
    "name": "ipython",
    "version": 3
   },
   "file_extension": ".py",
   "mimetype": "text/x-python",
   "name": "python",
   "nbconvert_exporter": "python",
   "pygments_lexer": "ipython3",
   "version": "3.9.12"
  },
  "orig_nbformat": 4,
  "vscode": {
   "interpreter": {
    "hash": "c74883dfb39b9ad428a13ed6d492dbbf00cd87d169e560e4589f3b7b90ce74f5"
   }
  }
 },
 "nbformat": 4,
 "nbformat_minor": 2
}
