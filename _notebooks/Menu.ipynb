{
 "cells": [
  {
   "cell_type": "markdown",
   "metadata": {},
   "source": [
    "# Error testing (challenge)\n",
    "> Quite self-explanatory\n",
    "\n",
    "- toc: true \n",
    "- badges: true\n",
    "- comments: true\n",
    "- categories: [python, errortesting, collegeboard]\n",
    "- title: College Board Error testing"
   ]
  },
  {
   "cell_type": "code",
   "execution_count": 1,
   "metadata": {},
   "outputs": [
    {
     "name": "stdout",
     "output_type": "stream",
     "text": [
      "Menu\n",
      "burger  $3.99\n",
      "fries  $1.99\n",
      "drink  $0.99\n",
      "Your total: 03.99\n",
      "Anything else?\n",
      "burger  $3.99\n",
      "fries  $1.99\n",
      "drink  $0.99\n",
      "Your total: 3.991.99\n",
      "Menu\n",
      "burger  $3.99\n",
      "fries  $1.99\n",
      "drink  $0.99\n",
      "Your total: 5.980.99\n",
      "Menu\n",
      "burger  $3.99\n",
      "fries  $1.99\n",
      "drink  $0.99\n",
      "Your total: 6.970000000000001None\n"
     ]
    },
    {
     "ename": "TypeError",
     "evalue": "unsupported operand type(s) for +: 'float' and 'NoneType'",
     "output_type": "error",
     "traceback": [
      "\u001b[0;31m---------------------------------------------------------------------------\u001b[0m",
      "\u001b[0;31mTypeError\u001b[0m                                 Traceback (most recent call last)",
      "\u001b[1;32m/home/unlqsting_x/vscode/AP-Comp-fastpages/_notebooks/Menu.ipynb Cell 2\u001b[0m in \u001b[0;36m<cell line: 35>\u001b[0;34m()\u001b[0m\n\u001b[1;32m     <a href='vscode-notebook-cell://wsl%2Bubuntu/home/unlqsting_x/vscode/AP-Comp-fastpages/_notebooks/Menu.ipynb#W1sdnNjb2RlLXJlbW90ZQ%3D%3D?line=45'>46</a>\u001b[0m \u001b[39melse\u001b[39;00m:\n\u001b[1;32m     <a href='vscode-notebook-cell://wsl%2Bubuntu/home/unlqsting_x/vscode/AP-Comp-fastpages/_notebooks/Menu.ipynb#W1sdnNjb2RlLXJlbW90ZQ%3D%3D?line=46'>47</a>\u001b[0m     \u001b[39mprint\u001b[39m(\u001b[39m\"\u001b[39m\u001b[39mYour total:\u001b[39m\u001b[39m\"\u001b[39m \u001b[39m+\u001b[39m \u001b[39m\"\u001b[39m\u001b[39m \u001b[39m\u001b[39m\"\u001b[39m \u001b[39m+\u001b[39m \u001b[39mstr\u001b[39m(total) \u001b[39m+\u001b[39m \u001b[39mstr\u001b[39m(menu\u001b[39m.\u001b[39mget(item)))\n\u001b[0;32m---> <a href='vscode-notebook-cell://wsl%2Bubuntu/home/unlqsting_x/vscode/AP-Comp-fastpages/_notebooks/Menu.ipynb#W1sdnNjb2RlLXJlbW90ZQ%3D%3D?line=47'>48</a>\u001b[0m     total \u001b[39m=\u001b[39m total \u001b[39m+\u001b[39;49m menu\u001b[39m.\u001b[39;49mget(item)\n",
      "\u001b[0;31mTypeError\u001b[0m: unsupported operand type(s) for +: 'float' and 'NoneType'"
     ]
    }
   ],
   "source": [
    "menu =  {\"burger\": 3.99,\n",
    "         \"fries\": 1.99,\n",
    "         \"drink\": 0.99}\n",
    "total = 0\n",
    "\n",
    "#shows the user the menu and prompts them to select an item\n",
    "print(\"Menu\")\n",
    "for k,v in menu.items():\n",
    "    print(k + \"  $\" + str(v)) #why does v have \"str\" in front of it?\n",
    "\n",
    "#ideally the code should prompt the user multiple times\n",
    "item = input(\"Please select an item from the menu\")\n",
    "\n",
    "#code should add the price of the menu items selected by the user \n",
    "print(\"Your total:\" + \" \" + str(total) + str(menu.get(item)))\n",
    "\n",
    "total = menu.get(item)\n",
    "\n",
    "#shows the user the menu and prompts them to select an item\n",
    "print(\"Anything else?\")\n",
    "for k,v in menu.items():\n",
    "    print(k + \"  $\" + str(v)) #why does v have \"str\" in front of it?\n",
    "\n",
    "#ideally the code should prompt the user multiple times\n",
    "item = input(\"Please select an item from the menu\")\n",
    "if item == \"no\":\n",
    "    print(\"Thanks for ordering!\")\n",
    "    print(\"Your total:\" + \" \" + str(total))\n",
    "else:\n",
    "    print(\"Your total:\" + \" \" + str(total) + str(menu.get(item)))\n",
    "\n",
    "total = total + menu.get(item)\n",
    "\n",
    "while(True):\n",
    "    print(\"Menu\")\n",
    "    for k,v in menu.items():\n",
    "        print(k + \"  $\" + str(v)) #why does v have \"str\" in front of it?\n",
    "\n",
    "#ideally the code should prompt the user multiple times\n",
    "    item = input(\"Please select an item from the menu. If you wish to exit, type no\")\n",
    "\n",
    "    if item == \"no\": \n",
    "        print(\"Thanks for ordering!\")\n",
    "        print(\"Your total:\" + \" \" + str(total))\n",
    "        break\n",
    "    else:\n",
    "        print(\"Your total:\" + \" \" + str(total) + str(menu.get(item)))\n",
    "        total = total + menu.get(item)"
   ]
  },
  {
   "cell_type": "markdown",
   "metadata": {},
   "source": [
    "# What errors may arise in your project?\n",
    "\n",
    "    I think some of the most common errors that will arise in our project are miscommunication, syntax-based, OAuth errors, and logic based errors. "
   ]
  },
  {
   "cell_type": "markdown",
   "metadata": {},
   "source": [
    "# What are some test cases that can be used?\n",
    "\n",
    "    Each of us can individually review the code that has the error. This way, if an error appears or an not-intended value appears, we can switch between who reviews the code."
   ]
  },
  {
   "cell_type": "markdown",
   "metadata": {},
   "source": [
    "# Make sure to document any bugs you encounter and how you solved the problem\n",
    "\n",
    "    Yes, we will document it on the Scrum Board."
   ]
  },
  {
   "cell_type": "markdown",
   "metadata": {},
   "source": [
    "# What are “single” tests that you will perform on your project? Or, your part of the project?\n",
    "\n",
    "    My job is regarding the elements of our project. I need to make sure the elements work as intended, and to do this I will not only have some of my friends test it, but also personally test common and uncommon inputs."
   ]
  }
 ],
 "metadata": {
  "kernelspec": {
   "display_name": "Python 3.9.12 ('base')",
   "language": "python",
   "name": "python3"
  },
  "language_info": {
   "codemirror_mode": {
    "name": "ipython",
    "version": 3
   },
   "file_extension": ".py",
   "mimetype": "text/x-python",
   "name": "python",
   "nbconvert_exporter": "python",
   "pygments_lexer": "ipython3",
   "version": "3.9.12"
  },
  "orig_nbformat": 4,
  "vscode": {
   "interpreter": {
    "hash": "c74883dfb39b9ad428a13ed6d492dbbf00cd87d169e560e4589f3b7b90ce74f5"
   }
  }
 },
 "nbformat": 4,
 "nbformat_minor": 2
}
