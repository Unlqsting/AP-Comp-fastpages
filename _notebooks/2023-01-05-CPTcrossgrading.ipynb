{
 "cells": [
  {
   "attachments": {},
   "cell_type": "markdown",
   "metadata": {},
   "source": [
    "# CPT Cross Grading\n",
    "> this blog contains the rubric cross-grading and reflections on the grading I did. This blog also has suggestions on \n",
    "- title: CTP Ideation\n",
    "- toc: true\n",
    "- badges: true\n",
    "- categories: [CTP(tri2), planning(tri2), hacks(tri2)]"
   ]
  },
  {
   "cell_type": "code",
   "execution_count": null,
   "metadata": {},
   "outputs": [],
   "source": []
  }
 ],
 "metadata": {
  "language_info": {
   "name": "python"
  },
  "orig_nbformat": 4
 },
 "nbformat": 4,
 "nbformat_minor": 2
}
