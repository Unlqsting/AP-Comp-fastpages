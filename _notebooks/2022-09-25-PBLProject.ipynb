{
 "cells": [
  {
   "cell_type": "markdown",
   "metadata": {},
   "source": [
    "# PBL Project insight questions\n",
    "> This post is regarding the mcq questions asked on the 'big idea 1 purpose' assignment.\n",
    "\n",
    "- toc: true\n",
    "- badges: true \n",
    "- comments: true \n",
    "- categories: [project, College Board, questions] \n",
    "- title: PBL Project insight questions\n",
    "- image: images/purpose.png"
   ]
  },
  {
   "cell_type": "markdown",
   "metadata": {},
   "source": [
    "# Do we have final project ideas for a PBL Web Project?\n",
    "\n",
    "We have already gone through the brainstorming stage and decided on what we are going to be doing for the PBL final project. "
   ]
  },
  {
   "cell_type": "markdown",
   "metadata": {},
   "source": [
    "# Are we considering a project that is best for our educational purpose?\n",
    "\n",
    "We decided on making a scheduling app that gets data from canvas and uses it to create a schedule. I think this is a good idea with regards to an educational purpose."
   ]
  },
  {
   "cell_type": "markdown",
   "metadata": {},
   "source": [
    "# Is the project going to hold team members interest for 8 weeks?\n",
    "\n",
    "All our group members talked about actually using the end result of the project in their daily lives. Considering the convinience of the app we will be designing, I think that we will be motivated enough to get through the 8 weeks."
   ]
  },
  {
   "cell_type": "markdown",
   "metadata": {},
   "source": [
    "# Does the project have potential for someone to use it beyond the 8 weeks? ie Customer or Sponsor needed?\n",
    "\n",
    "Since Canvas is used by many institutions and schools, I think that this will definetly be useful for people outside of the 8 week period. "
   ]
  },
  {
   "cell_type": "markdown",
   "metadata": {},
   "source": [
    "# Does the project have potential to be used for Create Performance Task submission?\n",
    "\n",
    "After reading through the create performance task task, I decided that this would be a good match for it. It fulfills all the requirements."
   ]
  },
  {
   "cell_type": "markdown",
   "metadata": {},
   "source": [
    "..."
   ]
  }
 ],
 "metadata": {
  "kernelspec": {
   "display_name": "Python 3.8.10 64-bit",
   "language": "python",
   "name": "python3"
  },
  "language_info": {
   "name": "python",
   "version": "3.8.10"
  },
  "orig_nbformat": 4,
  "vscode": {
   "interpreter": {
    "hash": "916dbcbb3f70747c44a77c7bcd40155683ae19c65e1c03b4aa3499c5328201f1"
   }
  }
 },
 "nbformat": 4,
 "nbformat_minor": 2
}
