{
 "cells": [
  {
   "cell_type": "markdown",
   "metadata": {},
   "source": [
    "# Pre-turkey\n",
    "> week before november break\n",
    "\n",
    "- title: Pre-turkey and post-turkey\n",
    "- toc: true\n",
    "- badges: true \n",
    "- comments: true \n",
    "- categories: [notes, tri2, points1]"
   ]
  },
  {
   "cell_type": "markdown",
   "metadata": {},
   "source": [
    "# Algorithmic programming beginning\n",
    "    - code code code\n",
    "    - need data for algorithmic programming\n",
    "    - Mr. Mortensen will teach the data\n",
    "    - Students will teach the algorithms"
   ]
  },
  {
   "cell_type": "markdown",
   "metadata": {},
   "source": [
    "# what will we be working on?\n",
    "    - first 4-5 weeks of the project we will be building skills for AP testing and skills in general\n",
    "    - learning about data\n",
    "    - then learning about algorithms\n",
    "    - frontend: focus on javascript\n",
    "        - you can put code in the markdown file\n",
    "    "
   ]
  },
  {
   "cell_type": "markdown",
   "metadata": {},
   "source": [
    "# For issues \n",
    "    - look at slack <a href=\"https://app.slack.com/client/TUDAF53UJ/CUS8E3M6Z/rimeto_profile/U03NVB8R2TS:>#announcements</a>\n"
   ]
  },
  {
   "cell_type": "markdown",
   "metadata": {},
   "source": [
    "# We are more prepared than 90% of the people\n",
    "    - We (californians) have all the resources we would want\n",
    "    - SO GET STARTED ON IDEAS!!!\n"
   ]
  },
  {
   "cell_type": "markdown",
   "metadata": {},
   "source": [
    "# how to be succesful\n",
    "    - start with the little ideas\n",
    "    - be prepared to put in the work! You wont be rich just like that!\n"
   ]
  },
  {
   "cell_type": "markdown",
   "metadata": {},
   "source": [
    "# Post-tree\n",
    "    - before the end of the trimester...\n",
    "        - create performance task will be completed\n",
    "        - read the create performance task rules\n",
    "        - make sure you understand the rules and ask the teacher if there are any questions\n",
    "        \n"
   ]
  },
  {
   "cell_type": "markdown",
   "metadata": {},
   "source": [
    "# collegeboard expectations\n",
    "    - do beyond what they ask for"
   ]
  }
 ],
 "metadata": {
  "language_info": {
   "name": "python"
  },
  "orig_nbformat": 4
 },
 "nbformat": 4,
 "nbformat_minor": 2
}
