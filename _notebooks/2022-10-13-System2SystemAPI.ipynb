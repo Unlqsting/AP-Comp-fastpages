{
 "cells": [
  {
   "cell_type": "markdown",
   "metadata": {},
   "source": [
    "# System to SystemAPI responses:\n",
    "> This post has the responses to the systems to systems api assignment.\n",
    "\n",
    "- title: Systems\n",
    "- toc: true\n",
    "- badges: true \n",
    "- comments: true \n",
    "- categories: [planning]"
   ]
  },
  {
   "cell_type": "markdown",
   "metadata": {},
   "source": [
    "# Responses:\n",
    "\n",
    "- the front-end will be doing the physical element: Calendar, Clock, filter elements, and etc..\n",
    "\n",
    "- the back-end will be working with the api's that go along this project and also predominantly work with making a user authentication system\n",
    "\n",
    "- we will have the Scrum Master join the frontend and help with some of the coding behind the layout of the website \n",
    "- the backend will have the devops help out with specific python coding\n"
   ]
  }
 ],
 "metadata": {
  "kernelspec": {
   "display_name": "Python 3.8.10 64-bit",
   "language": "python",
   "name": "python3"
  },
  "language_info": {
   "name": "python",
   "version": "3.8.10"
  },
  "orig_nbformat": 4,
  "vscode": {
   "interpreter": {
    "hash": "916dbcbb3f70747c44a77c7bcd40155683ae19c65e1c03b4aa3499c5328201f1"
   }
  }
 },
 "nbformat": 4,
 "nbformat_minor": 2
}
