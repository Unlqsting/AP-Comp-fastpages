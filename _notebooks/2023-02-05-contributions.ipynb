{
 "cells": [
  {
   "attachments": {},
   "cell_type": "markdown",
   "metadata": {},
   "source": [
    "# My contributions to the CTP project\n",
    "> this blog contains my contributions to the project\n",
    "- toc: true\n",
    "- badges: true\n",
    "- categories: [CTP(tri2), week21, hacks(tri2)]\n",
    "- title: CPT contributions"
   ]
  },
  {
   "attachments": {},
   "cell_type": "markdown",
   "metadata": {},
   "source": [
    "# My contributions to the team:\n",
    "\n",
    "### **This is the first thing** I helped create. This is the workout tracker. I made this using plain old HTML and SASS. I also used javascript to create a dynamic button that generates a workout log when clicked. \n",
    "\n",
    "![image.png](images/etrack.png)\n",
    "\n",
    "-----------------------\n",
    "\n",
    "### **The second thing** I contributed to the team was the sign-up page. I made this using HTML, SASS, and javascript. The sign-up page is basically a form that allows the user to input their data and allows the user to submit their data. \n",
    "\n",
    "![image.png](images/signup.png)\n",
    "\n",
    "-----------------------\n",
    "\n",
    "### **The third thing** I contributed to the team is the user-customization page. The user-customization page allows the user to customize their profile. This includes the ability to change their username, password, and email. It also allows the user to change their physical attributes such as height, weight, and age. This is made using HTML, SASS, and javascript. It is currently in very early stages of development.\n",
    "\n",
    "![image.png](images/customize.png)\n",
    "\n"
   ]
  }
 ],
 "metadata": {
  "kernelspec": {
   "display_name": "Python 3",
   "language": "python",
   "name": "python3"
  },
  "language_info": {
   "name": "python",
   "version": "3.8.10"
  },
  "orig_nbformat": 4,
  "vscode": {
   "interpreter": {
    "hash": "916dbcbb3f70747c44a77c7bcd40155683ae19c65e1c03b4aa3499c5328201f1"
   }
  }
 },
 "nbformat": 4,
 "nbformat_minor": 2
}
