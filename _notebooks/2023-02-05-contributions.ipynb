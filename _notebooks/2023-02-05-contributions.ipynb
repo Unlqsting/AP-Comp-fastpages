{
 "cells": [
  {
   "attachments": {},
   "cell_type": "markdown",
   "metadata": {},
   "source": [
    "# My contributions to the team:\n",
    "\n",
    "### **This is the first thing** I helped create. This is the workout tracker. I made this using plain old HTML and SASS. I also used javascript to create a dynamic button that generates a workout log when clicked. \n",
    "\n",
    "![image.png](images/etrack.png)\n",
    "\n",
    "-----------------------\n",
    "\n",
    "### **The second thing** I contributed to the team was the sign-up page. I made this using HTML, SASS, and javascript. The sign-up page is basically a form that allows the user to input their data and allows the user to submit their data. \n",
    "\n",
    "![image.png](images/signup.png)\n",
    "\n",
    "-----------------------\n",
    "\n",
    "### **The third thing** I contributed to the team is the user-customization page. The user-customization page allows the user to customize their profile. This includes the ability to change their username, password, and email. It also allows the user to change their physical attributes such as height, weight, and age. This is made using HTML, SASS, and javascript. It is currently in very early stages of development.\n",
    "\n",
    "![image.png](images/customize.png)\n",
    "\n"
   ]
  }
 ],
 "metadata": {
  "language_info": {
   "name": "python"
  },
  "orig_nbformat": 4
 },
 "nbformat": 4,
 "nbformat_minor": 2
}
