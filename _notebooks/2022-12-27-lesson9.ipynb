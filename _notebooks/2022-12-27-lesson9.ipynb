{
 "cells": [
  {
   "attachments": {},
   "cell_type": "markdown",
   "metadata": {},
   "source": [
    "# Lesson 9 Hacks\n",
    "> these are the hacks for lesson 9\n",
    "- title: Lesson 9 hacks\n",
    "- toc: true\n",
    "- tags: [hacks(tri2), lesson(tri2)]"
   ]
  },
  {
   "attachments": {},
   "cell_type": "markdown",
   "metadata": {},
   "source": [
    "# Hacks 1"
   ]
  },
  {
   "cell_type": "code",
   "execution_count": 3,
   "metadata": {},
   "outputs": [
    {
     "name": "stdout",
     "output_type": "stream",
     "text": [
      "Please enter a number: 6 3 10 5 16 8 4 2 1Sequence: Number of iterations: 0\n",
      "6 3 10 5 16 8 4 2 1"
     ]
    },
    {
     "data": {
      "text/plain": [
       "[6]"
      ]
     },
     "execution_count": 3,
     "metadata": {},
     "output_type": "execute_result"
    }
   ],
   "source": [
    "def collatz(i):\n",
    "    while i > 1:\n",
    "        print(i, end=' ')\n",
    "        if (i % 2):\n",
    "            # i is odd\n",
    "            i = 3*i + 1\n",
    "        else:\n",
    "            # i is even\n",
    "            i = i//2\n",
    "    print(1, end='')\n",
    "    \n",
    "    while i != 1:\n",
    "        if i % 2 > 0:\n",
    "                i =((3 * i) + 1)\n",
    "                list_.append(i)\n",
    "        else:\n",
    "            i = (i / 2)\n",
    "            list_.append(i)\n",
    "    return list_\n",
    "\n",
    "print('Please enter a number: ', end='')\n",
    "while True:\n",
    "    try:\n",
    "        i = int(input())\n",
    "        list_ = [i]\n",
    "        break\n",
    "    except ValueError:\n",
    "        print('Invaid selection, try again: ', end='')\n",
    "\n",
    "col = collatz(i)\n",
    " \n",
    "i = int(input('Enter i: '))\n",
    "print('Sequence: ', end='')\n",
    "print('Number of iterations:', len(col) - 1)\n",
    "collatz(i)"
   ]
  },
  {
   "attachments": {},
   "cell_type": "markdown",
   "metadata": {},
   "source": [
    "# Hacks 2"
   ]
  },
  {
   "cell_type": "code",
   "execution_count": 3,
   "metadata": {},
   "outputs": [
    {
     "name": "stdout",
     "output_type": "stream",
     "text": [
      "[0, 1, 2, 3, 4, 5, 6]\n"
     ]
    }
   ],
   "source": [
    "def bubblesort(numList):\n",
    "    indexingLen = len(numList) -1\n",
    "    sorted = False\n",
    "    \n",
    "    while not sorted:\n",
    "        sorted = True\n",
    "        for i in range(0, indexingLen):\n",
    "            if numList[i] > numList[i+1]:\n",
    "                sorted = False\n",
    "                numList[i], numList[i+1] = numList[i+1], numList[i]\n",
    "    return numList\n",
    "\n",
    "print(bubblesort([4,5,2,6,1,0,3]))\n",
    "\n",
    "#  As you can see, this code works but is very inefficient. \n",
    "#  this is a list/array sorting function that sorts by\n",
    "#  looking at the left indice and comparing to the right indice and repeating it. \n",
    "# This doesn't matter with small lists like this, but if the list legnth were to be\n",
    "#  in the millions, then it would be a big problem. "
   ]
  },
  {
   "cell_type": "code",
   "execution_count": 9,
   "metadata": {},
   "outputs": [
    {
     "name": "stdout",
     "output_type": "stream",
     "text": [
      "[0, 1, 2, 3, 4, 5, 6]\n"
     ]
    }
   ],
   "source": [
    "# This is a much more efficient way to sort. You can use the built in sort method in python\n",
    "\n",
    "sortList = [4,5,2,6,1,0,3]\n",
    "\n",
    "sortList.sort()\n",
    "\n",
    "print(sortList)"
   ]
  },
  {
   "attachments": {},
   "cell_type": "markdown",
   "metadata": {},
   "source": [
    "The second example is much more efficient at sorting because it saves us time and uses a better algorithm. The first one uses the bubble sort algorithm which is very slow with large datasets. The second one uses the in-built python sort() function which makes use of the Tim Sort algorithm. This function also saved more memory compared to the first one. "
   ]
  },
  {
   "attachments": {},
   "cell_type": "markdown",
   "metadata": {},
   "source": [
    "Algorithm efficiency:\n",
    "I would say that algorithm efficiency is more than just how many steps it takes for a computer to solve a problem; less steps means more efficient. Algorithm efficiency is more about measuring the amount of resources it takes for a computer to solve a problem. Things like memory usage, power usage, and time complexity"
   ]
  },
  {
   "attachments": {},
   "cell_type": "markdown",
   "metadata": {},
   "source": [
    "Here is a way that I automated my day. I used the schedule library from python to help me out. "
   ]
  },
  {
   "cell_type": "code",
   "execution_count": null,
   "metadata": {},
   "outputs": [],
   "source": [
    "import schedule as se\n",
    "import time \n",
    "\n",
    "def wakeUp():\n",
    "    print(\"Wake up for school!\")\n",
    "    \n",
    "def eatBreakfast():\n",
    "    print(\"don't forget to eat breakfast\")\n",
    "    \n",
    "def finHw():\n",
    "    print(\"it's time to finish your homework\")\n",
    "    \n",
    "se.every().day.at(\"06:00\").do(wakeUp)\n",
    "se.every().day.at(\"07:00\").do(eatBreakfast)\n",
    "se.every().day.at(\"15:00\").do(finHw)\n",
    "    "
   ]
  }
 ],
 "metadata": {
  "kernelspec": {
   "display_name": "base",
   "language": "python",
   "name": "python3"
  },
  "language_info": {
   "codemirror_mode": {
    "name": "ipython",
    "version": 3
   },
   "file_extension": ".py",
   "mimetype": "text/x-python",
   "name": "python",
   "nbconvert_exporter": "python",
   "pygments_lexer": "ipython3",
   "version": "3.9.12"
  },
  "orig_nbformat": 4,
  "vscode": {
   "interpreter": {
    "hash": "d00ac051d2445c25bd13d1c6afec52dd8b153cef520d4f3b1e76a10ad5147afe"
   }
  }
 },
 "nbformat": 4,
 "nbformat_minor": 2
}
