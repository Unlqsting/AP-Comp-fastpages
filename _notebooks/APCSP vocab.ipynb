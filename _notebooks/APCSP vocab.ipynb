{
 "cells": [
  {
   "attachments": {},
   "cell_type": "markdown",
   "metadata": {},
   "source": [
    "# APCSP Vocab with examples\n",
    "> This is the APCSP Vocab with code examples\n",
    "- toc: true\n",
    "- badges: true \n",
    "- comments: true \n",
    "- categories: [cspVocab] \n",
    "- title: APCSP Vocab with examples"
   ]
  },
  {
   "attachments": {},
   "cell_type": "markdown",
   "metadata": {},
   "source": [
    "# strings:\n",
    "Strings: bunch of text. Can be anything inside a quotation marks\n",
    "    - concatenation: joining together two seperate strings\n",
    "    - string length: length of the string"
   ]
  },
  {
   "cell_type": "code",
   "execution_count": 1,
   "metadata": {},
   "outputs": [
    {
     "name": "stdout",
     "output_type": "stream",
     "text": [
      "this is a string\n",
      "this is a string!\n"
     ]
    }
   ],
   "source": [
    "# String:\n",
    "astring = \"this is a string\"\n",
    "anotherstring = \"!\"\n",
    "\n",
    "# string concatenation:\n",
    "concatenated_string = astring + anotherstring\n",
    "\n",
    "print(astring)\n",
    "print(concatenated_string)"
   ]
  },
  {
   "attachments": {},
   "cell_type": "markdown",
   "metadata": {},
   "source": [
    "# Nested conditionals:\n",
    "Basically a bunch of if, else, else if statements inside each other"
   ]
  },
  {
   "cell_type": "code",
   "execution_count": null,
   "metadata": {},
   "outputs": [],
   "source": [
    "# Nested conditionals:\n",
    "if access_wifi == True:\n",
    "    if loggedIn == True:\n",
    "        if admin == True:\n",
    "            print(\"you have accessed your wifi router and are able to make changes\")\n",
    "        else: \n",
    "            print(\"you need to be an admin to make changes\")\n",
    "    else:\n",
    "        print(\"you need to log in to access the wifi router\")\n",
    "else: \n",
    "    print(\"don't want to access the router? ok.\")"
   ]
  },
  {
   "attachments": {},
   "cell_type": "markdown",
   "metadata": {},
   "source": [
    "# simplified nested conditionals:"
   ]
  },
  {
   "cell_type": "code",
   "execution_count": null,
   "metadata": {},
   "outputs": [],
   "source": [
    "if (access_wifi, loggedIn, admin) != True:\n",
    "    print(\"don't want to access the router? ok.\")\n",
    "else:\n",
    "    print(\"you have accessed your wifi router and are able to make changes\")"
   ]
  },
  {
   "attachments": {},
   "cell_type": "markdown",
   "metadata": {},
   "source": [
    "# Nibbles: \n",
    "\n",
    "Basically a group of 4 bits\n",
    "\n",
    "![](/home/adduser/vscode/blog/images/bits.png)"
   ]
  },
  {
   "attachments": {},
   "cell_type": "markdown",
   "metadata": {},
   "source": [
    "# Traversing Strings\n",
    "\n",
    "processing every character in a string from right to left.\n",
    "\n",
    "```\n",
    "string_name = \"noor\"\n",
    "for letter in range(0, len(string_name)):\n",
    "    print(string_name[letter])\n",
    "```"
   ]
  },
  {
   "attachments": {},
   "cell_type": "markdown",
   "metadata": {},
   "source": [
    "# While and for loops with if else statements\n",
    "\n",
    "While loop: Basically tells the algorithm under the while syntax to run until a certain condition is met\n",
    "\n",
    "```\n",
    "x = 0\n",
    "while x <5:\n",
    "    x += 1\n",
    "    if x == 3:\n",
    "        break\n",
    "    print(x)\n",
    "```\n",
    "For loop: Used for iterating over a list, array, or sequence. \n",
    "\n",
    "```\n",
    "fruits = [\"apple\", \"banana\", \"strawberry\"]\n",
    "for fruit in fruits:\n",
    "    if fruit == (\"apple\", \"banana\"):\n",
    "        print(fruit)\n",
    "    else: \n",
    "        break\n",
    "```"
   ]
  },
  {
   "attachments": {},
   "cell_type": "markdown",
   "metadata": {},
   "source": [
    "# Python functions: \n",
    "exactly how it sounds. these functions can take in parameters and can return values inside the function. This allows us to be more efficient by not repeating code.\n",
    "\n",
    "- parameters: Independent variables that are used in a function to produce a result. It allows the function to run without declaring the variable before hand. In the example below, the parameters are x and y\n",
    "- return values: The values returned by a fundtion when typed: return {x}\n",
    "\n",
    "```\n",
    "def add(x,y):\n",
    "    addition = x + y\n",
    "    return addition\n",
    "```"
   ]
  }
 ],
 "metadata": {
  "kernelspec": {
   "display_name": "Python 3",
   "language": "python",
   "name": "python3"
  },
  "language_info": {
   "codemirror_mode": {
    "name": "ipython",
    "version": 3
   },
   "file_extension": ".py",
   "mimetype": "text/x-python",
   "name": "python",
   "nbconvert_exporter": "python",
   "pygments_lexer": "ipython3",
   "version": "3.8.10 (default, Jun 22 2022, 20:18:18) \n[GCC 9.4.0]"
  },
  "orig_nbformat": 4,
  "vscode": {
   "interpreter": {
    "hash": "916dbcbb3f70747c44a77c7bcd40155683ae19c65e1c03b4aa3499c5328201f1"
   }
  }
 },
 "nbformat": 4,
 "nbformat_minor": 2
}
