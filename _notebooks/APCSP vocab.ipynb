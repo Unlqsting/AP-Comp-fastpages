{
 "cells": [
  {
   "attachments": {},
   "cell_type": "markdown",
   "metadata": {},
   "source": [
    "# APCSP Vocab with examples\n",
    "\n",
    "- toc: true\n",
    "- badges: true \n",
    "- comments: true \n",
    "- categories: [cspVocab] \n",
    "- title: APCSP Vocab with examples"
   ]
  },
  {
   "attachments": {},
   "cell_type": "markdown",
   "metadata": {},
   "source": [
    "# strings:\n",
    "Strings: bunch of text. Can be anything inside a quotation marks\n",
    "    - concatenation: joining together two seperate strings\n",
    "    - string length: length of the string"
   ]
  },
  {
   "cell_type": "code",
   "execution_count": 3,
   "metadata": {},
   "outputs": [
    {
     "name": "stdout",
     "output_type": "stream",
     "text": [
      "this is a string\n",
      "this is a string!/n\n"
     ]
    }
   ],
   "source": [
    "# String:\n",
    "astring = \"this is a string\"\n",
    "anotherstring = \"!\"\n",
    "\n",
    "# string concatenation:\n",
    "concatenated_string = astring + anotherstring\n",
    "\n",
    "print(astring)\n",
    "print(concatenated_string)"
   ]
  },
  {
   "attachments": {},
   "cell_type": "markdown",
   "metadata": {},
   "source": [
    "# Nested conditionals:\n",
    "Basically a bunch of if, else, else if statements inside each other"
   ]
  },
  {
   "cell_type": "code",
   "execution_count": null,
   "metadata": {},
   "outputs": [],
   "source": [
    "# Nested conditionals:\n",
    "if access_wifi == True:\n",
    "    if loggedIn == True:\n",
    "        if admin == True:\n",
    "            print(\"you have accessed your wifi router and are able to make changes\")\n",
    "        else: \n",
    "            print(\"you need to be an admin to make changes\")\n",
    "    else:\n",
    "        print(\"you need to log in to access the wifi router\")\n",
    "else: \n",
    "    print(\"don't want to access the router? ok.\")"
   ]
  },
  {
   "attachments": {},
   "cell_type": "markdown",
   "metadata": {},
   "source": [
    "# simplified nested conditionals:"
   ]
  },
  {
   "cell_type": "code",
   "execution_count": null,
   "metadata": {},
   "outputs": [],
   "source": [
    "if (access_wifi, loggedIn, admin) != True:\n",
    "    print(\"don't want to access the router? ok.\")\n",
    "else:\n",
    "    print(\"you have accessed your wifi router and are able to make changes\")"
   ]
  }
 ],
 "metadata": {
  "kernelspec": {
   "display_name": "Python 3",
   "language": "python",
   "name": "python3"
  },
  "language_info": {
   "codemirror_mode": {
    "name": "ipython",
    "version": 3
   },
   "file_extension": ".py",
   "mimetype": "text/x-python",
   "name": "python",
   "nbconvert_exporter": "python",
   "pygments_lexer": "ipython3",
   "version": "3.8.10"
  },
  "orig_nbformat": 4,
  "vscode": {
   "interpreter": {
    "hash": "916dbcbb3f70747c44a77c7bcd40155683ae19c65e1c03b4aa3499c5328201f1"
   }
  }
 },
 "nbformat": 4,
 "nbformat_minor": 2
}
