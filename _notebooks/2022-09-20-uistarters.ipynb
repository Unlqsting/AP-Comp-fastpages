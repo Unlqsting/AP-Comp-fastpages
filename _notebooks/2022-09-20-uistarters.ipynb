{
 "cells": [
  {
   "cell_type": "markdown",
   "metadata": {},
   "source": [
    "# UI Starters   \n",
    "> This post is regarding the UI Starters assignment.\n",
    "\n",
    "- toc: true\n",
    "- badges: true \n",
    "- comments: true \n",
    "- categories: [UI, flask, PBL, html] \n",
    "- title: UI Starters\n",
    "- image: images/ui.png"
   ]
  },
  {
   "cell_type": "markdown",
   "metadata": {},
   "source": [
    "# personal flask changes\n",
    "index.html change: <a href=\"\">click here</a>\n",
    "stub.html change: <a href=\"\">click here</a>\n",
    "I am having trouble loading my flask, so I am unable to show you. If you remember, I did make changes to the index html and stub"
   ]
  },
  {
   "cell_type": "markdown",
   "metadata": {},
   "source": [
    "# fastpages project changes:\n",
    "\n",
    "Submenu link: <a href=\"https://unlqsting.github.io/AP-Comp-fastpages/submenu/\">click here</a>\n"
   ]
  },
  {
   "cell_type": "markdown",
   "metadata": {},
   "source": [
    "# team project changes:\n",
    "\n",
    "Link to the program purpose: <a href=\"https://unlqsting.github.io/AP-Comp-fastpages/project/college%20board/questions/2022/09/25/PBLProject.html\">click here</a>\n",
    "\n",
    "Roles within our group: \n",
    "    frontend: Noor B.\n",
    "    Backend: Alan L.\n",
    "    Scrum master: Steven Z.\n",
    "    DevOps: Ederick W.\n",
    "\n",
    "Work flow: \n",
    "    <img src=\"https://github.com/Unlqsting/AP-Comp-fastpages/blob/master/images/Thingy.png\">\n",
    "\n",
    "- Made scrum board\n",
    "- added PBL vocab on fastpages\n",
    "\n",
    "Collegeboard criteria requirements:\n",
    "\n",
    "    Row 1: Program Purpose and Function\n",
    "    Our program’s purpose is to provide an automated organizer for students’ tasks. The function is to utilize a calendar and allow students to add, remove, and edit events on each day. Students will also be able to sign in with their own account in order to save their events.\n",
    "\n",
    "    Row 2: Data Abstraction\n",
    "    The data will be a list which includes a students’ events. As a student adds, removes, or edits an event, the list will change. The name of the variable representing the list will be calendarEvent, or some variable related to events on a calendar.\n",
    "\n",
    "    Row 3: Managing Complexity\n",
    "    We can manage the complexity by creating a new list specific to each user. Then, we can create a list of all the users, making the entire project easy to manage.\n",
    "\n",
    "    Row 4: Procedural Abstraction\n",
    "    My student-developed procedure is to make the login screen for the website. I will also help to log all of the information entered by the users when they first use the scheduler.\n",
    "\n",
    "    Row 5: Algorithm Implementation\n",
    "    While we have not started on the project yet, our plan is to make a list inside of a list, etc. The list can be appended by using a while loop.\n",
    "\n",
    "    Row 6: Testing\n",
    "    After making slight changes, I will test the code by using a local server. I will do it very often in order to make sure that everything is working before I move onto a new task."
   ]
  }
 ],
 "metadata": {
  "kernelspec": {
   "display_name": "Python 3.8.10 64-bit",
   "language": "python",
   "name": "python3"
  },
  "language_info": {
   "name": "python",
   "version": "3.8.10"
  },
  "orig_nbformat": 4,
  "vscode": {
   "interpreter": {
    "hash": "916dbcbb3f70747c44a77c7bcd40155683ae19c65e1c03b4aa3499c5328201f1"
   }
  }
 },
 "nbformat": 4,
 "nbformat_minor": 2
}
