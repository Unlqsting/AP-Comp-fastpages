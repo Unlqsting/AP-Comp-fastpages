{
 "cells": [
  {
   "cell_type": "markdown",
   "metadata": {},
   "source": [
    "# UI Starters   \n",
    "> This post is regarding the UI Starters assignment.\n",
    "\n",
    "- toc: true\n",
    "- badges: true \n",
    "- comments: true \n",
    "- categories: [UI, flask, PBL, html] \n",
    "- title: UI Starters\n",
    "- image: images/ui.png"
   ]
  },
  {
   "cell_type": "markdown",
   "metadata": {},
   "source": [
    "# personal flask changes\n",
    "index.html change: <a href=\"\">click here</a>\n",
    "stub.html change: <a href=\"\">click here</a>\n",
    "I am having trouble loading my flask, so I am unable to show you. If you remember, I did make changes to the index html and stub"
   ]
  },
  {
   "cell_type": "markdown",
   "metadata": {},
   "source": [
    "# fastpages project changes:\n",
    "\n",
    "Submenu link: <a href=\"https://unlqsting.github.io/AP-Comp-fastpages/submenu/\">click here</a>\n"
   ]
  },
  {
   "cell_type": "markdown",
   "metadata": {},
   "source": [
    "# team project changes:\n",
    "\n",
    "Link to the program purpose: <a href=\"https://unlqsting.github.io/AP-Comp-fastpages/project/college%20board/questions/2022/09/25/PBLProject.html\">click here</a>\n",
    "\n",
    "Roles within our group: \n",
    "    frontend: Noor B.\n",
    "    Backend: Alan L.\n",
    "    Scrum master: Steven Z.\n",
    "    DevOps: Ederick W.\n",
    "\n",
    "Work flow: \n",
    "    <img src=\"https://github.com/Unlqsting/AP-Comp-fastpages/blob/master/images/Thingy.png\">\n",
    "\n",
    "- Made scrum board\n",
    "- added PBL vocab on fastpages"
   ]
  }
 ],
 "metadata": {
  "kernelspec": {
   "display_name": "Python 3.8.10 64-bit",
   "language": "python",
   "name": "python3"
  },
  "language_info": {
   "name": "python",
   "version": "3.8.10"
  },
  "orig_nbformat": 4,
  "vscode": {
   "interpreter": {
    "hash": "916dbcbb3f70747c44a77c7bcd40155683ae19c65e1c03b4aa3499c5328201f1"
   }
  }
 },
 "nbformat": 4,
 "nbformat_minor": 2
}
