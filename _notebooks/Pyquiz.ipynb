{
 "cells": [
  {
   "cell_type": "markdown",
   "metadata": {},
   "source": [
    "# A simple math quiz made with python\n",
    "> Quite self-explanatory\n",
    "\n",
    "- toc: true \n",
    "- badges: true\n",
    "- comments: true\n",
    "- categories: [python]\n",
    "- title: A simple math quiz made with python"
   ]
  },
  {
   "cell_type": "code",
   "execution_count": null,
   "metadata": {},
   "outputs": [],
   "source": [
    "import getpass, sys\n",
    "\n",
    "def question_with_response(prompt): # function that returns us the user input, so that we can analyze it\n",
    "    print(\"Question: \" + prompt)\n",
    "    msg = input()\n",
    "    return msg"
   ]
  },
  {
   "cell_type": "code",
   "execution_count": 1,
   "metadata": {},
   "outputs": [
    {
     "ename": "NameError",
     "evalue": "name 'getpass' is not defined",
     "output_type": "error",
     "traceback": [
      "\u001b[0;31m---------------------------------------------------------------------------\u001b[0m",
      "\u001b[0;31mNameError\u001b[0m                                 Traceback (most recent call last)",
      "\u001b[1;32m/home/adduser/AP-Comp-fastpages/_notebooks/Pyquiz.ipynb Cell 3\u001b[0m in \u001b[0;36m<cell line: 7>\u001b[0;34m()\u001b[0m\n\u001b[1;32m      <a href='vscode-notebook-cell://wsl%2Bubuntu/home/adduser/AP-Comp-fastpages/_notebooks/Pyquiz.ipynb#W2sdnNjb2RlLXJlbW90ZQ%3D%3D?line=2'>3</a>\u001b[0m question \u001b[39m=\u001b[39m \u001b[39m5\u001b[39m\n\u001b[1;32m      <a href='vscode-notebook-cell://wsl%2Bubuntu/home/adduser/AP-Comp-fastpages/_notebooks/Pyquiz.ipynb#W2sdnNjb2RlLXJlbW90ZQ%3D%3D?line=4'>5</a>\u001b[0m correct \u001b[39m=\u001b[39m \u001b[39m0\u001b[39m\n\u001b[0;32m----> <a href='vscode-notebook-cell://wsl%2Bubuntu/home/adduser/AP-Comp-fastpages/_notebooks/Pyquiz.ipynb#W2sdnNjb2RlLXJlbW90ZQ%3D%3D?line=6'>7</a>\u001b[0m user \u001b[39m=\u001b[39m getpass\u001b[39m.\u001b[39mgetuser()\n",
      "\u001b[0;31mNameError\u001b[0m: name 'getpass' is not defined"
     ]
    }
   ],
   "source": [
    "#variable def\n",
    "\n",
    "question = 5\n",
    "\n",
    "correct = 0\n"
   ]
  },
  {
   "cell_type": "code",
   "execution_count": 6,
   "metadata": {},
   "outputs": [
    {
     "name": "stdout",
     "output_type": "stream",
     "text": [
      "Hello! Please put your username here:hh\n",
      "Welcome\n"
     ]
    }
   ],
   "source": [
    "import getpass, sys\n",
    "\n",
    "def question_with_response(prompt): # function that returns us the user input, so that we can analyze it\n",
    "    print(\"Question: \" + prompt)\n",
    "    msg = input()\n",
    "    return msg\n",
    "\n",
    "#variable def\n",
    "\n",
    "question = 5\n",
    "\n",
    "correct = 0\n",
    "\n",
    "#beginning display\n",
    "\n",
    "print( 'Hello! Please put your username here:' + input())\n",
    "\n",
    "user = input()\n",
    "\n",
    "print('Welcome' + '' + user)"
   ]
  },
  {
   "cell_type": "code",
   "execution_count": null,
   "metadata": {},
   "outputs": [],
   "source": [
    "def newGame ():\n",
    "    pass\n",
    "# -------------------------\n",
    "\n",
    "def answerGuess ();\n",
    "    pass\n",
    "\n",
    "# -------------------------\n",
    "\n",
    "def scoreDisplay ();\n",
    "    pass\n",
    "\n",
    "# -------------------------\n",
    "\n",
    "def playAgain ();\n",
    "    pass\n",
    "\n",
    "# -------------------------\n",
    "\n",
    "questions = {\n",
    "    \n",
    "}"
   ]
  }
 ],
 "metadata": {
  "kernelspec": {
   "display_name": "Python 3.8.10 64-bit",
   "language": "python",
   "name": "python3"
  },
  "language_info": {
   "codemirror_mode": {
    "name": "ipython",
    "version": 3
   },
   "file_extension": ".py",
   "mimetype": "text/x-python",
   "name": "python",
   "nbconvert_exporter": "python",
   "pygments_lexer": "ipython3",
   "version": "3.8.10"
  },
  "orig_nbformat": 4,
  "vscode": {
   "interpreter": {
    "hash": "916dbcbb3f70747c44a77c7bcd40155683ae19c65e1c03b4aa3499c5328201f1"
   }
  }
 },
 "nbformat": 4,
 "nbformat_minor": 2
}
