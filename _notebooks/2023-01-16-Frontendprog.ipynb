{
 "cells": [
  {
   "attachments": {},
   "cell_type": "markdown",
   "metadata": {},
   "source": [
    "# CPT Frontend progress\n",
    "\n",
    "> this blog contains the progress made on our create project task, specifically the frontend. This blog will include the details on what features have been coded, how I coded them, and problems encountered on the way\n",
    "\n",
    "- toc: true\n",
    "- badges: true\n",
    "- categories: [CTP(tri2), planning(tri2), hacks(tri2)]\n",
    "- title: CPT Frontend progress\n"
   ]
  },
  {
   "attachments": {},
   "cell_type": "markdown",
   "metadata": {},
   "source": [
    "# What features have been coded?\n",
    "\n",
    "So far, the navbar, homepage, and workout logger have been coded. Ofcourse, all of these have not been completely coded, but rather have been made progress upon.\n"
   ]
  },
  {
   "attachments": {},
   "cell_type": "markdown",
   "metadata": {},
   "source": [
    "# More about the features\n",
    "\n",
    "1. homepage: The homepage includes the navbar and details about our web-app Etracker (name subject to change). The homepage will have clickable elements where the user can click to find more information about the web-app.\n",
    "2. Workout logger: The workout logger includes the navbar at the top and the workout tracker. The user can click the add workout button to, well, add a workout. The user can then click on which workout to log (still in development).\n",
    "3. Navbar: The navbar nearly done. I still need to code the login button to do what it's supposed to, which is to redirect to a login page. We are planning to use oauth2 for the login. The login page will be designed shortly. The navbar includes all the pages that will be on the website.\n"
   ]
  },
  {
   "attachments": {},
   "cell_type": "markdown",
   "metadata": {},
   "source": [
    "# Difficulties experienced\n",
    "\n",
    "Sure, it doesn't seem like a lot of features have been coded, but that is because I am doing extensive research on how to get the features to work. For example, I was doing research on the workout logger, but it had to be cutshort inorder for the navbar to be developed. Talking about the navbar, it was a pain in the butt to get it to work. Other files from the leuck project interefered with it and caused a bunch of errors. For example, the workout logger had bugged out and wasn't displaying/working how it is supposed to. So far, the easiest has been the CSS. I only had to search up the type of code I needed and followed tutorials to make it look how I want it to.\n"
   ]
  },
  {
   "attachments": {},
   "cell_type": "markdown",
   "metadata": {},
   "source": [
    "# Few ways we modularized/ increased efficiency in our code\n",
    "\n",
    "The first way we did this is through dividing elements into different files (organized in folders) to make the code look more polished. We did this by linking the files into the html. For example, we would not code the JS into the html file. We rather added a source to the script tag and then linked the separate JS file to the script. We also used scss to make our UI development more efficient. SCSS features such as mixins and vars were crucial and saved a lot of copy-pasta time.\n"
   ]
  },
  {
   "attachments": {},
   "cell_type": "markdown",
   "metadata": {},
   "source": [
    "# Next steps towards the frontend development\n",
    "\n",
    "This week there will be strict deadlines towards the frontend development. The main features that will need to be designed are: Log in page, completed workout tracker, and completed homepage. The user customization will also have been touched upon. More information will be on the scrumboard.\n"
   ]
  },
  {
   "attachments": {},
   "cell_type": "markdown",
   "metadata": {},
   "source": [
    "# Link to the project images\n",
    "\n"
   ]
  }
 ],
 "metadata": {
  "kernelspec": {
   "display_name": "Python 3",
   "language": "python",
   "name": "python3"
  },
  "language_info": {
   "name": "python",
   "version": "3.8.10 (default, Jun 22 2022, 20:18:18) \n[GCC 9.4.0]"
  },
  "orig_nbformat": 4,
  "vscode": {
   "interpreter": {
    "hash": "916dbcbb3f70747c44a77c7bcd40155683ae19c65e1c03b4aa3499c5328201f1"
   }
  }
 },
 "nbformat": 4,
 "nbformat_minor": 2
}
