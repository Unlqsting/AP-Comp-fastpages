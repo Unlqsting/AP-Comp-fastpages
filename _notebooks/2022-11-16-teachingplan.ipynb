{
 "cells": [
  {
   "cell_type": "markdown",
   "metadata": {},
   "source": [
    "# Teaching plan for units 1-2\n",
    "> This post is a regarding the plan for our assigned units\n",
    "\n",
    "- title: Teaching plan for Units 1-2\n",
    "- toc: true\n",
    "- badges: true \n",
    "- comments: true \n",
    "- categories: [plan, teaching, tri2]"
   ]
  },
  {
   "cell_type": "markdown",
   "metadata": {},
   "source": [
    "# How will we teach? \n",
    "    Our group will have a jupyter notebook that students can use to follow along\n",
    "    Our main form of passing information will be through slides\n",
    "\n"
   ]
  },
  {
   "cell_type": "markdown",
   "metadata": {},
   "source": [
    "# More details about our slides\n",
    "    - the process will go:\n",
    "            - we present the information on the slides\n",
    "            - then students will be asked to mess around with the code for practice\n",
    "            - we plan on having around 20 slides and divide the amount of slides by the amount of people we have\n",
    "\n",
    "    - we plan on having two sub-sections for unit 3 sections 1\n",
    "    - three sub-sections for unit 3 section 2"
   ]
  },
  {
   "cell_type": "markdown",
   "metadata": {},
   "source": [
    "# Unit 3 section 1 sub-sections:\n",
    "Sub-section 1: \n",
    "    - we will have three slides for this sub-section\n",
    "    - these slides will explain:\n",
    "         how variables are abstractions that can be used to represent and store data\n",
    "         how to use variables to store data as numbers, Booleans, lists, and strings.\n",
    "\n",
    "Sub-section 2:\n",
    "    - we will have three slides for this sub-section:\n",
    "    - these slides will explain:\n",
    "        - how you can change the value stored in an variable using the assignment operator\n"
   ]
  },
  {
   "cell_type": "markdown",
   "metadata": {},
   "source": [
    "# Unit 3 section 2 sub-sections:\n",
    "Sub-section 1:\n",
    "    - we will have three slides for this sub-section:\n",
    "    - These slides will explain:\n",
    "        - how lists and string are examples of data abstraction\n",
    "\n",
    "Sub-section 2:\n",
    "    - we will have three slides for this sub-section:\n",
    "    - These slides will explain:\n",
    "        - how to use lists as an abstraction to manage the complexity of a program\n",
    "        - go over the lists section of the CB AP CSP exam reference sheet\n",
    "\n",
    "Sub-section 3:\n",
    "    - we will have three slides for this sub-section:\n",
    "    - These slides will look at:\n",
    "        - examples of programs with lists\n",
    "            - how these programs are optimized for least complexity"
   ]
  },
  {
   "cell_type": "markdown",
   "metadata": {},
   "source": [
    "# Organization of our group:\n",
    "Since there are 5 sub-sections we will be going over and there are five people in our group, we will have each person doing one section\n",
    "    - modifications can be made if necessary\n",
    "    "
   ]
  }
 ],
 "metadata": {
  "kernelspec": {
   "display_name": "Python 3.8.10 64-bit",
   "language": "python",
   "name": "python3"
  },
  "language_info": {
   "name": "python",
   "version": "3.8.10"
  },
  "orig_nbformat": 4,
  "vscode": {
   "interpreter": {
    "hash": "916dbcbb3f70747c44a77c7bcd40155683ae19c65e1c03b4aa3499c5328201f1"
   }
  }
 },
 "nbformat": 4,
 "nbformat_minor": 2
}
