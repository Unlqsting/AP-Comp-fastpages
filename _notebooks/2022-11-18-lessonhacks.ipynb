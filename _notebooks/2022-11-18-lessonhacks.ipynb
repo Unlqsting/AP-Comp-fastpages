{
 "cells": [
  {
   "cell_type": "markdown",
   "metadata": {},
   "source": [
    "# Collegeboard APCSP 3.1.2 lesson\n",
    "> title is self-explanatory\n",
    "- toc: true\n",
    "- badges: true \n",
    "- comments: true \n",
    "- title: 3.1.2 lesson"
   ]
  },
  {
   "cell_type": "markdown",
   "metadata": {},
   "source": [
    "# Learning objective for 3.1.2:\n",
    "Determine the value of a variable as a result of an assignment\n",
    "- done through looking at how we can use the assignment operator\n",
    "            "
   ]
  },
  {
   "cell_type": "markdown",
   "metadata": {},
   "source": [
    "# Note:\n",
    "Collegeboard uses <-- as the assignment operator\n",
    "- The assignment operator looks different for different types of coding languages\n",
    "A variable will take the most recent value assigned\n",
    "    "
   ]
  },
  {
   "cell_type": "markdown",
   "metadata": {},
   "source": [
    "# How do you even store a value inside a variable?\n",
    "\n",
    "Let's use python for our example:\n",
    "   - In python, the assignment operator is the equal sign (=)\n",
    "   - In order to store a value inside a variable, we must:\n",
    "       - Give the variable a name\n",
    "       - place the assignment operator \n",
    "       - input the variable value\n"
   ]
  },
  {
   "cell_type": "code",
   "execution_count": null,
   "metadata": {},
   "outputs": [],
   "source": [
    "\n",
    "\n",
    "# Imagine you just played a video game and you have a highscore of 100. How do you store that value (integer)?\n",
    "highscore = 100\n",
    "\n",
    "# How do you store a number like 3.72?\n",
    "money = 3.72\n",
    "\n",
    "# What about storing your username (string)?\n",
    "username = \"name\"\n",
    "\n",
    "# What if it is raining outside and you want to store that fact (boolean)?\n",
    "is_raining = True\n",
    "\n",
    "# What about a list of groceries? \n",
    "groceries = [\"eggs\", \"flour\", \"bread\", \"milk\"]\n"
   ]
  },
  {
   "cell_type": "markdown",
   "metadata": {},
   "source": [
    "# Let's look at an example\n"
   ]
  },
  {
   "cell_type": "code",
   "execution_count": null,
   "metadata": {
    "vscode": {
     "languageId": "javascript"
    }
   },
   "outputs": [],
   "source": [
    "x = 10\n",
    "y = 20\n",
    "z = 30\n",
    "x = y\n",
    "z = x\n",
    "\n",
    "// what do you think z will be?\n",
    "\n",
    "print(z)"
   ]
  },
  {
   "cell_type": "markdown",
   "metadata": {},
   "source": [
    "# Let's get a little more practical here\n",
    "Imagine that you are making a calendar and have just finished the html code that is needed:\n",
    "- You now want to be able to switch between the months of the year by using the \"next\" or \"prev\" buttons\n",
    "    - you will need to take the html elements and use them to your advantage\n",
    "        - but how?"
   ]
  },
  {
   "cell_type": "code",
   "execution_count": null,
   "metadata": {
    "vscode": {
     "languageId": "html"
    }
   },
   "outputs": [],
   "source": [
    "<body>\n",
    "<div class=\"container\">\n",
    "    <div class=\"calendar\">\n",
    "        <div class=\"month\">\n",
    "            <button class=\"prev\">Prev</button>\n",
    "            <button class=\"next\">Next</button>\n",
    "        </div>\n",
    "    </div>\n",
    "</div>\n",
    "\n",
    "\n",
    "<script>\n",
    "    // to make our lives a little easier, we can store the div next and prev into variables\n",
    "    // this way we don't need to type out as much \n",
    "    // Note: You CAN just add the event listener to document.querySelector(.next) or prev and get the same desired outcome \n",
    "    \n",
    "    nextButton = document.querySelector(.next)\n",
    "    prevButton = document.querySelector(.prev)\n",
    "\n",
    "    // we can go make the buttons functional by adding an addeventlistner to them\n",
    "\n",
    "</script>"
   ]
  },
  {
   "cell_type": "markdown",
   "metadata": {},
   "source": [
    "# Recap:\n",
    "- We learned what is a assignment operator\n",
    "- We learned how to use the assignment operator\n",
    "- We learned how to store a value inside a variable using the assignment operator\n",
    "- We experimented with a few examples "
   ]
  },
  {
   "cell_type": "markdown",
   "metadata": {},
   "source": [
    "# Hacks:\n",
    "Copy the all the html code into a markdown file and run your local server. You will then see a decimal to binary converter near the html code. The problem is that it is not converting the decimal to binary. This is because the variables are not defined properly and it is your job to use the information learned today to fix the converter. **Don't change the css**\n",
    "\n",
    "# Bonus (optional):\n",
    "There's more than one way to define the variable. List two ways to do it."
   ]
  },
  {
   "cell_type": "code",
   "execution_count": null,
   "metadata": {
    "vscode": {
     "languageId": "html"
    }
   },
   "outputs": [],
   "source": [
    "<body>\n",
    "    <div class=\"convertcontainer\">\n",
    "        <h2>Decimal to Binary converter</h2>\n",
    "        <div class=\"inputcontainer\">\n",
    "            <div class=\"inputs\">\n",
    "                <input type=\"number\" id=\"decimal_input\" />\n",
    "                <label for=\"decimal_input\">Decimal:</label>\n",
    "                \n",
    "                <input type=\"number\" id=\"bin_output\" /> \n",
    "                <label for=\"bin_output\">Binary:</label>\n",
    "            </div>\n",
    "        </div>\n",
    "    </div>\n",
    "    \n",
    "    <script>\n",
    "        //edit this code only\n",
    "        let decimal_input = \n",
    "    \n",
    "        let bin_output = \n",
    "        //edit this code only\n",
    "    \n",
    "        //converting decimal to binary with user input\n",
    "            decimal_input.addEventListener(\"input\", () => {\n",
    "                let decimalval = parseInt(decimal_input.value);\n",
    "                //decimalval converts decimal value to binary\n",
    "    \n",
    "                bin_output.value = decimalval.toString(2);\n",
    "            });\n",
    "        \n",
    "    </script>\n",
    "    \n",
    "    <!-- dont change the css styling -->\n",
    "    \n",
    "    <style>\n",
    "    \n",
    "        * {\n",
    "        padding: 0;\n",
    "        margin: 0;\n",
    "        box-sizing: border-box;\n",
    "        font-family: \"Poppins\", sans-serif;\n",
    "        }\n",
    "    \n",
    "        body {\n",
    "        background-color: #0075ff;\n",
    "        }\n",
    "    \n",
    "        .convertcontainer {\n",
    "        background-color: bisque;\n",
    "        width: 400px;\n",
    "        padding: 8px 5px;\n",
    "        position: absolute;\n",
    "        transform: translate(-50%, -250%);\n",
    "        top: 417%;\n",
    "        left: 60%;\n",
    "        border-radius: 5px;\n",
    "        box-shadow: 0 3px 5px rgba(0, 21, 44, 0.18);\n",
    "        }\n",
    "    \n",
    "        h2 {\n",
    "        font-size: 15px;\n",
    "        color: black;\n",
    "        text-align: center;\n",
    "        font-weight: 600;\n",
    "        letter-spacing: 0.5px;\n",
    "        margin-bottom: 2px;\n",
    "        }\n",
    "    \n",
    "        .inputcontainer {\n",
    "        display: flex;\n",
    "        justify-content: space-between;\n",
    "        gap: 6px;\n",
    "        }\n",
    "    \n",
    "        input {\n",
    "        position: relative;\n",
    "        font-size: 17px;\n",
    "        width: 100%;\n",
    "        padding: 5px;\n",
    "        border-radius: 4px;\n",
    "        border: 1.5px solid #43405c;\n",
    "        color: #43405c;\n",
    "        outline: none;\n",
    "        }\n",
    "    \n",
    "        label {\n",
    "            color: black;\n",
    "        }\n",
    "    </style>\n",
    "    \n",
    "    <!-- dont change the css styling -->\n",
    "    \n",
    "    </body>"
   ]
  },
  {
   "cell_type": "markdown",
   "metadata": {},
   "source": [
    "# Bonus Hacks: \n",
    "Answer these:\n",
    "- In your **own** words, briefly explain by writing down what an assignment operator is\n",
    "- In Collegeboard pseudocode, what symbol is used to assign values to variables?\n",
    "- A variable, x, is initially given a value of 15. Later on, the value for x is changed to 22. If you print x, would the command display 15 or 22?"
   ]
  },
  {
   "cell_type": "markdown",
   "metadata": {},
   "source": [
    "# Hacks Rubric:\n",
    "\n",
    "For 2.7:\n",
    "- Student has followed directions properly and has the converter working\n",
    "\n",
    "For 2.7+:\n",
    "- Student has completed some of the bonus material alongside requirement for 2.7\n",
    "\n",
    "For 3.0:\n",
    "- Student has completed all of the material, answered thoughtfully, and met requirements for 2.7"
   ]
  }
 ],
 "metadata": {
  "kernelspec": {
   "display_name": "Python 3.8.10 64-bit",
   "language": "python",
   "name": "python3"
  },
  "language_info": {
   "codemirror_mode": {
    "name": "ipython",
    "version": 3
   },
   "file_extension": ".py",
   "mimetype": "text/x-python",
   "name": "python",
   "nbconvert_exporter": "python",
   "pygments_lexer": "ipython3",
   "version": "3.8.10"
  },
  "orig_nbformat": 4,
  "vscode": {
   "interpreter": {
    "hash": "916dbcbb3f70747c44a77c7bcd40155683ae19c65e1c03b4aa3499c5328201f1"
   }
  }
 },
 "nbformat": 4,
 "nbformat_minor": 2
}
