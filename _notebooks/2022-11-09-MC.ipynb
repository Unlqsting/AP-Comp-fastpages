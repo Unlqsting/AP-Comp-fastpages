{
 "cells": [
  {
   "cell_type": "markdown",
   "metadata": {},
   "source": [
    "# Tri 1 Final blog\n",
    "> This post is a reflection on the tri 1 final\n",
    "\n",
    "- title: Final MCQ reflection\n",
    "- toc: true\n",
    "- badges: true \n",
    "- comments: true \n",
    "- categories: [collegeboard, final, reflection]"
   ]
  },
  {
   "cell_type": "markdown",
   "metadata": {},
   "source": [
    "# How did I do? \n",
    "\n",
    "I dont think I did bad. I got a solid score of 44/50. Here's the ss.\n",
    "\n",
    "<!-- <img src=\"https://drive.google.com/file/d/1gtDb3WIXaEeKIj5UPskXriE8dfVd42Ik/view?usp=sharing\"> -->"
   ]
  },
  {
   "cell_type": "markdown",
   "metadata": {},
   "source": [
    "# What do I need to improve on? \n",
    "\n",
    "First things first, I only guessed on one of the questions and I got it wrong. Anyways, these are the things I need to improve on:\n",
    "    - behavior of code that multiplies inside a loop\n",
    "    - Purpose of internet protocols (the one I guessed on)\n",
    "    - Relationship between the internet and World Wide Web\n",
    "    - put binary and decimal numbers in order\n",
    "    - implementing and applying an algorithm\n",
    "    - list indices\n"
   ]
  },
  {
   "cell_type": "markdown",
   "metadata": {},
   "source": [
    "# How did I go wrong?\n",
    "\n",
    "1. I didn't read the problem correctly for this question. \n",
    "2. I was absent the day we reviewed this \n",
    "3. I was absent the day we reviewed this \n",
    "4. I was absent the day we reviewed this \n",
    "5. I got half of the question right. I didn't pick the 2nd option because I misread the problem\n",
    "6. Poor understanding of lists "
   ]
  },
  {
   "cell_type": "markdown",
   "metadata": {},
   "source": [
    "# Next steps?\n",
    "\n",
    "I will fully read the problems and make sure I understand what EXACTLY is being asked of me. I will also make sure to review topics that I was absent for. For the lists, I will review Collegeboard skill 3.A in order to improve. "
   ]
  }
 ],
 "metadata": {
  "kernelspec": {
   "display_name": "Python 3.8.10 64-bit",
   "language": "python",
   "name": "python3"
  },
  "language_info": {
   "name": "python",
   "version": "3.8.10"
  },
  "orig_nbformat": 4,
  "vscode": {
   "interpreter": {
    "hash": "916dbcbb3f70747c44a77c7bcd40155683ae19c65e1c03b4aa3499c5328201f1"
   }
  }
 },
 "nbformat": 4,
 "nbformat_minor": 2
}
