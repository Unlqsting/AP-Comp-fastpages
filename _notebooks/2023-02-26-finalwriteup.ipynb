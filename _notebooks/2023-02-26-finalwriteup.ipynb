{
 "cells": [
  {
   "attachments": {},
   "cell_type": "markdown",
   "metadata": {},
   "source": [
    "# CPT write-up for my final project\n",
    "> This is the collegeboard requirements write-up for the CPT project. \n",
    "- toc: true\n",
    "- badges: true\n",
    "- comments: true\n",
    "- categories: [CTP(tri2), hacks(tri2), final(tri2)]\n",
    "- Title: CPT Write-up final project"
   ]
  },
  {
   "attachments": {},
   "cell_type": "markdown",
   "metadata": {},
   "source": [
    "# Program Purpose and Function\n",
    "**Video**\n",
    "<div style=\"position:relative;width:fit-content;height:fit-content;\">\n",
    "            <a style=\"position:absolute;top:20px;right:1rem;opacity:0.8;\" href=\"https://clipchamp.com/watch/yoIxsQDvu2O?utm_source=embed&utm_medium=embed&utm_campaign=watch\">\n",
    "                <img style=\"height:22px;\" src=\"https://clipchamp.com/e.svg\" alt=\"Made with Clipchamp\" />\n",
    "            </a>\n",
    "            <iframe allow=\"autoplay;\" allowfullscreen style=\"border:none\" src=\"https://clipchamp.com/watch/yoIxsQDvu2O/embed\" width=\"640\" height=\"360\"></iframe>\n",
    "</div>\n",
    "\n",
    "> Link if the video doesn't work: https://clipchamp.com/watch/yoIxsQDvu2O\n",
    "\n",
    "**Purpose**: The purpose of this web app is to allow users to create reflections, brainstorm goals, and blog about their progress ALL inside a fitness app. Usually, fitness apps only allow you to track your progress, but this app allows you to reflect on your progress and plan for the future.\n",
    "\n",
    "**Function**: The function of this web app is to *provide* a comprehensive platform for users to reflect, plan, brainstorm, and blog about their fitness journey and etc. \n",
    "\n",
    "**Inputs and outputs**: The inputs are the post title and post content. The output is the post itself, all shown in a blog format where the user can see all of their posts. "
   ]
  }
 ],
 "metadata": {
  "kernelspec": {
   "display_name": "Python 3",
   "language": "python",
   "name": "python3"
  },
  "language_info": {
   "name": "python",
   "version": "3.8.10"
  },
  "orig_nbformat": 4,
  "vscode": {
   "interpreter": {
    "hash": "916dbcbb3f70747c44a77c7bcd40155683ae19c65e1c03b4aa3499c5328201f1"
   }
  }
 },
 "nbformat": 4,
 "nbformat_minor": 2
}
