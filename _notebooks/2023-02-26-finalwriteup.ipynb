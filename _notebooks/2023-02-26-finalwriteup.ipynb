{
 "cells": [
  {
   "attachments": {},
   "cell_type": "markdown",
   "metadata": {},
   "source": [
    "# CPT write-up for my final project\n",
    "> This is the collegeboard requirements write-up for the CPT project. \n",
    "- toc: true\n",
    "- badges: true\n",
    "- comments: true\n",
    "- categories: [CTP(tri2), hacks(tri2), final(tri2)]\n",
    "- Title: CPT Write-up final project"
   ]
  },
  {
   "attachments": {},
   "cell_type": "markdown",
   "metadata": {},
   "source": [
    "# "
   ]
  }
 ],
 "metadata": {
  "kernelspec": {
   "display_name": "Python 3",
   "language": "python",
   "name": "python3"
  },
  "language_info": {
   "name": "python",
   "version": "3.8.10"
  },
  "orig_nbformat": 4,
  "vscode": {
   "interpreter": {
    "hash": "916dbcbb3f70747c44a77c7bcd40155683ae19c65e1c03b4aa3499c5328201f1"
   }
  }
 },
 "nbformat": 4,
 "nbformat_minor": 2
}
