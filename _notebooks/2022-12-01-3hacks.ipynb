{
 "cells": [
  {
   "attachments": {},
   "cell_type": "markdown",
   "metadata": {},
   "source": [
    "# Lesson 3 hacks\n",
    "> this post is regarding the hacks for topics 3.5 - 3.7\n",
    "- toc: true\n",
    "- badges: true\n",
    "- categories: [lesson(tri2), notes(tri2), hacks(tri2)]\n",
    "- title: 3.5 - 3.7 hacks"
   ]
  },
  {
   "cell_type": "markdown",
   "metadata": {},
   "source": [
    "# Hacks 1:\n",
    "1. NOT: Reverses the result. Ex: false if result is true\n",
    "2. AND: evaluates to true if given conditions are true\n",
    "3. OR: evaluates to true when either or both of the conditions are true"
   ]
  },
  {
   "cell_type": "code",
   "execution_count": 2,
   "metadata": {},
   "outputs": [
    {
     "name": "stdout",
     "output_type": "stream",
     "text": [
      "True\n",
      "True\n",
      "True\n"
     ]
    }
   ],
   "source": [
    "# In this scenario, let's assume:\n",
    "# username is noor\n",
    "# score is 25\n",
    "# gameover is false\n",
    "username = \"noor\" \n",
    "score = 25\n",
    "gameover = False\n",
    "\n",
    "\n",
    "# AND: true example\n",
    "AND = username == \"noor\" and score > 20 \n",
    "print(AND)\n",
    "\n",
    "# NOT: true example\n",
    "NOT = not username == \"joe\"\n",
    "print(NOT)\n",
    "\n",
    "# OR: true example\n",
    "OR = score > 20 or username == \"joe\"\n",
    "print(OR)"
   ]
  },
  {
   "cell_type": "markdown",
   "metadata": {},
   "source": [
    "# Hacks 2: \n",
    "1. Selection: basically selecting which part of an algorithm to execute based on an input or other parameter\n",
    "2. Algorithm: set of procedures that is created to solve a specific problem (problem can be anything; problem doesn't need to be a critical one)\n",
    "3. Conditional statement: instructs the code to make a decision based on a true or false condition "
   ]
  },
  {
   "cell_type": "code",
   "execution_count": null,
   "metadata": {},
   "outputs": [],
   "source": [
    "x = 9\n",
    "\n",
    "if x % 2 == 0:\n",
    "    print(\"this is an even number!\")\n",
    "\n",
    "else:\n",
    "    print(\"this is an odd number\")"
   ]
  },
  {
   "cell_type": "markdown",
   "metadata": {},
   "source": [
    "# How I furthered my understanding:\n",
    "Change the variables in the first section, so that each if statement resolves as True."
   ]
  },
  {
   "cell_type": "code",
   "execution_count": null,
   "metadata": {},
   "outputs": [],
   "source": [
    "# change this code\n",
    "number = 10\n",
    "second_number = 10\n",
    "first_array = []\n",
    "second_array = [1,2,3]\n",
    "\n",
    "if number > 15:\n",
    "    print(\"1\")\n",
    "\n",
    "if first_array:\n",
    "    print(\"2\")\n",
    "\n",
    "if len(second_array) == 2:\n",
    "    print(\"3\")\n",
    "\n",
    "if len(first_array) + len(second_array) == 5:\n",
    "    print(\"4\")\n",
    "\n",
    "if first_array and first_array[0] == 1:\n",
    "    print(\"5\")\n",
    "\n",
    "if not second_number:\n",
    "    print(\"6\")"
   ]
  },
  {
   "cell_type": "markdown",
   "metadata": {},
   "source": [
    "Solution:"
   ]
  },
  {
   "cell_type": "code",
   "execution_count": null,
   "metadata": {},
   "outputs": [],
   "source": [
    "# solution\n",
    "number = 16\n",
    "second_number = 6\n",
    "first_array = [1,2,3]\n",
    "second_array = [3,2]\n",
    "\n",
    "if number > 15:\n",
    "    print(\"1\")\n",
    "\n",
    "if first_array:\n",
    "    print(\"2\")\n",
    "\n",
    "if len(second_array) == 2:\n",
    "    print(\"3\")\n",
    "\n",
    "if len(first_array) + len(second_array) == 5:\n",
    "    print(\"4\")\n",
    "\n",
    "if first_array and first_array[0] == 1:\n",
    "    print(\"5\")\n",
    "\n",
    "if not second_number:\n",
    "    print(\"6\")"
   ]
  },
  {
   "cell_type": "markdown",
   "metadata": {},
   "source": [
    "# Hacks 3:"
   ]
  },
  {
   "cell_type": "code",
   "execution_count": null,
   "metadata": {},
   "outputs": [],
   "source": [
    "if money < 100:\n",
    "\n",
    "    if item == \"in stock\":\n",
    "        print(\"item is available for purchase\")\n",
    "        if itemprice > money:\n",
    "            print(\"item can't be purchased\")\n",
    "        elif itemprice <= money:\n",
    "            print(\"item can be purchased\")\n",
    "    else:\n",
    "        print(\"item is not in stock\")\n",
    "    "
   ]
  },
  {
   "cell_type": "code",
   "execution_count": null,
   "metadata": {},
   "outputs": [],
   "source": [
    "temp = 65\n",
    "bringjacket = True\n",
    "\n",
    "if temp < 65:\n",
    "    if bringjacket == True:\n",
    "        print(\"its really cold! Good thing you brought your jacket\")\n",
    "    elif bringjacket == False:\n",
    "        print(\"its really cold and you should have brought your jacket!\")\n",
    "elif temp >= 65:\n",
    "    if bringjacket == False: \n",
    "        print(\"its warm, you don't need a jacket right now anyways\")\n",
    "    else:\n",
    "        print(\"its really hot!\")"
   ]
  },
  {
   "cell_type": "code",
   "execution_count": null,
   "metadata": {},
   "outputs": [],
   "source": [
    "stem = [\"Honors POE\", \"Calculus\", \"APCSP\"]\n",
    "arts = [\"3d animation\", \"AP music theory\", \"photography\"]\n",
    "PE = [\"weightlifting\", \"racket sports\", \"field sports\"]\n",
    "\n",
    "x = input(\"what is your preferred course pathway?\")\n",
    "\n",
    "if x == \"stem\":\n",
    "    print(stem)\n",
    "elif x == \"arts\":\n",
    "    print(arts)\n",
    "else:\n",
    "    print(PE)"
   ]
  },
  {
   "cell_type": "markdown",
   "metadata": {},
   "source": [
    "The code above counts for both the flow chart section and classes section of the hacks. Code that can display four statements is below:"
   ]
  },
  {
   "cell_type": "code",
   "execution_count": null,
   "metadata": {},
   "outputs": [],
   "source": [
    "if money < 100:\n",
    "\n",
    "    if item == \"in stock\":\n",
    "        print(\"item is available for purchase\")\n",
    "        if itemprice > money:\n",
    "            print(\"item can't be purchased\")\n",
    "        elif itemprice <= money:\n",
    "            print(\"item can be purchased\")\n",
    "    else:\n",
    "        print(\"item is not in stock\")"
   ]
  }
 ],
 "metadata": {
  "kernelspec": {
   "display_name": "Python 3.8.10 64-bit",
   "language": "python",
   "name": "python3"
  },
  "language_info": {
   "codemirror_mode": {
    "name": "ipython",
    "version": 3
   },
   "file_extension": ".py",
   "mimetype": "text/x-python",
   "name": "python",
   "nbconvert_exporter": "python",
   "pygments_lexer": "ipython3",
   "version": "3.8.10 (default, Jun 22 2022, 20:18:18) \n[GCC 9.4.0]"
  },
  "orig_nbformat": 4,
  "vscode": {
   "interpreter": {
    "hash": "916dbcbb3f70747c44a77c7bcd40155683ae19c65e1c03b4aa3499c5328201f1"
   }
  }
 },
 "nbformat": 4,
 "nbformat_minor": 2
}
